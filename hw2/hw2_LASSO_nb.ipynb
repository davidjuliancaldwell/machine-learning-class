{
 "cells": [
  {
   "cell_type": "code",
   "execution_count": 1,
   "metadata": {},
   "outputs": [],
   "source": [
    "# import modules\n",
    "import numpy as np\n",
    "import matplotlib.pyplot as plt\n",
    "import scipy\n",
    "import seaborn as sns\n",
    "import copy\n",
    "sns.set()\n",
    "\n",
    "%matplotlib inline\n",
    "\n",
    "from IPython.core.interactiveshell import InteractiveShell\n",
    "InteractiveShell.ast_node_interactivity = \"all\""
   ]
  },
  {
   "cell_type": "markdown",
   "metadata": {},
   "source": [
    "### Generate data"
   ]
  },
  {
   "cell_type": "code",
   "execution_count": 6,
   "metadata": {},
   "outputs": [],
   "source": [
    "def generateData():\n",
    "    n = 50\n",
    "    d = 75\n",
    "    k = 5 \n",
    "    sigma = 1\n",
    "\n",
    "    # generate x_i\n",
    "    cov_mat = np.identity(d)\n",
    "    avg = np.zeros((d,))\n",
    "    x = np.random.multivariate_normal(avg,cov_mat,n)\n",
    "\n",
    "    # epsilon vec\n",
    "    epsilon_vec = np.random.normal(loc=0,scale=sigma)\n",
    "\n",
    "    # w_star_0\n",
    "    w_star_0 = 0\n",
    "    w_star = np.zeros((d,))\n",
    "    w_star[0:k] = np.random.randint(low = 1,high=3, size=k)\n",
    "    w_star[w_star==2] = -10\n",
    "    w_star[w_star==1] = 10\n",
    "\n",
    "\n",
    "    # generate y \n",
    "    y = np.dot(x,w_star) + w_star_0 + epsilon_vec\n",
    "    \n",
    "    return y,x,w_star,k\n",
    "    \n",
    "def lambda_max_func(x,y):\n",
    "    k = np.shape(x)[1]\n",
    "    n = np.shape(x)[0]\n",
    "    lambda_vec = []\n",
    "    sum_y = (1/n)*np.sum(y[:])\n",
    "    for k_ind in np.arange(k):\n",
    "        \n",
    "        lambda_val = 2*np.abs(np.dot(x[:,k_ind].T,(y-sum_y)))\n",
    "        lambda_vec.append(lambda_val)\n",
    "    lambda_max = np.max(lambda_vec)\n",
    "    return lambda_max\n",
    "\n",
    "    \n",
    "### lasso!\n",
    "def lasso_CD(x,y,lambda_val,w_init):\n",
    "    ### initialize conditions \n",
    "    delta = 1e-3\n",
    "    n = np.shape(x)[0]\n",
    "    d = np.shape(x)[1]\n",
    "\n",
    "    stop_cond = 100\n",
    "    w = w_init\n",
    "    a = np.zeros((d,))\n",
    "    c = np.zeros((d,))\n",
    "    stop_cond_vec = []\n",
    "    w_old = np.zeros((d,))\n",
    "\n",
    "    while(stop_cond>delta):\n",
    "        diff_y_x = y - np.dot(x,w)\n",
    "        w_0 = (1/n)*np.sum(diff_y_x)\n",
    "\n",
    "        for k in np.arange(d):\n",
    "            a[k] = 2*np.dot(x[:,k].T,x[:,k])\n",
    "            \n",
    "            # bool version\n",
    "            mask = np.ones(d,dtype=bool)\n",
    "            mask[k] = 0\n",
    "            x_temp = x[:,mask]\n",
    "            w_temp = w[mask]\n",
    "            \n",
    "            # delete version\n",
    "            #x_temp = np.delete(x,k,axis=1)\n",
    "            #w_temp = np.delete(w,k,axis=0)\n",
    "\n",
    "            diff_y_x_w0 = y - w_0 - np.dot(x_temp,w_temp)\n",
    "            c[k] = 2*np.dot(x[:,k].T,diff_y_x_w0)\n",
    "\n",
    "            if c[k] < - lambda_val:\n",
    "                w[k] = ((c[k]+lambda_val))/a[k]\n",
    "            elif (-lambda_val < c[k] < lambda_val):\n",
    "                w[k] = 0\n",
    "            elif c[k] > lambda_val:\n",
    "                w[k] = ((c[k]-lambda_val))/a[k]\n",
    "\n",
    "        weight_diff = w - w_old\n",
    "        w_old = copy.deepcopy(w)\n",
    "\n",
    "\n",
    "        stop_cond = np.max(weight_diff)\n",
    "        stop_cond_vec.append(stop_cond)\n",
    "    \n",
    "    return w,stop_cond_vec\n",
    "\n",
    "def lasso_loop(x,y,k):\n",
    "    w_vec = []\n",
    "    num_non_zero_vec = []\n",
    "    correct_non_zero_vec = []\n",
    "    lambda_val = lambda_max_func(x,y)\n",
    "    lambda_vec = []\n",
    "    \n",
    "    ground_truth = np.zeros((np.shape(x)[1],))\n",
    "    ground_truth[0:5] = 1\n",
    "    correct_non_zero = 100\n",
    "    correct_elems = 100\n",
    "    \n",
    "    w_init = np.random.random(np.shape(x)[1])\n",
    "    \n",
    "    while (correct_elems>(8)):\n",
    "        w,stop_cond_vec = lasso_CD(x,y,lambda_val,w_init)\n",
    "        # total non zero \n",
    "        num_non_zero = sum((x!=0 for x in w))\n",
    "        \n",
    "        # correct non zeros \n",
    "        w_logical = w!=0\n",
    "        correct_non_zero = sum(np.logical_and(ground_truth,w_logical))\n",
    "        \n",
    "        w_init = copy.deepcopy(w)\n",
    "        w_vec.append(w)\n",
    "        num_non_zero_vec.append(num_non_zero)\n",
    "        correct_non_zero_vec.append(correct_non_zero)\n",
    "        lambda_vec.append(lambda_val)\n",
    "        \n",
    "        ratio = 4/5\n",
    "        \n",
    "        lambda_val = lambda_val*ratio\n",
    "        correct_elems = sum(w_logical == ground_truth)\n",
    "        \n",
    "        print('number of correct elements is {}'.format(correct_elems))\n",
    "    \n",
    "    return w_vec,num_non_zero_vec,correct_non_zero_vec,lambda_vec\n",
    "\n",
    "def plot_precision_recall(num_non_zero_vec,correct_non_zero_vec,lambda_vec,k):\n",
    "    \n",
    "    \n",
    "    # plot precision\n",
    "    #count nonzero\n",
    "    \n",
    "    ax1 = plt.figure()\n",
    "    precision = np.array(correct_non_zero_vec)/np.array(num_non_zero_vec)\n",
    "    plt.plot(lambda_vec,precision)\n",
    "    plt.xlabel(r'$ \\lambda $')\n",
    "    plt.title('Precision')\n",
    "    \n",
    "    # plot recall \n",
    "    ax2 = plt.figure()\n",
    "    recall = np.array(correct_non_zero_vec)/k\n",
    "    plt.plot(lambda_vec,recall)\n",
    "    plt.xlabel(r'$ \\lambda $')\n",
    "    plt.title('Recall')\n",
    "\n",
    "\n",
    "def plot_lasso(w,stop_cond_vec,w_star):\n",
    "    ax1 = sns.distplot(w, rug=True,hist=True,bins=100, kde=False, rug_kws={\"color\": \"g\"},hist_kws={\"histtype\": \"step\", \"linewidth\": 3, \"alpha\": 1, \"color\": \"g\"})\n",
    "\n",
    "    plt.figure()\n",
    "    ax3 = plt.bar(np.arange(len(w_star)),w_star,label='w*')\n",
    "    ax2 = plt.bar(np.arange(len(w)),1.1*w,label='computed weight matrix')\n",
    "    plt.legend()\n",
    "    plt.ylim([-10,10])\n",
    "\n",
    "    plt.figure()\n",
    "    ax3 = plt.plot(np.arange(len(stop_cond_vec)),stop_cond_vec)\n",
    "    plt.ylim([0,0.05])"
   ]
  },
  {
   "cell_type": "code",
   "execution_count": 7,
   "metadata": {},
   "outputs": [
    {
     "name": "stdout",
     "output_type": "stream",
     "text": [
      "number of correct elements is 71\n",
      "number of correct elements is 72\n",
      "number of correct elements is 72\n",
      "number of correct elements is 73\n",
      "number of correct elements is 73\n",
      "number of correct elements is 73\n",
      "number of correct elements is 74\n",
      "number of correct elements is 74\n",
      "number of correct elements is 75\n",
      "number of correct elements is 75\n",
      "number of correct elements is 75\n",
      "number of correct elements is 75\n",
      "number of correct elements is 75\n",
      "number of correct elements is 75\n",
      "number of correct elements is 75\n",
      "number of correct elements is 75\n",
      "number of correct elements is 75\n",
      "number of correct elements is 75\n",
      "number of correct elements is 75\n",
      "number of correct elements is 75\n",
      "number of correct elements is 75\n",
      "number of correct elements is 75\n",
      "number of correct elements is 75\n",
      "number of correct elements is 75\n",
      "number of correct elements is 75\n",
      "number of correct elements is 75\n",
      "number of correct elements is 75\n",
      "number of correct elements is 75\n",
      "number of correct elements is 75\n",
      "number of correct elements is 75\n",
      "number of correct elements is 75\n",
      "number of correct elements is 75\n",
      "number of correct elements is 75\n",
      "number of correct elements is 75\n",
      "number of correct elements is 75\n",
      "number of correct elements is 75\n",
      "number of correct elements is 75\n",
      "number of correct elements is 75\n",
      "number of correct elements is 75\n",
      "number of correct elements is 75\n",
      "number of correct elements is 75\n",
      "number of correct elements is 75\n",
      "number of correct elements is 75\n",
      "number of correct elements is 75\n",
      "number of correct elements is 75\n",
      "number of correct elements is 75\n",
      "number of correct elements is 75\n",
      "number of correct elements is 75\n",
      "number of correct elements is 75\n",
      "number of correct elements is 75\n",
      "number of correct elements is 75\n",
      "number of correct elements is 75\n",
      "number of correct elements is 75\n",
      "number of correct elements is 75\n",
      "number of correct elements is 75\n",
      "number of correct elements is 75\n",
      "number of correct elements is 75\n",
      "number of correct elements is 75\n",
      "number of correct elements is 75\n",
      "number of correct elements is 75\n",
      "number of correct elements is 75\n",
      "number of correct elements is 75\n",
      "number of correct elements is 75\n",
      "number of correct elements is 75\n",
      "number of correct elements is 75\n",
      "number of correct elements is 75\n",
      "number of correct elements is 75\n",
      "number of correct elements is 75\n",
      "number of correct elements is 75\n",
      "number of correct elements is 75\n",
      "number of correct elements is 75\n",
      "number of correct elements is 75\n",
      "number of correct elements is 75\n",
      "number of correct elements is 75\n",
      "number of correct elements is 75\n",
      "number of correct elements is 75\n",
      "number of correct elements is 75\n",
      "number of correct elements is 75\n",
      "number of correct elements is 75\n",
      "number of correct elements is 75\n",
      "number of correct elements is 75\n",
      "number of correct elements is 75\n",
      "number of correct elements is 75\n",
      "number of correct elements is 75\n",
      "number of correct elements is 75\n",
      "number of correct elements is 75\n",
      "number of correct elements is 75\n",
      "number of correct elements is 75\n",
      "number of correct elements is 75\n",
      "number of correct elements is 75\n",
      "number of correct elements is 75\n",
      "number of correct elements is 75\n",
      "number of correct elements is 75\n",
      "number of correct elements is 75\n",
      "number of correct elements is 75\n",
      "number of correct elements is 75\n",
      "number of correct elements is 75\n",
      "number of correct elements is 75\n",
      "number of correct elements is 75\n",
      "number of correct elements is 75\n",
      "number of correct elements is 75\n",
      "number of correct elements is 75\n",
      "number of correct elements is 75\n",
      "number of correct elements is 75\n",
      "number of correct elements is 75\n",
      "number of correct elements is 75\n",
      "number of correct elements is 75\n",
      "number of correct elements is 75\n",
      "number of correct elements is 75\n",
      "number of correct elements is 75\n",
      "number of correct elements is 75\n",
      "number of correct elements is 75\n",
      "number of correct elements is 75\n",
      "number of correct elements is 75\n",
      "number of correct elements is 75\n",
      "number of correct elements is 75\n",
      "number of correct elements is 75\n",
      "number of correct elements is 75\n",
      "number of correct elements is 75\n",
      "number of correct elements is 75\n",
      "number of correct elements is 75\n",
      "number of correct elements is 75\n",
      "number of correct elements is 75\n",
      "number of correct elements is 75\n",
      "number of correct elements is 75\n",
      "number of correct elements is 75\n",
      "number of correct elements is 75\n",
      "number of correct elements is 75\n",
      "number of correct elements is 75\n",
      "number of correct elements is 75\n",
      "number of correct elements is 75\n",
      "number of correct elements is 75\n",
      "number of correct elements is 75\n",
      "number of correct elements is 75\n",
      "number of correct elements is 75\n",
      "number of correct elements is 75\n",
      "number of correct elements is 75\n",
      "number of correct elements is 75\n",
      "number of correct elements is 75\n",
      "number of correct elements is 75\n",
      "number of correct elements is 75\n",
      "number of correct elements is 75\n",
      "number of correct elements is 75\n",
      "number of correct elements is 75\n",
      "number of correct elements is 75\n",
      "number of correct elements is 75\n",
      "number of correct elements is 75\n",
      "number of correct elements is 75\n",
      "number of correct elements is 75\n",
      "number of correct elements is 75\n",
      "number of correct elements is 75\n",
      "number of correct elements is 75\n",
      "number of correct elements is 75\n",
      "number of correct elements is 75\n",
      "number of correct elements is 75\n",
      "number of correct elements is 75\n",
      "number of correct elements is 75\n",
      "number of correct elements is 74\n",
      "number of correct elements is 75\n",
      "number of correct elements is 75\n",
      "number of correct elements is 74\n",
      "number of correct elements is 74\n",
      "number of correct elements is 75\n",
      "number of correct elements is 75\n",
      "number of correct elements is 74\n",
      "number of correct elements is 64\n",
      "number of correct elements is 66\n",
      "number of correct elements is 64\n",
      "number of correct elements is 51\n",
      "number of correct elements is 53\n",
      "number of correct elements is 44\n",
      "number of correct elements is 31\n",
      "number of correct elements is 28\n",
      "number of correct elements is 21\n",
      "number of correct elements is 15\n",
      "number of correct elements is 14\n",
      "number of correct elements is 10\n",
      "number of correct elements is 6\n"
     ]
    },
    {
     "data": {
      "image/png": "[encoded data removed]",
      "text/plain": [
       "<matplotlib.figure.Figure at 0x113df2a58>"
      ]
     },
     "metadata": {},
     "output_type": "display_data"
    },
    {
     "data": {
      "image/png": "[encoded data removed]",
      "text/plain": [
       "<matplotlib.figure.Figure at 0x113ed0eb8>"
      ]
     },
     "metadata": {},
     "output_type": "display_data"
    }
   ],
   "source": [
    "y,x,w_star,k = generateData()\n",
    "w_vec,num_non_zero_vec,correct_non_zero_vec,lambda_vec = lasso_loop(x,y,k)\n",
    "plot_precision_recall(num_non_zero_vec,correct_non_zero_vec,lambda_vec,k)"
   ]
  },
  {
   "cell_type": "code",
   "execution_count": 25,
   "metadata": {},
   "outputs": [
    {
     "data": {
      "text/plain": [
       "[0,\n",
       " 2,\n",
       " 3,\n",
       " 4,\n",
       " 4,\n",
       " 4,\n",
       " 5,\n",
       " 5,\n",
       " 5,\n",
       " 5,\n",
       " 5,\n",
       " 5,\n",
       " 5,\n",
       " 5,\n",
       " 5,\n",
       " 5,\n",
       " 5,\n",
       " 5,\n",
       " 5,\n",
       " 5,\n",
       " 5,\n",
       " 5,\n",
       " 5,\n",
       " 5,\n",
       " 5,\n",
       " 5,\n",
       " 5,\n",
       " 5,\n",
       " 5,\n",
       " 5,\n",
       " 5,\n",
       " 5,\n",
       " 5,\n",
       " 5,\n",
       " 5,\n",
       " 6,\n",
       " 5,\n",
       " 6,\n",
       " 6,\n",
       " 6,\n",
       " 7,\n",
       " 7,\n",
       " 7,\n",
       " 9,\n",
       " 11,\n",
       " 18,\n",
       " 20,\n",
       " 17,\n",
       " 73]"
      ]
     },
     "execution_count": 25,
     "metadata": {},
     "output_type": "execute_result"
    },
    {
     "data": {
      "text/plain": [
       "[0,\n",
       " 2,\n",
       " 3,\n",
       " 4,\n",
       " 4,\n",
       " 4,\n",
       " 5,\n",
       " 5,\n",
       " 5,\n",
       " 5,\n",
       " 5,\n",
       " 5,\n",
       " 5,\n",
       " 5,\n",
       " 5,\n",
       " 5,\n",
       " 5,\n",
       " 5,\n",
       " 5,\n",
       " 5,\n",
       " 5,\n",
       " 5,\n",
       " 5,\n",
       " 5,\n",
       " 5,\n",
       " 5,\n",
       " 5,\n",
       " 5,\n",
       " 5,\n",
       " 5,\n",
       " 5,\n",
       " 5,\n",
       " 5,\n",
       " 5,\n",
       " 5,\n",
       " 5,\n",
       " 5,\n",
       " 5,\n",
       " 5,\n",
       " 5,\n",
       " 5,\n",
       " 5,\n",
       " 5,\n",
       " 5,\n",
       " 5,\n",
       " 5,\n",
       " 5,\n",
       " 5,\n",
       " 5]"
      ]
     },
     "execution_count": 25,
     "metadata": {},
     "output_type": "execute_result"
    },
    {
     "data": {
      "text/plain": [
       "[1445.4007125934627,\n",
       " 1156.3205700747701,\n",
       " 925.05645605981613,\n",
       " 740.0451648478529,\n",
       " 592.03613187828239,\n",
       " 473.62890550262591,\n",
       " 378.90312440210073,\n",
       " 303.1224995216806,\n",
       " 242.49799961734448,\n",
       " 193.9983996938756,\n",
       " 155.19871975510048,\n",
       " 124.1589758040804,\n",
       " 99.327180643264327,\n",
       " 79.461744514611468,\n",
       " 63.569395611689174,\n",
       " 50.855516489351345,\n",
       " 40.684413191481077,\n",
       " 32.547530553184863,\n",
       " 26.038024442547893,\n",
       " 20.830419554038315,\n",
       " 16.664335643230654,\n",
       " 13.331468514584524,\n",
       " 10.665174811667619,\n",
       " 8.5321398493340954,\n",
       " 6.8257118794672769,\n",
       " 5.4605695035738222,\n",
       " 4.3684556028590578,\n",
       " 3.4947644822872466,\n",
       " 2.7958115858297976,\n",
       " 2.2366492686638382,\n",
       " 1.7893194149310707,\n",
       " 1.4314555319448568,\n",
       " 1.1451644255558855,\n",
       " 0.91613154044470846,\n",
       " 0.73290523235576677,\n",
       " 0.58632418588461344,\n",
       " 0.46905934870769078,\n",
       " 0.37524747896615263,\n",
       " 0.30019798317292212,\n",
       " 0.24015838653833771,\n",
       " 0.19212670923067018,\n",
       " 0.15370136738453616,\n",
       " 0.12296109390762894,\n",
       " 0.09836887512610315,\n",
       " 0.078695100100882528,\n",
       " 0.062956080080706023,\n",
       " 0.050364864064564821,\n",
       " 0.040291891251651862,\n",
       " 0.03223351300132149]"
      ]
     },
     "execution_count": 25,
     "metadata": {},
     "output_type": "execute_result"
    },
    {
     "name": "stderr",
     "output_type": "stream",
     "text": [
      "/Users/djcald/Virtualenvs/sciPyagain/lib/python3.6/site-packages/ipykernel_launcher.py:5: RuntimeWarning: invalid value encountered in true_divide\n",
      "  \"\"\"\n"
     ]
    },
    {
     "data": {
      "text/plain": [
       "array([        nan,  1.        ,  1.        ,  1.        ,  1.        ,\n",
       "        1.        ,  1.        ,  1.        ,  1.        ,  1.        ,\n",
       "        1.        ,  1.        ,  1.        ,  1.        ,  1.        ,\n",
       "        1.        ,  1.        ,  1.        ,  1.        ,  1.        ,\n",
       "        1.        ,  1.        ,  1.        ,  1.        ,  1.        ,\n",
       "        1.        ,  1.        ,  1.        ,  1.        ,  1.        ,\n",
       "        1.        ,  1.        ,  1.        ,  1.        ,  1.        ,\n",
       "        0.83333333,  1.        ,  0.83333333,  0.83333333,  0.83333333,\n",
       "        0.71428571,  0.71428571,  0.71428571,  0.55555556,  0.45454545,\n",
       "        0.27777778,  0.25      ,  0.29411765,  0.06849315])"
      ]
     },
     "execution_count": 25,
     "metadata": {},
     "output_type": "execute_result"
    }
   ],
   "source": [
    "num_non_zero_vec\n",
    "correct_non_zero_vec\n",
    "lambda_vec\n",
    "\n",
    "precision = np.array(correct_non_zero_vec)/np.array(num_non_zero_vec)\n",
    "precision\n"
   ]
  },
  {
   "cell_type": "code",
   "execution_count": null,
   "metadata": {},
   "outputs": [],
   "source": []
  },
  {
   "cell_type": "code",
   "execution_count": 11,
   "metadata": {},
   "outputs": [],
   "source": [
    "\n",
    "lambda_val = 100\n",
    "w,stop_cond_vec = lasso_CD(x,y,lambda_val)"
   ]
  },
  {
   "cell_type": "code",
   "execution_count": 12,
   "metadata": {},
   "outputs": [
    {
     "data": {
      "image/png": "[encoded data removed]",
      "text/plain": [
       "<matplotlib.figure.Figure at 0x113ec8b00>"
      ]
     },
     "metadata": {},
     "output_type": "display_data"
    },
    {
     "data": {
      "image/png": "[encoded data removed]",
      "text/plain": [
       "<matplotlib.figure.Figure at 0x1133e58d0>"
      ]
     },
     "metadata": {},
     "output_type": "display_data"
    },
    {
     "data": {
      "image/png": "[encoded data removed]",
      "text/plain": [
       "<matplotlib.figure.Figure at 0x1141d8a58>"
      ]
     },
     "metadata": {},
     "output_type": "display_data"
    }
   ],
   "source": [
    "plot_lasso(w,stop_cond_vec,w_star)\n"
   ]
  },
  {
   "cell_type": "code",
   "execution_count": 34,
   "metadata": {},
   "outputs": [
    {
     "data": {
      "text/plain": [
       "69"
      ]
     },
     "execution_count": 34,
     "metadata": {},
     "output_type": "execute_result"
    }
   ],
   "source": [
    "np.sum([x==0 for x in w]"
   ]
  },
  {
   "cell_type": "code",
   "execution_count": 68,
   "metadata": {},
   "outputs": [
    {
     "data": {
      "text/plain": [
       "(2, 75)"
      ]
     },
     "execution_count": 68,
     "metadata": {},
     "output_type": "execute_result"
    },
    {
     "data": {
      "text/plain": [
       "array([69, 69])"
      ]
     },
     "execution_count": 68,
     "metadata": {},
     "output_type": "execute_result"
    }
   ],
   "source": [
    "a = np.row_stack((w,w))\n",
    "\n",
    "np.shape(a)\n",
    "\n",
    "sum((x==0 for x in a.T))"
   ]
  },
  {
   "cell_type": "code",
   "execution_count": 20,
   "metadata": {},
   "outputs": [
    {
     "data": {
      "text/plain": [
       "array([ 1.,  1.,  1.,  1.,  1.,  0.,  0.,  0.,  0.,  0.,  0.,  0.,  0.,\n",
       "        0.,  0.,  0.,  0.,  0.,  0.,  0.,  0.,  0.,  0.,  0.,  0.,  0.,\n",
       "        0.,  0.,  0.,  0.,  0.,  0.,  0.,  0.,  0.,  0.,  0.,  0.,  0.,\n",
       "        0.,  0.,  0.,  0.,  0.,  0.,  0.,  0.,  0.,  0.,  0.,  0.,  0.,\n",
       "        0.,  0.,  0.,  0.,  0.,  0.,  0.,  0.,  0.,  0.,  0.,  0.,  0.,\n",
       "        0.,  0.,  0.,  0.,  0.,  0.,  0.,  0.,  0.,  0.])"
      ]
     },
     "execution_count": 20,
     "metadata": {},
     "output_type": "execute_result"
    },
    {
     "data": {
      "text/plain": [
       "array([ True,  True,  True,  True,  True, False, False, False, False,\n",
       "       False, False, False, False, False, False, False, False, False,\n",
       "       False, False, False, False, False, False, False, False, False,\n",
       "       False, False, False, False, False, False, False, False, False,\n",
       "       False, False, False, False, False, False, False, False, False,\n",
       "       False, False, False, False, False, False, False, False, False,\n",
       "       False, False, False, False, False, False, False, False, False,\n",
       "       False, False, False, False, False, False, False, False, False,\n",
       "       False, False, False], dtype=bool)"
      ]
     },
     "execution_count": 20,
     "metadata": {},
     "output_type": "execute_result"
    },
    {
     "name": "stdout",
     "output_type": "stream",
     "text": [
      "[ True  True  True  True  True False False False False False False False\n",
      " False False False False False False False False False False False False\n",
      " False False False False False False False False False False False False\n",
      " False False False False False False False False False False False False\n",
      " False False False False False False False False False False False False\n",
      " False False False False False False False False False False False False\n",
      " False False False]\n"
     ]
    }
   ],
   "source": [
    "ground_truth = np.zeros((np.shape(x)[1],))\n",
    "ground_truth[0:5] = 1\n",
    "\n",
    "# total non zero \n",
    "num_non_zero = sum((x==0 for x in w))\n",
    "\n",
    "# correct non zeros \n",
    "w_logical = w!=0\n",
    "\n",
    "ground_truth \n",
    "correct_non_zero = sum(w_logical==ground_truth)\n",
    "w_logical\n",
    "print(w_logical)"
   ]
  },
  {
   "cell_type": "code",
   "execution_count": 94,
   "metadata": {},
   "outputs": [
    {
     "data": {
      "text/plain": [
       "array([ True,  True,  True,  True,  True, False, False, False, False,\n",
       "       False, False, False, False, False, False, False, False, False,\n",
       "       False, False, False, False, False, False, False, False, False,\n",
       "       False, False, False, False, False, False, False, False, False,\n",
       "       False, False, False, False, False, False, False, False, False,\n",
       "       False, False, False, False, False, False, False, False, False,\n",
       "       False, False, False, False, False, False, False, False, False,\n",
       "       False, False, False, False, False, False, False, False, False,\n",
       "       False, False, False], dtype=bool)"
      ]
     },
     "execution_count": 94,
     "metadata": {},
     "output_type": "execute_result"
    }
   ],
   "source": [
    "np.logical_and(ground_truth,w_logical)"
   ]
  },
  {
   "cell_type": "code",
   "execution_count": 10,
   "metadata": {},
   "outputs": [
    {
     "ename": "NameError",
     "evalue": "name 'w' is not defined",
     "output_type": "error",
     "traceback": [
      "\u001b[0;31m---------------------------------------------------------------------------\u001b[0m",
      "\u001b[0;31mNameError\u001b[0m                                 Traceback (most recent call last)",
      "\u001b[0;32m<ipython-input-10-1383489318f5>\u001b[0m in \u001b[0;36m<module>\u001b[0;34m()\u001b[0m\n\u001b[0;32m----> 1\u001b[0;31m \u001b[0mw_logical\u001b[0m \u001b[0;34m=\u001b[0m \u001b[0mw\u001b[0m\u001b[0;34m!=\u001b[0m\u001b[0;36m0\u001b[0m\u001b[0;34m\u001b[0m\u001b[0m\n\u001b[0m\u001b[1;32m      2\u001b[0m \u001b[0mw_logical\u001b[0m\u001b[0;34m\u001b[0m\u001b[0m\n",
      "\u001b[0;31mNameError\u001b[0m: name 'w' is not defined"
     ]
    }
   ],
   "source": [
    "w_logical = w!=0\n",
    "w_logical"
   ]
  },
  {
   "cell_type": "code",
   "execution_count": null,
   "metadata": {},
   "outputs": [],
   "source": []
  }
 ],
 "metadata": {
  "kernelspec": {
   "display_name": "Python 3",
   "language": "python",
   "name": "python3"
  },
  "language_info": {
   "codemirror_mode": {
    "name": "ipython",
    "version": 3
   },
   "file_extension": ".py",
   "mimetype": "text/x-python",
   "name": "python",
   "nbconvert_exporter": "python",
   "pygments_lexer": "ipython3",
   "version": "3.6.3"
  }
 },
 "nbformat": 4,
 "nbformat_minor": 2
}
