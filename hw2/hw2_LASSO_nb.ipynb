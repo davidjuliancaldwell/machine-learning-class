{
 "cells": [
  {
   "cell_type": "code",
   "execution_count": 4,
   "metadata": {},
   "outputs": [],
   "source": [
    "####\n",
    "# FIX NUM NON ZERO VEC np.abs(>0) vs !=0 in kaggle code \n",
    "\n",
    "# MEAN SUBTRACT FEATURES IN KAGGLE CODE? \n",
    "\n",
    "# import modules\n",
    "import numpy as np\n",
    "import matplotlib.pyplot as plt\n",
    "import scipy\n",
    "import seaborn as sns\n",
    "import copy\n",
    "import pylab\n",
    "sns.set()\n",
    "\n",
    "%matplotlib inline\n",
    "\n",
    "#from IPython.core.interactiveshell import InteractiveShell\n",
    "#InteractiveShell.ast_node_interactivity = \"all\""
   ]
  },
  {
   "cell_type": "markdown",
   "metadata": {},
   "source": [
    "### Generate data"
   ]
  },
  {
   "cell_type": "code",
   "execution_count": 2,
   "metadata": {},
   "outputs": [],
   "source": [
    "def generateData():\n",
    "    n = 50\n",
    "    d = 75\n",
    "    #n = 4000\n",
    "    #d = 6000\n",
    "    k = 5 \n",
    "    sigma = 1\n",
    "\n",
    "    # generate x_i\n",
    "    cov_mat = np.identity(d)\n",
    "    avg = np.zeros((d,))\n",
    "    x = np.random.multivariate_normal(avg,cov_mat,n)\n",
    "\n",
    "    # epsilon vec\n",
    "    epsilon_vec = np.random.normal(loc=0,scale=sigma)\n",
    "\n",
    "    # w_star_0\n",
    "    w_star_0 = 0\n",
    "    w_star = np.zeros((d,))\n",
    "    w_star[0:k] = np.random.randint(low = 1,high=3, size=k)\n",
    "    w_star[w_star==2] = -10\n",
    "    w_star[w_star==1] = 10\n",
    "\n",
    "\n",
    "    # generate y \n",
    "    y = np.dot(x,w_star) + w_star_0 + epsilon_vec\n",
    "    \n",
    "    return y,x,w_star,k\n",
    "    \n",
    "def lambda_max_func(x,y):\n",
    "    k = np.shape(x)[1]\n",
    "    n = np.shape(x)[0]\n",
    "    sum_y = (1/n)*np.sum(y[:])\n",
    "    y_reg = y - sum_y\n",
    "    k_range = np.arange(k)\n",
    "    lambda_max = np.max([2*np.abs(np.dot(x[:,k_ind].T,y_reg)) for k_ind in k_range])\n",
    "    print('the max lambda is {}'.format(lambda_max))\n",
    "    return lambda_max\n",
    "\n",
    "    \n",
    "### lasso!\n",
    "def lasso_CD(x,y,lambda_val,w_init):\n",
    "    ### initialize conditions \n",
    "    delta = 1e-4\n",
    "    n = np.shape(x)[0]\n",
    "    d = np.shape(x)[1]\n",
    "\n",
    "    stop_cond = 100\n",
    "    w = np.array(w_init)\n",
    "    a = np.zeros((d,))\n",
    "    c = np.zeros((d,))\n",
    "    stop_cond_vec = []\n",
    "    w_old = np.zeros((d,))\n",
    "\n",
    "    while(stop_cond>delta):\n",
    "        diff_y_x = (y - np.dot(x,w))\n",
    "        w_0 = (1/n)*np.sum(diff_y_x)\n",
    "        for k in np.arange(d):\n",
    "            a[k] = 2*np.dot(x[:,k].T,x[:,k])\n",
    "            \n",
    "            # subtract version\n",
    "            \n",
    "            diff_y_x_w0 = y - w_0 - np.dot(x,w) + x[:,k]*w[k]\n",
    "            \n",
    "            # bool version\n",
    "#             mask = np.ones(d,dtype=bool)\n",
    "#             mask[k] = 0\n",
    "#             x_temp = x[:,mask]\n",
    "#             w_temp = w[mask]\n",
    "\n",
    "#             diff_y_x_w0 = y - w_0 - np.dot(x_temp,w_temp)\n",
    "            c[k] = 2*np.dot(x[:,k].T,diff_y_x_w0)\n",
    "\n",
    "            if c[k] < -lambda_val:\n",
    "                w[k] = ((c[k]+lambda_val))/a[k]\n",
    "            elif (np.abs(c[k]) < lambda_val):\n",
    "                w[k] = 0\n",
    "            elif c[k] > lambda_val:\n",
    "                w[k] = ((c[k]-lambda_val))/a[k]\n",
    "\n",
    "        weight_diff = w - w_old\n",
    "        w_old = np.array(w)\n",
    "\n",
    "\n",
    "        stop_cond = np.max(weight_diff)\n",
    "        stop_cond_vec.append(stop_cond)\n",
    "    \n",
    "    return w,stop_cond_vec\n",
    "\n",
    "def lasso_loop(x,y,k):\n",
    "    w_vec = []\n",
    "    num_non_zero_vec = []\n",
    "    correct_non_zero_vec = []\n",
    "    lambda_val = lambda_max_func(x,y)\n",
    "    lambda_vec = []\n",
    "    \n",
    "    ground_truth = np.zeros((np.shape(x)[1],))\n",
    "    ground_truth[0:5] = 1\n",
    "    correct_elems = 100\n",
    "    \n",
    "    w_init = np.random.random(np.shape(x)[1])\n",
    "    \n",
    "    while (correct_elems>(33)):\n",
    "        w,stop_cond_vec = lasso_CD(x,y,lambda_val,w_init)\n",
    "        # total non zero \n",
    "        num_non_zero = sum((np.abs(x)>0 for x in w))\n",
    "        \n",
    "        # correct non zeros \n",
    "        w_logical = np.abs(w)>0\n",
    "        correct_non_zero = sum(np.logical_and(ground_truth,w_logical))\n",
    "        \n",
    "        #w_init = np.array(w)\n",
    "        w_init = np.random.random(np.shape(x)[1])\n",
    "\n",
    "        w_vec.append(w)\n",
    "        num_non_zero_vec.append(num_non_zero)\n",
    "        correct_non_zero_vec.append(correct_non_zero)\n",
    "        \n",
    "        lambda_vec.append(lambda_val)\n",
    "        \n",
    "        ratio_val = 4/5\n",
    "        \n",
    "        lambda_val*=ratio_val\n",
    "        correct_elems = sum(w_logical == ground_truth)\n",
    "        print('lambda is {}'.format(lambda_val))\n",
    "\n",
    "        print('number of correct elements is {}'.format(correct_elems))\n",
    "    \n",
    "\n",
    "    \n",
    "    return w_vec,num_non_zero_vec,correct_non_zero_vec,lambda_vec\n",
    "\n",
    "def plot_precision_recall(num_non_zero_vec,correct_non_zero_vec,lambda_vec,k):\n",
    "    \n",
    "    \n",
    "    # plot precision nad recall\n",
    "    #count nonzero\n",
    "    \n",
    "    ax1 = plt.figure(figsize=(4, 4), dpi=600)\n",
    "    ax1 = plt.figure()\n",
    "    precision = np.array(correct_non_zero_vec)/np.array(num_non_zero_vec)\n",
    "    plt.semilogx(lambda_vec,precision,label='precision')\n",
    "    plt.xlabel(r'$ \\lambda $')\n",
    "    recall = np.array(correct_non_zero_vec)/k\n",
    "    plt.semilogx(lambda_vec,recall,label='recall')\n",
    "    plt.ylabel('Normalized Precision/Recall')\n",
    "    plt.title('Precision and Recall vs. Lambda for lasso')\n",
    "    plt.legend()\n",
    "    plt.savefig('hw2_prob3_recall_precision_lasso_random')\n",
    "    \n",
    "    # plot recall \n",
    "\n",
    "def plot_lasso(w,stop_cond_vec,w_star):\n",
    "    ax1 = sns.distplot(w, rug=True,hist=True,bins=100, kde=False, rug_kws={\"color\": \"g\"},hist_kws={\"histtype\": \"step\", \"linewidth\": 3, \"alpha\": 1, \"color\": \"g\"})\n",
    "\n",
    "    plt.figure()\n",
    "    ax3 = plt.bar(np.arange(len(w_star)),w_star,label='w*')\n",
    "    ax2 = plt.bar(np.arange(len(w)),1.1*w,label='computed weight matrix')\n",
    "    plt.legend()\n",
    "    plt.ylim([-10,10])\n",
    "\n",
    "    plt.figure()\n",
    "    ax3 = plt.plot(np.arange(len(stop_cond_vec)),stop_cond_vec)\n",
    "    plt.ylim([0,0.05])"
   ]
  },
  {
   "cell_type": "code",
   "execution_count": 11,
   "metadata": {},
   "outputs": [
    {
     "name": "stdout",
     "output_type": "stream",
     "text": [
      "the max lambda is 1348.983288570696\n",
      "lambda is 1079.1866308565568\n",
      "number of correct elements is 70\n",
      "lambda is 863.3493046852454\n",
      "number of correct elements is 71\n",
      "lambda is 690.6794437481964\n",
      "number of correct elements is 72\n",
      "lambda is 552.5435549985572\n",
      "number of correct elements is 72\n",
      "lambda is 442.03484399884576\n",
      "number of correct elements is 73\n",
      "lambda is 353.62787519907664\n",
      "number of correct elements is 74\n",
      "lambda is 282.9023001592613\n",
      "number of correct elements is 75\n",
      "lambda is 226.32184012740905\n",
      "number of correct elements is 75\n",
      "lambda is 181.05747210192726\n",
      "number of correct elements is 75\n",
      "lambda is 144.84597768154183\n",
      "number of correct elements is 75\n",
      "lambda is 115.87678214523346\n",
      "number of correct elements is 75\n",
      "lambda is 92.70142571618678\n",
      "number of correct elements is 75\n",
      "lambda is 74.16114057294942\n",
      "number of correct elements is 75\n",
      "lambda is 59.32891245835954\n",
      "number of correct elements is 75\n",
      "lambda is 47.46312996668763\n",
      "number of correct elements is 75\n",
      "lambda is 37.970503973350105\n",
      "number of correct elements is 75\n",
      "lambda is 30.376403178680086\n",
      "number of correct elements is 75\n",
      "lambda is 24.30112254294407\n",
      "number of correct elements is 75\n",
      "lambda is 19.440898034355257\n",
      "number of correct elements is 75\n",
      "lambda is 15.552718427484207\n",
      "number of correct elements is 75\n",
      "lambda is 12.442174741987365\n",
      "number of correct elements is 75\n",
      "lambda is 9.953739793589893\n",
      "number of correct elements is 75\n",
      "lambda is 7.962991834871914\n",
      "number of correct elements is 75\n",
      "lambda is 6.370393467897532\n",
      "number of correct elements is 75\n",
      "lambda is 5.096314774318026\n",
      "number of correct elements is 75\n",
      "lambda is 4.077051819454421\n",
      "number of correct elements is 75\n",
      "lambda is 3.2616414555635367\n",
      "number of correct elements is 75\n",
      "lambda is 2.6093131644508296\n",
      "number of correct elements is 75\n",
      "lambda is 2.087450531560664\n",
      "number of correct elements is 75\n",
      "lambda is 1.6699604252485312\n",
      "number of correct elements is 75\n",
      "lambda is 1.335968340198825\n",
      "number of correct elements is 75\n",
      "lambda is 1.06877467215906\n",
      "number of correct elements is 75\n",
      "lambda is 0.8550197377272482\n",
      "number of correct elements is 75\n",
      "lambda is 0.6840157901817986\n",
      "number of correct elements is 75\n",
      "lambda is 0.5472126321454389\n",
      "number of correct elements is 75\n",
      "lambda is 0.43777010571635117\n",
      "number of correct elements is 75\n",
      "lambda is 0.35021608457308095\n",
      "number of correct elements is 75\n",
      "lambda is 0.2801728676584648\n",
      "number of correct elements is 75\n",
      "lambda is 0.22413829412677183\n",
      "number of correct elements is 75\n",
      "lambda is 0.17931063530141747\n",
      "number of correct elements is 75\n",
      "lambda is 0.14344850824113398\n",
      "number of correct elements is 75\n",
      "lambda is 0.11475880659290719\n",
      "number of correct elements is 75\n",
      "lambda is 0.09180704527432576\n",
      "number of correct elements is 75\n",
      "lambda is 0.07344563621946061\n",
      "number of correct elements is 75\n",
      "lambda is 0.05875650897556849\n",
      "number of correct elements is 75\n",
      "lambda is 0.0470052071804548\n",
      "number of correct elements is 75\n",
      "lambda is 0.03760416574436384\n",
      "number of correct elements is 75\n",
      "lambda is 0.030083332595491077\n",
      "number of correct elements is 75\n",
      "lambda is 0.024066666076392865\n",
      "number of correct elements is 75\n",
      "lambda is 0.019253332861114292\n",
      "number of correct elements is 75\n",
      "lambda is 0.015402666288891434\n",
      "number of correct elements is 75\n",
      "lambda is 0.012322133031113148\n",
      "number of correct elements is 75\n",
      "lambda is 0.00985770642489052\n",
      "number of correct elements is 75\n",
      "lambda is 0.007886165139912416\n",
      "number of correct elements is 75\n",
      "lambda is 0.006308932111929933\n",
      "number of correct elements is 75\n",
      "lambda is 0.0050471456895439465\n",
      "number of correct elements is 75\n",
      "lambda is 0.004037716551635157\n",
      "number of correct elements is 7\n"
     ]
    },
    {
     "name": "stderr",
     "output_type": "stream",
     "text": [
      "C:\\Users\\djcald.CSENETID\\AppData\\Local\\Continuum\\anaconda3\\lib\\site-packages\\ipykernel_launcher.py:141: RuntimeWarning: invalid value encountered in true_divide\n"
     ]
    },
    {
     "data": {
      "text/plain": [
       "<matplotlib.figure.Figure at 0x240b7b67710>"
      ]
     },
     "metadata": {},
     "output_type": "display_data"
    },
    {
     "data": {
      "image/png": "[encoded data removed]",
      "text/plain": [
       "<matplotlib.figure.Figure at 0x240b7b65ef0>"
      ]
     },
     "metadata": {},
     "output_type": "display_data"
    }
   ],
   "source": [
    "y,x,w_star,k = generateData()\n",
    "type(y)\n",
    "w_vec,num_non_zero_vec,correct_non_zero_vec,lambda_vec = lasso_loop(x,y,k)\n",
    "plot_precision_recall(num_non_zero_vec,correct_non_zero_vec,lambda_vec,k)"
   ]
  },
  {
   "cell_type": "code",
   "execution_count": 12,
   "metadata": {},
   "outputs": [
    {
     "data": {
      "text/plain": [
       "[0,\n",
       " 1,\n",
       " 2,\n",
       " 2,\n",
       " 3,\n",
       " 4,\n",
       " 5,\n",
       " 5,\n",
       " 5,\n",
       " 5,\n",
       " 5,\n",
       " 5,\n",
       " 5,\n",
       " 5,\n",
       " 5,\n",
       " 5,\n",
       " 5,\n",
       " 5,\n",
       " 5,\n",
       " 5,\n",
       " 5,\n",
       " 5,\n",
       " 5,\n",
       " 5,\n",
       " 5,\n",
       " 5,\n",
       " 5,\n",
       " 5,\n",
       " 5,\n",
       " 5,\n",
       " 5,\n",
       " 5,\n",
       " 5,\n",
       " 5,\n",
       " 5,\n",
       " 5,\n",
       " 5,\n",
       " 5,\n",
       " 5,\n",
       " 5,\n",
       " 5,\n",
       " 5,\n",
       " 5,\n",
       " 5,\n",
       " 5,\n",
       " 5,\n",
       " 5,\n",
       " 5,\n",
       " 5,\n",
       " 5,\n",
       " 5,\n",
       " 5,\n",
       " 5,\n",
       " 5,\n",
       " 5,\n",
       " 5,\n",
       " 73]"
      ]
     },
     "execution_count": 12,
     "metadata": {},
     "output_type": "execute_result"
    }
   ],
   "source": [
    "lambda_vec_arr = np.array(lambda_vec)\n",
    "mask = np.array(num_non_zero_vec)>5\n",
    "masked = lambda_vec_arr[mask]\n",
    "masked\n",
    "num_non_zero_vec"
   ]
  },
  {
   "cell_type": "markdown",
   "metadata": {},
   "source": [
    "# Below this is scratch work"
   ]
  },
  {
   "cell_type": "code",
   "execution_count": 12,
   "metadata": {},
   "outputs": [
    {
     "data": {
      "image/png": "[encoded data removed]",
      "text/plain": [
       "<matplotlib.figure.Figure at 0x113ec8b00>"
      ]
     },
     "metadata": {},
     "output_type": "display_data"
    },
    {
     "data": {
      "image/png": "[encoded data removed]",
      "text/plain": [
       "<matplotlib.figure.Figure at 0x1133e58d0>"
      ]
     },
     "metadata": {},
     "output_type": "display_data"
    },
    {
     "data": {
      "image/png": "[encoded data removed]",
      "text/plain": [
       "<matplotlib.figure.Figure at 0x1141d8a58>"
      ]
     },
     "metadata": {},
     "output_type": "display_data"
    }
   ],
   "source": [
    "lambda_val = 100\n",
    "w,stop_cond_vec = lasso_CD(x,y,lambda_val)\n",
    "plot_lasso(w,stop_cond_vec,w_star)\n"
   ]
  },
  {
   "cell_type": "code",
   "execution_count": 34,
   "metadata": {},
   "outputs": [
    {
     "data": {
      "text/plain": [
       "69"
      ]
     },
     "execution_count": 34,
     "metadata": {},
     "output_type": "execute_result"
    }
   ],
   "source": [
    "np.sum([x==0 for x in w]"
   ]
  },
  {
   "cell_type": "code",
   "execution_count": 68,
   "metadata": {},
   "outputs": [
    {
     "data": {
      "text/plain": [
       "(2, 75)"
      ]
     },
     "execution_count": 68,
     "metadata": {},
     "output_type": "execute_result"
    },
    {
     "data": {
      "text/plain": [
       "array([69, 69])"
      ]
     },
     "execution_count": 68,
     "metadata": {},
     "output_type": "execute_result"
    }
   ],
   "source": [
    "a = np.row_stack((w,w))\n",
    "\n",
    "np.shape(a)\n",
    "\n",
    "sum((x==0 for x in a.T))"
   ]
  },
  {
   "cell_type": "code",
   "execution_count": 20,
   "metadata": {},
   "outputs": [
    {
     "data": {
      "text/plain": [
       "array([ 1.,  1.,  1.,  1.,  1.,  0.,  0.,  0.,  0.,  0.,  0.,  0.,  0.,\n",
       "        0.,  0.,  0.,  0.,  0.,  0.,  0.,  0.,  0.,  0.,  0.,  0.,  0.,\n",
       "        0.,  0.,  0.,  0.,  0.,  0.,  0.,  0.,  0.,  0.,  0.,  0.,  0.,\n",
       "        0.,  0.,  0.,  0.,  0.,  0.,  0.,  0.,  0.,  0.,  0.,  0.,  0.,\n",
       "        0.,  0.,  0.,  0.,  0.,  0.,  0.,  0.,  0.,  0.,  0.,  0.,  0.,\n",
       "        0.,  0.,  0.,  0.,  0.,  0.,  0.,  0.,  0.,  0.])"
      ]
     },
     "execution_count": 20,
     "metadata": {},
     "output_type": "execute_result"
    },
    {
     "data": {
      "text/plain": [
       "array([ True,  True,  True,  True,  True, False, False, False, False,\n",
       "       False, False, False, False, False, False, False, False, False,\n",
       "       False, False, False, False, False, False, False, False, False,\n",
       "       False, False, False, False, False, False, False, False, False,\n",
       "       False, False, False, False, False, False, False, False, False,\n",
       "       False, False, False, False, False, False, False, False, False,\n",
       "       False, False, False, False, False, False, False, False, False,\n",
       "       False, False, False, False, False, False, False, False, False,\n",
       "       False, False, False], dtype=bool)"
      ]
     },
     "execution_count": 20,
     "metadata": {},
     "output_type": "execute_result"
    },
    {
     "name": "stdout",
     "output_type": "stream",
     "text": [
      "[ True  True  True  True  True False False False False False False False\n",
      " False False False False False False False False False False False False\n",
      " False False False False False False False False False False False False\n",
      " False False False False False False False False False False False False\n",
      " False False False False False False False False False False False False\n",
      " False False False False False False False False False False False False\n",
      " False False False]\n"
     ]
    }
   ],
   "source": [
    "ground_truth = np.zeros((np.shape(x)[1],))\n",
    "ground_truth[0:5] = 1\n",
    "\n",
    "# total non zero \n",
    "num_non_zero = sum((x==0 for x in w))\n",
    "\n",
    "# correct non zeros \n",
    "w_logical = w!=0\n",
    "\n",
    "ground_truth \n",
    "correct_non_zero = sum(w_logical==ground_truth)\n",
    "w_logical\n",
    "print(w_logical)"
   ]
  },
  {
   "cell_type": "code",
   "execution_count": 94,
   "metadata": {},
   "outputs": [
    {
     "data": {
      "text/plain": [
       "array([ True,  True,  True,  True,  True, False, False, False, False,\n",
       "       False, False, False, False, False, False, False, False, False,\n",
       "       False, False, False, False, False, False, False, False, False,\n",
       "       False, False, False, False, False, False, False, False, False,\n",
       "       False, False, False, False, False, False, False, False, False,\n",
       "       False, False, False, False, False, False, False, False, False,\n",
       "       False, False, False, False, False, False, False, False, False,\n",
       "       False, False, False, False, False, False, False, False, False,\n",
       "       False, False, False], dtype=bool)"
      ]
     },
     "execution_count": 94,
     "metadata": {},
     "output_type": "execute_result"
    }
   ],
   "source": [
    "np.logical_and(ground_truth,w_logical)"
   ]
  },
  {
   "cell_type": "code",
   "execution_count": 50,
   "metadata": {},
   "outputs": [
    {
     "name": "stdout",
     "output_type": "stream",
     "text": [
      "[ True  True  True  True  True False False False  True False  True False\n",
      " False  True  True  True False False False False False  True False False\n",
      " False  True False False  True False False  True  True False  True False\n",
      " False False False  True False  True False False False False False False\n",
      " False False  True False False  True False  True False  True  True False\n",
      " False False  True  True False False False  True False False False False\n",
      " False False False]\n",
      "[  1.00000000e+01   1.00000000e+01   1.00000000e+01   1.00000000e+01\n",
      "   1.00000000e+01   0.00000000e+00   0.00000000e+00   0.00000000e+00\n",
      "   6.65034546e-16   0.00000000e+00   2.62064425e-16   0.00000000e+00\n",
      "   0.00000000e+00   1.69814498e-17   4.04643914e-16   3.35177492e-16\n",
      "   0.00000000e+00   0.00000000e+00   0.00000000e+00   0.00000000e+00\n",
      "   0.00000000e+00   6.50684662e-16   0.00000000e+00   0.00000000e+00\n",
      "   0.00000000e+00   5.35443039e-16   0.00000000e+00   0.00000000e+00\n",
      "   2.81110561e-16   0.00000000e+00   0.00000000e+00   1.52376113e-15\n",
      "   1.01490317e-16   0.00000000e+00   7.12339907e-16   0.00000000e+00\n",
      "   0.00000000e+00   0.00000000e+00   0.00000000e+00   6.74511839e-17\n",
      "   0.00000000e+00   2.58467987e-16   0.00000000e+00   0.00000000e+00\n",
      "   0.00000000e+00   0.00000000e+00   0.00000000e+00   0.00000000e+00\n",
      "   0.00000000e+00   0.00000000e+00   2.31605466e-16   0.00000000e+00\n",
      "   0.00000000e+00   5.47573129e-17   0.00000000e+00   4.36895736e-16\n",
      "   0.00000000e+00   2.24364414e-16   1.49201740e-16   0.00000000e+00\n",
      "   0.00000000e+00   0.00000000e+00   4.88849627e-17   1.39257446e-16\n",
      "   0.00000000e+00   0.00000000e+00   0.00000000e+00   2.34708203e-16\n",
      "   0.00000000e+00   0.00000000e+00   0.00000000e+00   0.00000000e+00\n",
      "   0.00000000e+00   0.00000000e+00   0.00000000e+00]\n"
     ]
    }
   ],
   "source": [
    "print(np.abs(w_vec[167])>0)\n",
    "print(np.abs(w_vec[167]))"
   ]
  },
  {
   "cell_type": "code",
   "execution_count": 23,
   "metadata": {},
   "outputs": [
    {
     "data": {
      "text/plain": [
       "array([False, False, False, False, False, False, False, False, False,\n",
       "       False, False, False, False, False, False, False, False, False,\n",
       "       False, False, False, False, False, False, False, False, False,\n",
       "       False, False, False, False, False, False, False, False, False,\n",
       "       False, False, False, False, False, False, False, False, False,\n",
       "       False, False, False, False, False, False, False, False, False,\n",
       "       False, False, False, False, False, False, False, False, False,\n",
       "       False, False, False, False, False, False, False, False, False,\n",
       "       False, False, False, False, False, False, False, False, False,\n",
       "       False, False, False, False, False, False, False, False, False,\n",
       "       False, False, False, False, False, False, False, False, False,\n",
       "       False, False, False, False, False, False, False, False, False,\n",
       "       False, False, False, False, False, False, False, False, False,\n",
       "       False, False, False, False, False, False, False, False, False,\n",
       "       False, False, False, False, False, False, False, False, False,\n",
       "       False, False, False, False, False, False, False, False, False,\n",
       "       False, False, False, False, False, False, False, False, False,\n",
       "       False, False, False, False, False, False, False,  True, False,\n",
       "       False, False,  True,  True,  True,  True,  True,  True,  True,\n",
       "        True,  True,  True], dtype=bool)"
      ]
     },
     "execution_count": 23,
     "metadata": {},
     "output_type": "execute_result"
    },
    {
     "data": {
      "text/plain": [
       "array([  1.28602928e+03,   1.02882342e+03,   8.23058739e+02,\n",
       "         6.58446991e+02,   5.26757593e+02,   4.21406074e+02,\n",
       "         3.37124860e+02,   2.69699888e+02,   2.15759910e+02,\n",
       "         1.72607928e+02,   1.38086342e+02,   1.10469074e+02,\n",
       "         8.83752592e+01,   7.07002073e+01,   5.65601659e+01,\n",
       "         4.52481327e+01,   3.61985062e+01,   2.89588049e+01,\n",
       "         2.31670439e+01,   1.85336352e+01,   1.48269081e+01,\n",
       "         1.18615265e+01,   9.48922120e+00,   7.59137696e+00,\n",
       "         6.07310157e+00,   4.85848125e+00,   3.88678500e+00,\n",
       "         3.10942800e+00,   2.48754240e+00,   1.99003392e+00,\n",
       "         1.59202714e+00,   1.27362171e+00,   1.01889737e+00,\n",
       "         8.15117894e-01,   6.52094315e-01,   5.21675452e-01,\n",
       "         4.17340362e-01,   3.33872290e-01,   2.67097832e-01,\n",
       "         2.13678265e-01,   1.70942612e-01,   1.36754090e-01,\n",
       "         1.09403272e-01,   8.75226175e-02,   7.00180940e-02,\n",
       "         5.60144752e-02,   4.48115801e-02,   3.58492641e-02,\n",
       "         2.86794113e-02,   2.29435290e-02,   1.83548232e-02,\n",
       "         1.46838586e-02,   1.17470869e-02,   9.39766949e-03,\n",
       "         7.51813559e-03,   6.01450847e-03,   4.81160678e-03,\n",
       "         3.84928542e-03,   3.07942834e-03,   2.46354267e-03,\n",
       "         1.97083414e-03,   1.57666731e-03,   1.26133385e-03,\n",
       "         1.00906708e-03,   8.07253662e-04,   6.45802930e-04,\n",
       "         5.16642344e-04,   4.13313875e-04,   3.30651100e-04,\n",
       "         2.64520880e-04,   2.11616704e-04,   1.69293363e-04,\n",
       "         1.35434691e-04,   1.08347752e-04,   8.66782020e-05,\n",
       "         6.93425616e-05,   5.54740493e-05,   4.43792394e-05,\n",
       "         3.55033915e-05,   2.84027132e-05,   2.27221706e-05,\n",
       "         1.81777365e-05,   1.45421892e-05,   1.16337513e-05,\n",
       "         9.30700107e-06,   7.44560086e-06,   5.95648069e-06,\n",
       "         4.76518455e-06,   3.81214764e-06,   3.04971811e-06,\n",
       "         2.43977449e-06,   1.95181959e-06,   1.56145567e-06,\n",
       "         1.24916454e-06,   9.99331631e-07,   7.99465305e-07,\n",
       "         6.39572244e-07,   5.11657795e-07,   4.09326236e-07,\n",
       "         3.27460989e-07,   2.61968791e-07,   2.09575033e-07,\n",
       "         1.67660026e-07,   1.34128021e-07,   1.07302417e-07,\n",
       "         8.58419334e-08,   6.86735467e-08,   5.49388374e-08,\n",
       "         4.39510699e-08,   3.51608559e-08,   2.81286847e-08,\n",
       "         2.25029478e-08,   1.80023582e-08,   1.44018866e-08,\n",
       "         1.15215093e-08,   9.21720742e-09,   7.37376593e-09,\n",
       "         5.89901275e-09,   4.71921020e-09,   3.77536816e-09,\n",
       "         3.02029453e-09,   2.41623562e-09,   1.93298850e-09,\n",
       "         1.54639080e-09,   1.23711264e-09,   9.89690110e-10,\n",
       "         7.91752088e-10,   6.33401671e-10,   5.06721337e-10,\n",
       "         4.05377069e-10,   3.24301655e-10,   2.59441324e-10,\n",
       "         2.07553059e-10,   1.66042448e-10,   1.32833958e-10,\n",
       "         1.06267166e-10,   8.50137332e-11,   6.80109865e-11,\n",
       "         5.44087892e-11,   4.35270314e-11,   3.48216251e-11,\n",
       "         2.78573001e-11,   2.22858401e-11,   1.78286721e-11,\n",
       "         1.42629376e-11,   1.14103501e-11,   9.12828009e-12,\n",
       "         7.30262407e-12,   5.84209926e-12,   4.67367941e-12,\n",
       "         3.73894352e-12,   2.99115482e-12,   2.39292386e-12,\n",
       "         1.91433908e-12,   1.53147127e-12,   1.22517701e-12,\n",
       "         9.80141611e-13,   7.84113289e-13,   6.27290631e-13,\n",
       "         5.01832505e-13,   4.01466004e-13,   3.21172803e-13,\n",
       "         2.56938243e-13,   2.05550594e-13,   1.64440475e-13,\n",
       "         1.31552380e-13,   1.05241904e-13,   8.41935233e-14,\n",
       "         6.73548187e-14,   5.38838549e-14,   4.31070839e-14,\n",
       "         3.44856672e-14,   2.75885337e-14,   2.20708270e-14])"
      ]
     },
     "execution_count": 23,
     "metadata": {},
     "output_type": "execute_result"
    }
   ],
   "source": [
    "mask = np.array(num_non_zero_vec)>5\n",
    "mask\n",
    "lambda_vec_array = np.array(lambda_vec)\n",
    "lambda_vec_array\n"
   ]
  },
  {
   "cell_type": "code",
   "execution_count": 6,
   "metadata": {},
   "outputs": [
    {
     "data": {
      "text/plain": [
       "array([-2., -1.,  0.,  1.,  2.])"
      ]
     },
     "execution_count": 6,
     "metadata": {},
     "output_type": "execute_result"
    }
   ],
   "source": [
    "a = np.array([1,2,3,4,5])\n",
    "b = pylab.demean(a)\n",
    "b"
   ]
  },
  {
   "cell_type": "code",
   "execution_count": null,
   "metadata": {},
   "outputs": [],
   "source": []
  }
 ],
 "metadata": {
  "kernelspec": {
   "display_name": "Python 3",
   "language": "python",
   "name": "python3"
  },
  "language_info": {
   "codemirror_mode": {
    "name": "ipython",
    "version": 3
   },
   "file_extension": ".py",
   "mimetype": "text/x-python",
   "name": "python",
   "nbconvert_exporter": "python",
   "pygments_lexer": "ipython3",
   "version": "3.6.2"
  }
 },
 "nbformat": 4,
 "nbformat_minor": 2
}
