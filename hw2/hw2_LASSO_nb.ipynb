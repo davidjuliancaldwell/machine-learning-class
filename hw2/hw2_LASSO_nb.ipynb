{
 "cells": [
  {
   "cell_type": "code",
   "execution_count": 1,
   "metadata": {},
   "outputs": [],
   "source": [
    "# import modules\n",
    "import numpy as np\n",
    "import matplotlib.pyplot as plt\n",
    "import scipy\n",
    "import seaborn as sns\n",
    "import copy\n",
    "sns.set()\n",
    "\n",
    "%matplotlib inline\n",
    "\n",
    "from IPython.core.interactiveshell import InteractiveShell\n",
    "InteractiveShell.ast_node_interactivity = \"all\""
   ]
  },
  {
   "cell_type": "markdown",
   "metadata": {},
   "source": [
    "### Generate data"
   ]
  },
  {
   "cell_type": "code",
   "execution_count": 126,
   "metadata": {},
   "outputs": [],
   "source": [
    "def generateData():\n",
    "    n = 50\n",
    "    d = 75\n",
    "    k = 5 \n",
    "    sigma = 1\n",
    "\n",
    "    # generate x_i\n",
    "    cov_mat = np.identity(d)\n",
    "    avg = np.zeros((d,))\n",
    "    x = np.random.multivariate_normal(avg,cov_mat,n)\n",
    "\n",
    "    # epsilon vec\n",
    "    epsilon_vec = np.random.normal(loc=0,scale=sigma)\n",
    "\n",
    "    # w_star_0\n",
    "    w_star_0 = 0\n",
    "    w_star = np.zeros((d,))\n",
    "    w_star[0:10] = np.random.randint(low = 1,high=3, size=10)\n",
    "    w_star[w_star==2] = -1\n",
    "\n",
    "    # generate y \n",
    "    y = np.dot(x,w_star) + w_star_0 + epsilon_vec\n",
    "    \n",
    "    return y,x,w_star\n",
    "    \n",
    "def lambda_max_func(x,y):\n",
    "    k = np.shape(x)[1]\n",
    "    n = np.shape(x)[0]\n",
    "    lambda_vec = []\n",
    "    sum_y = (1/n)*np.sum(y[:])\n",
    "    for k_ind in np.arange(k):\n",
    "        \n",
    "        lambda_val = 2*np.abs(np.dot(x[:,k_ind].T,(y-sum_y)))\n",
    "        lambda_vec.append(lambda_val)\n",
    "    #import pdb; pdb.set_trace()\n",
    "    lambda_max = np.max(lambda_vec)\n",
    "    return lambda_max\n",
    "\n",
    "    \n",
    "### lasso!\n",
    "def lasso_CD(x,y,lambda_val):\n",
    "    ### initialize conditions \n",
    "    delta = 1e-10\n",
    "    n = np.shape(x)[0]\n",
    "    d = np.shape(x)[1]\n",
    "\n",
    "    stop_cond = 100\n",
    "    w = np.random.random(d)\n",
    "    a = np.zeros((d,))\n",
    "    c = np.zeros((d,))\n",
    "    stop_cond_vec = []\n",
    "    w_old = np.zeros((d,))\n",
    "\n",
    "    while(stop_cond>delta):\n",
    "        diff_y_x = y - np.dot(x,w)\n",
    "        w_0 = (1/n)*np.sum(diff_y_x)\n",
    "\n",
    "        for k in np.arange(d):\n",
    "            a[k] = 2*np.dot(x[:,k].T,x[:,k])\n",
    "\n",
    "            x_temp = np.delete(x,k,axis=1)\n",
    "            w_temp = np.delete(w,k,axis=0)\n",
    "\n",
    "            diff_y_x_w0 = y - w_0 - np.dot(x_temp,w_temp)\n",
    "            c[k] = 2*np.dot(x[:,k].T,diff_y_x_w0)\n",
    "\n",
    "            if c[k] < - lambda_val:\n",
    "                w[k] = ((c[k]+lambda_val))/a[k]\n",
    "            elif (-lambda_val < c[k] < lambda_val):\n",
    "                w[k] = 0\n",
    "            elif c[k] > lambda_val:\n",
    "                w[k] = ((c[k]-lambda_val))/a[k]\n",
    "\n",
    "        weight_diff = w - w_old\n",
    "        w_old = copy.deepcopy(w)\n",
    "\n",
    "\n",
    "        stop_cond = np.max(weight_diff)\n",
    "        stop_cond_vec.append(stop_cond)\n",
    "    \n",
    "    return w,stop_cond_vec\n",
    "\n",
    "def lasso_loop(x,y):\n",
    "    w_vec = []\n",
    "    \n",
    "    lambda_max = lambda_max_fun(x,y)\n",
    "    lambda_vec_iterate = []\n",
    "    for lambda_ind in lambda_vec_iterate:\n",
    "        w = lasso_CD(x,y,lambda_val)\n",
    "    \n",
    "    w_vec.append(w)\n",
    "    return w_vec \n",
    "\n",
    "def plot_lasso(w,stop_cond_vec,w_star):\n",
    "    ax1 = sns.distplot(w, rug=True,hist=True,bins=100, kde=False, rug_kws={\"color\": \"g\"},hist_kws={\"histtype\": \"step\", \"linewidth\": 3, \"alpha\": 1, \"color\": \"g\"})\n",
    "\n",
    "    plt.figure()\n",
    "    ax2 = plt.bar(np.arange(len(w)),1.1*w,label='computed weight matrix')\n",
    "    ax3 = plt.bar(np.arange(len(w_star)),w_star,label='w*')\n",
    "    plt.legend()\n",
    "    plt.ylim([0,1.2])\n",
    "\n",
    "    plt.figure()\n",
    "    ax3 = plt.plot(np.arange(len(stop_cond_vec)),stop_cond_vec)\n",
    "    plt.ylim([0,0.05])"
   ]
  },
  {
   "cell_type": "code",
   "execution_count": null,
   "metadata": {},
   "outputs": [],
   "source": [
    "y,x,w_star = generateData()\n"
   ]
  },
  {
   "cell_type": "code",
   "execution_count": 140,
   "metadata": {},
   "outputs": [
    {
     "data": {
      "text/plain": [
       "176.71447232770248"
      ]
     },
     "execution_count": 140,
     "metadata": {},
     "output_type": "execute_result"
    }
   ],
   "source": [
    "lambda_max = lambda_max_func(x,y)\n",
    "lambda_max"
   ]
  },
  {
   "cell_type": "code",
   "execution_count": 143,
   "metadata": {},
   "outputs": [],
   "source": [
    "\n",
    "lambda_val = 100\n",
    "w,stop_cond_vec = lasso_CD(x,y,lambda_val)"
   ]
  },
  {
   "cell_type": "code",
   "execution_count": 144,
   "metadata": {},
   "outputs": [
    {
     "data": {
      "text/plain": [
       "array([ 0.25401757,  0.        , -0.34713564,  0.        ,  0.        ,\n",
       "        0.        ,  0.51474933,  0.        , -0.23147913,  0.        ,\n",
       "        0.        ,  0.        ,  0.        ,  0.        ,  0.        ,\n",
       "        0.        ,  0.        ,  0.        ,  0.        ,  0.        ,\n",
       "        0.        ,  0.        ,  0.        ,  0.        ,  0.        ,\n",
       "        0.        ,  0.        ,  0.        ,  0.        ,  0.        ,\n",
       "        0.        ,  0.        ,  0.        ,  0.        ,  0.        ,\n",
       "        0.        ,  0.        ,  0.        ,  0.        ,  0.        ,\n",
       "        0.        ,  0.        ,  0.        ,  0.        ,  0.        ,\n",
       "        0.        ,  0.        ,  0.        ,  0.        ,  0.        ,\n",
       "        0.        ,  0.        ,  0.        ,  0.        ,  0.        ,\n",
       "        0.        ,  0.        ,  0.        ,  0.        ,  0.        ,\n",
       "        0.        ,  0.        ,  0.        ,  0.        ,  0.        ,\n",
       "        0.        ,  0.        ,  0.        ,  0.        ,  0.        ,\n",
       "        0.        ,  0.        ,  0.        ,  0.        ,  0.        ])"
      ]
     },
     "execution_count": 144,
     "metadata": {},
     "output_type": "execute_result"
    },
    {
     "data": {
      "text/plain": [
       "array([ 1.,  1., -1.,  1., -1., -1.,  1., -1., -1., -1.,  0.,  0.,  0.,\n",
       "        0.,  0.,  0.,  0.,  0.,  0.,  0.,  0.,  0.,  0.,  0.,  0.,  0.,\n",
       "        0.,  0.,  0.,  0.,  0.,  0.,  0.,  0.,  0.,  0.,  0.,  0.,  0.,\n",
       "        0.,  0.,  0.,  0.,  0.,  0.,  0.,  0.,  0.,  0.,  0.,  0.,  0.,\n",
       "        0.,  0.,  0.,  0.,  0.,  0.,  0.,  0.,  0.,  0.,  0.,  0.,  0.,\n",
       "        0.,  0.,  0.,  0.,  0.,  0.,  0.,  0.,  0.,  0.])"
      ]
     },
     "execution_count": 144,
     "metadata": {},
     "output_type": "execute_result"
    },
    {
     "data": {
      "image/png": "[encoded data removed]",
      "text/plain": [
       "<matplotlib.figure.Figure at 0x23936861780>"
      ]
     },
     "metadata": {},
     "output_type": "display_data"
    },
    {
     "data": {
      "image/png": "[encoded data removed]",
      "text/plain": [
       "<matplotlib.figure.Figure at 0x239385ca470>"
      ]
     },
     "metadata": {},
     "output_type": "display_data"
    },
    {
     "data": {
      "image/png": "[encoded data removed]",
      "text/plain": [
       "<matplotlib.figure.Figure at 0x239376977b8>"
      ]
     },
     "metadata": {},
     "output_type": "display_data"
    }
   ],
   "source": [
    "plot_lasso(w,stop_cond_vec,w_star)\n",
    "\n",
    "w\n",
    "w_star"
   ]
  },
  {
   "cell_type": "code",
   "execution_count": 124,
   "metadata": {},
   "outputs": [
    {
     "data": {
      "text/plain": [
       "array([ 0.,  0.,  0.,  0.,  0.,  0.,  0.,  0.,  0.,  0.,  0.,  0.,  0.,\n",
       "        0.,  0.,  0.,  0.,  0.,  0.,  0.,  0.,  0.,  0.,  0.,  0.,  0.,\n",
       "        0.,  0.,  0.,  0.,  0.,  0.,  0.,  0.,  0.,  0.,  0.,  0.,  0.,\n",
       "        0.,  0.,  0.,  0.,  0.,  0.,  0.,  0.,  0.,  0.,  0.,  0.,  0.,\n",
       "        0.,  0.,  0.,  0.,  0.,  0.,  0.,  0.,  0.,  0.,  0.,  0.,  0.,\n",
       "        0.,  0.,  0.,  0.,  0.,  0.,  0.,  0.,  0.,  0.])"
      ]
     },
     "execution_count": 124,
     "metadata": {},
     "output_type": "execute_result"
    }
   ],
   "source": [
    "w"
   ]
  },
  {
   "cell_type": "code",
   "execution_count": null,
   "metadata": {},
   "outputs": [],
   "source": []
  }
 ],
 "metadata": {
  "kernelspec": {
   "display_name": "Python 3",
   "language": "python",
   "name": "python3"
  },
  "language_info": {
   "codemirror_mode": {
    "name": "ipython",
    "version": 3
   },
   "file_extension": ".py",
   "mimetype": "text/x-python",
   "name": "python",
   "nbconvert_exporter": "python",
   "pygments_lexer": "ipython3",
   "version": "3.6.2"
  }
 },
 "nbformat": 4,
 "nbformat_minor": 2
}
