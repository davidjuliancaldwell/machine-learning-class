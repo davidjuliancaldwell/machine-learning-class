{
 "cells": [
  {
   "cell_type": "code",
   "execution_count": 1,
   "metadata": {},
   "outputs": [],
   "source": [
    "####\n",
    "# FIX NUM NON ZERO VEC np.abs(>0) vs !=0 in kaggle code \n",
    "\n",
    "# MEAN SUBTRACT FEATURES IN KAGGLE CODE? \n",
    "\n",
    "# import modules\n",
    "import numpy as np\n",
    "import matplotlib.pyplot as plt\n",
    "import scipy\n",
    "import seaborn as sns\n",
    "import copy\n",
    "sns.set()\n",
    "\n",
    "%matplotlib inline\n",
    "\n",
    "#from IPython.core.interactiveshell import InteractiveShell\n",
    "#InteractiveShell.ast_node_interactivity = \"all\""
   ]
  },
  {
   "cell_type": "markdown",
   "metadata": {},
   "source": [
    "### Generate data"
   ]
  },
  {
   "cell_type": "code",
   "execution_count": 30,
   "metadata": {},
   "outputs": [],
   "source": [
    "def generateData():\n",
    "    n = 50\n",
    "    d = 75\n",
    "    #n = 4000\n",
    "    #d = 6000\n",
    "    k = 5 \n",
    "    sigma = 1\n",
    "\n",
    "    # generate x_i\n",
    "    cov_mat = np.identity(d)\n",
    "    avg = np.zeros((d,))\n",
    "    x = np.random.multivariate_normal(avg,cov_mat,n)\n",
    "\n",
    "    # epsilon vec\n",
    "    epsilon_vec = np.random.normal(loc=0,scale=sigma)\n",
    "\n",
    "    # w_star_0\n",
    "    w_star_0 = 0\n",
    "    w_star = np.zeros((d,))\n",
    "    w_star[0:k] = np.random.randint(low = 1,high=3, size=k)\n",
    "    w_star[w_star==2] = -10\n",
    "    w_star[w_star==1] = 10\n",
    "\n",
    "\n",
    "    # generate y \n",
    "    y = np.dot(x,w_star) + w_star_0 + epsilon_vec\n",
    "    \n",
    "    return y,x,w_star,k\n",
    "    \n",
    "def lambda_max_func(x,y):\n",
    "    k = np.shape(x)[1]\n",
    "    n = np.shape(x)[0]\n",
    "    sum_y = (1/n)*np.sum(y[:])\n",
    "    y_reg = y - sum_y\n",
    "    k_range = np.arange(k)\n",
    "    lambda_max = np.max([2*np.abs(np.dot(x[:,k_ind].T,y_reg)) for k_ind in k_range])\n",
    "    #import pdb; pdb.set_trace()\n",
    "    print('the max lambda is {}'.format(lambda_max))\n",
    "    return lambda_max\n",
    "\n",
    "    \n",
    "### lasso!\n",
    "def lasso_CD(x,y,lambda_val,w_init):\n",
    "    ### initialize conditions \n",
    "    delta = 1e-5\n",
    "    n = np.shape(x)[0]\n",
    "    d = np.shape(x)[1]\n",
    "\n",
    "    stop_cond = 100\n",
    "    w = np.array(w_init)\n",
    "    a = np.zeros((d,))\n",
    "    c = np.zeros((d,))\n",
    "    stop_cond_vec = []\n",
    "    w_old = np.zeros((d,))\n",
    "\n",
    "    while(stop_cond>delta):\n",
    "        diff_y_x = (y - np.dot(x,w))\n",
    "        w_0 = (1/n)*np.sum(diff_y_x)\n",
    "        for k in np.arange(d):\n",
    "            a[k] = 2*np.dot(x[:,k].T,x[:,k])\n",
    "            \n",
    "            # subtract version\n",
    "            \n",
    "            diff_y_x_w0 = y - w_0 - np.dot(x,w) + x[:,k]*w[k]\n",
    "            \n",
    "            # bool version\n",
    "#             mask = np.ones(d,dtype=bool)\n",
    "#             mask[k] = 0\n",
    "#             x_temp = x[:,mask]\n",
    "#             w_temp = w[mask]\n",
    "\n",
    "#             diff_y_x_w0 = y - w_0 - np.dot(x_temp,w_temp)\n",
    "            c[k] = 2*np.dot(x[:,k].T,diff_y_x_w0)\n",
    "\n",
    "            if c[k] < -lambda_val:\n",
    "                w[k] = ((c[k]+lambda_val))/a[k]\n",
    "            elif (np.abs(c[k]) < lambda_val):\n",
    "                w[k] = 0\n",
    "            elif c[k] > lambda_val:\n",
    "                w[k] = ((c[k]-lambda_val))/a[k]\n",
    "\n",
    "        weight_diff = w - w_old\n",
    "        w_old = np.array(w)\n",
    "\n",
    "\n",
    "        stop_cond = np.max(weight_diff)\n",
    "        stop_cond_vec.append(stop_cond)\n",
    "    \n",
    "    return w,stop_cond_vec\n",
    "\n",
    "def lasso_loop(x,y,k):\n",
    "    w_vec = []\n",
    "    num_non_zero_vec = []\n",
    "    correct_non_zero_vec = []\n",
    "    lambda_val = lambda_max_func(x,y)\n",
    "    lambda_vec = []\n",
    "    \n",
    "    ground_truth = np.zeros((np.shape(x)[1],))\n",
    "    ground_truth[0:5] = 1\n",
    "    correct_elems = 100\n",
    "    \n",
    "    w_init = np.random.random(np.shape(x)[1])\n",
    "    \n",
    "    while (correct_elems>(33)):\n",
    "        w,stop_cond_vec = lasso_CD(x,y,lambda_val,w_init)\n",
    "        # total non zero \n",
    "        num_non_zero = sum((np.abs(x)>0 for x in w))\n",
    "        \n",
    "        # correct non zeros \n",
    "        w_logical = np.abs(w)>0\n",
    "        correct_non_zero = sum(np.logical_and(ground_truth,w_logical))\n",
    "        \n",
    "        #w_init = np.array(w)\n",
    "        w_init = np.random.random(np.shape(x)[1])\n",
    "\n",
    "        w_vec.append(w)\n",
    "        num_non_zero_vec.append(num_non_zero)\n",
    "        correct_non_zero_vec.append(correct_non_zero)\n",
    "        \n",
    "        lambda_vec.append(lambda_val)\n",
    "        \n",
    "        ratio_val = 4/5\n",
    "        \n",
    "        lambda_val*=ratio_val\n",
    "        correct_elems = sum(w_logical == ground_truth)\n",
    "        print('lambda is {}'.format(lambda_val))\n",
    "\n",
    "        print('number of correct elements is {}'.format(correct_elems))\n",
    "    \n",
    "\n",
    "    \n",
    "    return w_vec,num_non_zero_vec,correct_non_zero_vec,lambda_vec\n",
    "\n",
    "def plot_precision_recall(num_non_zero_vec,correct_non_zero_vec,lambda_vec,k):\n",
    "    \n",
    "    \n",
    "    # plot precision nad recall\n",
    "    #count nonzero\n",
    "    \n",
    "    ax1 = plt.figure(figsize=(4, 4), dpi=600)\n",
    "    ax1 = plt.figure()\n",
    "    precision = np.array(correct_non_zero_vec)/np.array(num_non_zero_vec)\n",
    "    plt.semilogx(lambda_vec,precision,label='precision')\n",
    "    plt.xlabel(r'$ \\lambda $')\n",
    "    recall = np.array(correct_non_zero_vec)/k\n",
    "    plt.semilogx(lambda_vec,recall,label='recall')\n",
    "    plt.ylabel('Normalized Precision/Recall')\n",
    "    plt.title('Precision and Recall vs. Lambda for lasso')\n",
    "    plt.legend()\n",
    "    plt.savefig('hw2_prob3_recall_precision_lasso_random_1e-5')\n",
    "    \n",
    "    # plot recall \n",
    "\n",
    "def plot_lasso(w,stop_cond_vec,w_star):\n",
    "    ax1 = sns.distplot(w, rug=True,hist=True,bins=100, kde=False, rug_kws={\"color\": \"g\"},hist_kws={\"histtype\": \"step\", \"linewidth\": 3, \"alpha\": 1, \"color\": \"g\"})\n",
    "\n",
    "    plt.figure()\n",
    "    ax3 = plt.bar(np.arange(len(w_star)),w_star,label='w*')\n",
    "    ax2 = plt.bar(np.arange(len(w)),1.1*w,label='computed weight matrix')\n",
    "    plt.legend()\n",
    "    plt.ylim([-10,10])\n",
    "\n",
    "    plt.figure()\n",
    "    ax3 = plt.plot(np.arange(len(stop_cond_vec)),stop_cond_vec)\n",
    "    plt.ylim([0,0.05])"
   ]
  },
  {
   "cell_type": "code",
   "execution_count": 31,
   "metadata": {},
   "outputs": [
    {
     "name": "stdout",
     "output_type": "stream",
     "text": [
      "the max lambda is 1625.9844363916714\n",
      "lambda is 1300.7875491133373\n",
      "number of correct elements is 70\n",
      "lambda is 1040.6300392906699\n",
      "number of correct elements is 71\n",
      "lambda is 832.504031432536\n",
      "number of correct elements is 72\n",
      "lambda is 666.0032251460289\n",
      "number of correct elements is 73\n",
      "lambda is 532.8025801168232\n",
      "number of correct elements is 74\n",
      "lambda is 426.24206409345857\n",
      "number of correct elements is 75\n",
      "lambda is 340.9936512747669\n",
      "number of correct elements is 75\n",
      "lambda is 272.7949210198135\n",
      "number of correct elements is 75\n",
      "lambda is 218.2359368158508\n",
      "number of correct elements is 75\n",
      "lambda is 174.58874945268064\n",
      "number of correct elements is 75\n",
      "lambda is 139.67099956214452\n",
      "number of correct elements is 75\n",
      "lambda is 111.73679964971562\n",
      "number of correct elements is 75\n",
      "lambda is 89.3894397197725\n",
      "number of correct elements is 75\n",
      "lambda is 71.511551775818\n",
      "number of correct elements is 75\n",
      "lambda is 57.20924142065441\n",
      "number of correct elements is 75\n",
      "lambda is 45.76739313652353\n",
      "number of correct elements is 75\n",
      "lambda is 36.61391450921882\n",
      "number of correct elements is 75\n",
      "lambda is 29.29113160737506\n",
      "number of correct elements is 75\n",
      "lambda is 23.43290528590005\n",
      "number of correct elements is 75\n",
      "lambda is 18.746324228720038\n",
      "number of correct elements is 75\n",
      "lambda is 14.997059382976031\n",
      "number of correct elements is 75\n",
      "lambda is 11.997647506380826\n",
      "number of correct elements is 75\n",
      "lambda is 9.598118005104661\n",
      "number of correct elements is 75\n",
      "lambda is 7.678494404083729\n",
      "number of correct elements is 75\n",
      "lambda is 6.142795523266983\n",
      "number of correct elements is 75\n",
      "lambda is 4.914236418613587\n",
      "number of correct elements is 75\n",
      "lambda is 3.93138913489087\n",
      "number of correct elements is 75\n",
      "lambda is 3.145111307912696\n",
      "number of correct elements is 75\n",
      "lambda is 2.516089046330157\n",
      "number of correct elements is 75\n",
      "lambda is 2.0128712370641257\n",
      "number of correct elements is 75\n",
      "lambda is 1.6102969896513006\n",
      "number of correct elements is 75\n",
      "lambda is 1.2882375917210407\n",
      "number of correct elements is 75\n",
      "lambda is 1.0305900733768325\n",
      "number of correct elements is 75\n",
      "lambda is 0.824472058701466\n",
      "number of correct elements is 75\n",
      "lambda is 0.6595776469611728\n",
      "number of correct elements is 75\n",
      "lambda is 0.5276621175689383\n",
      "number of correct elements is 75\n",
      "lambda is 0.42212969405515066\n",
      "number of correct elements is 75\n",
      "lambda is 0.33770375524412055\n",
      "number of correct elements is 75\n",
      "lambda is 0.27016300419529643\n",
      "number of correct elements is 75\n",
      "lambda is 0.21613040335623715\n",
      "number of correct elements is 75\n",
      "lambda is 0.17290432268498973\n",
      "number of correct elements is 75\n",
      "lambda is 0.1383234581479918\n",
      "number of correct elements is 75\n",
      "lambda is 0.11065876651839344\n",
      "number of correct elements is 75\n",
      "lambda is 0.08852701321471476\n",
      "number of correct elements is 75\n",
      "lambda is 0.07082161057177182\n",
      "number of correct elements is 75\n",
      "lambda is 0.05665728845741746\n",
      "number of correct elements is 75\n",
      "lambda is 0.04532583076593397\n",
      "number of correct elements is 75\n",
      "lambda is 0.03626066461274718\n",
      "number of correct elements is 75\n",
      "lambda is 0.029008531690197743\n",
      "number of correct elements is 75\n",
      "lambda is 0.023206825352158195\n",
      "number of correct elements is 75\n",
      "lambda is 0.018565460281726558\n",
      "number of correct elements is 75\n",
      "lambda is 0.014852368225381246\n",
      "number of correct elements is 75\n",
      "lambda is 0.011881894580304997\n",
      "number of correct elements is 75\n",
      "lambda is 0.009505515664244\n",
      "number of correct elements is 75\n",
      "lambda is 0.0076044125313952\n",
      "number of correct elements is 75\n",
      "lambda is 0.00608353002511616\n",
      "number of correct elements is 75\n",
      "lambda is 0.004866824020092929\n",
      "number of correct elements is 75\n",
      "lambda is 0.003893459216074343\n",
      "number of correct elements is 75\n",
      "lambda is 0.0031147673728594747\n",
      "number of correct elements is 75\n",
      "lambda is 0.00249181389828758\n",
      "number of correct elements is 75\n",
      "lambda is 0.001993451118630064\n",
      "number of correct elements is 75\n",
      "lambda is 0.0015947608949040512\n",
      "number of correct elements is 75\n",
      "lambda is 0.001275808715923241\n",
      "number of correct elements is 75\n",
      "lambda is 0.0010206469727385929\n",
      "number of correct elements is 75\n",
      "lambda is 0.0008165175781908743\n",
      "number of correct elements is 75\n",
      "lambda is 0.0006532140625526995\n",
      "number of correct elements is 75\n",
      "lambda is 0.0005225712500421596\n",
      "number of correct elements is 75\n",
      "lambda is 0.0004180570000337277\n",
      "number of correct elements is 47\n",
      "lambda is 0.00033444560002698215\n",
      "number of correct elements is 24\n"
     ]
    },
    {
     "name": "stderr",
     "output_type": "stream",
     "text": [
      "C:\\Users\\djcald.CSENETID\\AppData\\Local\\Continuum\\anaconda3\\lib\\site-packages\\ipykernel_launcher.py:142: RuntimeWarning: invalid value encountered in true_divide\n"
     ]
    },
    {
     "data": {
      "text/plain": [
       "<matplotlib.figure.Figure at 0x1c8a8bece48>"
      ]
     },
     "metadata": {},
     "output_type": "display_data"
    },
    {
     "data": {
      "image/png": "[encoded data removed]",
      "text/plain": [
       "<matplotlib.figure.Figure at 0x1c8a8580fd0>"
      ]
     },
     "metadata": {},
     "output_type": "display_data"
    }
   ],
   "source": [
    "y,x,w_star,k = generateData()\n",
    "type(y)\n",
    "w_vec,num_non_zero_vec,correct_non_zero_vec,lambda_vec = lasso_loop(x,y,k)\n",
    "plot_precision_recall(num_non_zero_vec,correct_non_zero_vec,lambda_vec,k)"
   ]
  },
  {
   "cell_type": "code",
   "execution_count": 11,
   "metadata": {},
   "outputs": [],
   "source": [
    "\n",
    "lambda_val = 100\n",
    "w,stop_cond_vec = lasso_CD(x,y,lambda_val)"
   ]
  },
  {
   "cell_type": "code",
   "execution_count": 12,
   "metadata": {},
   "outputs": [
    {
     "data": {
      "image/png": "[encoded data removed]",
      "text/plain": [
       "<matplotlib.figure.Figure at 0x113ec8b00>"
      ]
     },
     "metadata": {},
     "output_type": "display_data"
    },
    {
     "data": {
      "image/png": "[encoded data removed]",
      "text/plain": [
       "<matplotlib.figure.Figure at 0x1133e58d0>"
      ]
     },
     "metadata": {},
     "output_type": "display_data"
    },
    {
     "data": {
      "image/png": "[encoded data removed]",
      "text/plain": [
       "<matplotlib.figure.Figure at 0x1141d8a58>"
      ]
     },
     "metadata": {},
     "output_type": "display_data"
    }
   ],
   "source": [
    "plot_lasso(w,stop_cond_vec,w_star)\n"
   ]
  },
  {
   "cell_type": "code",
   "execution_count": 34,
   "metadata": {},
   "outputs": [
    {
     "data": {
      "text/plain": [
       "69"
      ]
     },
     "execution_count": 34,
     "metadata": {},
     "output_type": "execute_result"
    }
   ],
   "source": [
    "np.sum([x==0 for x in w]"
   ]
  },
  {
   "cell_type": "code",
   "execution_count": 68,
   "metadata": {},
   "outputs": [
    {
     "data": {
      "text/plain": [
       "(2, 75)"
      ]
     },
     "execution_count": 68,
     "metadata": {},
     "output_type": "execute_result"
    },
    {
     "data": {
      "text/plain": [
       "array([69, 69])"
      ]
     },
     "execution_count": 68,
     "metadata": {},
     "output_type": "execute_result"
    }
   ],
   "source": [
    "a = np.row_stack((w,w))\n",
    "\n",
    "np.shape(a)\n",
    "\n",
    "sum((x==0 for x in a.T))"
   ]
  },
  {
   "cell_type": "code",
   "execution_count": 20,
   "metadata": {},
   "outputs": [
    {
     "data": {
      "text/plain": [
       "array([ 1.,  1.,  1.,  1.,  1.,  0.,  0.,  0.,  0.,  0.,  0.,  0.,  0.,\n",
       "        0.,  0.,  0.,  0.,  0.,  0.,  0.,  0.,  0.,  0.,  0.,  0.,  0.,\n",
       "        0.,  0.,  0.,  0.,  0.,  0.,  0.,  0.,  0.,  0.,  0.,  0.,  0.,\n",
       "        0.,  0.,  0.,  0.,  0.,  0.,  0.,  0.,  0.,  0.,  0.,  0.,  0.,\n",
       "        0.,  0.,  0.,  0.,  0.,  0.,  0.,  0.,  0.,  0.,  0.,  0.,  0.,\n",
       "        0.,  0.,  0.,  0.,  0.,  0.,  0.,  0.,  0.,  0.])"
      ]
     },
     "execution_count": 20,
     "metadata": {},
     "output_type": "execute_result"
    },
    {
     "data": {
      "text/plain": [
       "array([ True,  True,  True,  True,  True, False, False, False, False,\n",
       "       False, False, False, False, False, False, False, False, False,\n",
       "       False, False, False, False, False, False, False, False, False,\n",
       "       False, False, False, False, False, False, False, False, False,\n",
       "       False, False, False, False, False, False, False, False, False,\n",
       "       False, False, False, False, False, False, False, False, False,\n",
       "       False, False, False, False, False, False, False, False, False,\n",
       "       False, False, False, False, False, False, False, False, False,\n",
       "       False, False, False], dtype=bool)"
      ]
     },
     "execution_count": 20,
     "metadata": {},
     "output_type": "execute_result"
    },
    {
     "name": "stdout",
     "output_type": "stream",
     "text": [
      "[ True  True  True  True  True False False False False False False False\n",
      " False False False False False False False False False False False False\n",
      " False False False False False False False False False False False False\n",
      " False False False False False False False False False False False False\n",
      " False False False False False False False False False False False False\n",
      " False False False False False False False False False False False False\n",
      " False False False]\n"
     ]
    }
   ],
   "source": [
    "ground_truth = np.zeros((np.shape(x)[1],))\n",
    "ground_truth[0:5] = 1\n",
    "\n",
    "# total non zero \n",
    "num_non_zero = sum((x==0 for x in w))\n",
    "\n",
    "# correct non zeros \n",
    "w_logical = w!=0\n",
    "\n",
    "ground_truth \n",
    "correct_non_zero = sum(w_logical==ground_truth)\n",
    "w_logical\n",
    "print(w_logical)"
   ]
  },
  {
   "cell_type": "code",
   "execution_count": 94,
   "metadata": {},
   "outputs": [
    {
     "data": {
      "text/plain": [
       "array([ True,  True,  True,  True,  True, False, False, False, False,\n",
       "       False, False, False, False, False, False, False, False, False,\n",
       "       False, False, False, False, False, False, False, False, False,\n",
       "       False, False, False, False, False, False, False, False, False,\n",
       "       False, False, False, False, False, False, False, False, False,\n",
       "       False, False, False, False, False, False, False, False, False,\n",
       "       False, False, False, False, False, False, False, False, False,\n",
       "       False, False, False, False, False, False, False, False, False,\n",
       "       False, False, False], dtype=bool)"
      ]
     },
     "execution_count": 94,
     "metadata": {},
     "output_type": "execute_result"
    }
   ],
   "source": [
    "np.logical_and(ground_truth,w_logical)"
   ]
  },
  {
   "cell_type": "code",
   "execution_count": 32,
   "metadata": {},
   "outputs": [
    {
     "name": "stdout",
     "output_type": "stream",
     "text": [
      "[0, 1, 2, 5, 5, 5, 5, 5, 5, 5, 5, 5, 5, 5, 5, 5, 5, 5, 5, 5, 5, 5, 5, 5, 5, 5, 5, 5, 5, 5, 5, 5, 5, 5, 5, 5, 5, 5, 5, 5, 5, 5, 5, 5, 5, 5, 5, 5, 5, 5, 5, 5, 5, 5, 5, 5, 5, 5, 5, 5, 5, 5, 5, 5, 5, 5, 5, 5, 5, 5, 5, 5, 5, 5, 5, 5, 5, 5, 5, 5, 5, 5, 5, 5, 5, 5, 5, 5, 5, 5, 5, 5, 5, 5, 5, 5, 5, 5, 5, 5, 5, 5, 5, 5, 5, 5, 5, 5, 5, 5, 5, 5, 5, 5, 5, 5, 5, 5, 5, 5, 5, 5, 5, 5, 5, 5, 5, 5, 5, 5, 5, 5, 5, 5, 5, 5, 5, 5, 5, 5, 5, 5, 5, 5, 5, 5, 5, 5, 5, 5, 5, 5, 5, 6, 5, 6, 6, 7, 6, 6, 6, 7, 7, 11, 18, 20, 17, 26, 34, 43, 58]\n",
      "[0, 1, 2, 5, 5, 5, 5, 5, 5, 5, 5, 5, 5, 5, 5, 5, 5, 5, 5, 5, 5, 5, 5, 5, 5, 5, 5, 5, 5, 5, 5, 5, 5, 5, 5, 5, 5, 5, 5, 5, 5, 5, 5, 5, 5, 5, 5, 5, 5, 5, 5, 5, 5, 5, 5, 5, 5, 5, 5, 5, 5, 5, 5, 5, 5, 5, 5, 5, 5, 5, 5, 5, 5, 5, 5, 5, 5, 5, 5, 5, 5, 5, 5, 5, 5, 5, 5, 5, 5, 5, 5, 5, 5, 5, 5, 5, 5, 5, 5, 5, 5, 5, 5, 5, 5, 5, 5, 5, 5, 5, 5, 5, 5, 5, 5, 5, 5, 5, 5, 5, 5, 5, 5, 5, 5, 5, 5, 5, 5, 5, 5, 5, 5, 5, 5, 5, 5, 5, 5, 5, 5, 5, 5, 5, 5, 5, 5, 5, 5, 5, 5, 5, 5, 5, 5, 5, 5, 5, 5, 5, 5, 5, 5, 5, 5, 5, 5, 5, 5, 5, 5]\n"
     ]
    }
   ],
   "source": [
    "print(num_non_zero_vec)\n",
    "print(correct_non_zero_vec)"
   ]
  },
  {
   "cell_type": "code",
   "execution_count": 50,
   "metadata": {},
   "outputs": [
    {
     "name": "stdout",
     "output_type": "stream",
     "text": [
      "[ True  True  True  True  True False False False  True False  True False\n",
      " False  True  True  True False False False False False  True False False\n",
      " False  True False False  True False False  True  True False  True False\n",
      " False False False  True False  True False False False False False False\n",
      " False False  True False False  True False  True False  True  True False\n",
      " False False  True  True False False False  True False False False False\n",
      " False False False]\n",
      "[  1.00000000e+01   1.00000000e+01   1.00000000e+01   1.00000000e+01\n",
      "   1.00000000e+01   0.00000000e+00   0.00000000e+00   0.00000000e+00\n",
      "   6.65034546e-16   0.00000000e+00   2.62064425e-16   0.00000000e+00\n",
      "   0.00000000e+00   1.69814498e-17   4.04643914e-16   3.35177492e-16\n",
      "   0.00000000e+00   0.00000000e+00   0.00000000e+00   0.00000000e+00\n",
      "   0.00000000e+00   6.50684662e-16   0.00000000e+00   0.00000000e+00\n",
      "   0.00000000e+00   5.35443039e-16   0.00000000e+00   0.00000000e+00\n",
      "   2.81110561e-16   0.00000000e+00   0.00000000e+00   1.52376113e-15\n",
      "   1.01490317e-16   0.00000000e+00   7.12339907e-16   0.00000000e+00\n",
      "   0.00000000e+00   0.00000000e+00   0.00000000e+00   6.74511839e-17\n",
      "   0.00000000e+00   2.58467987e-16   0.00000000e+00   0.00000000e+00\n",
      "   0.00000000e+00   0.00000000e+00   0.00000000e+00   0.00000000e+00\n",
      "   0.00000000e+00   0.00000000e+00   2.31605466e-16   0.00000000e+00\n",
      "   0.00000000e+00   5.47573129e-17   0.00000000e+00   4.36895736e-16\n",
      "   0.00000000e+00   2.24364414e-16   1.49201740e-16   0.00000000e+00\n",
      "   0.00000000e+00   0.00000000e+00   4.88849627e-17   1.39257446e-16\n",
      "   0.00000000e+00   0.00000000e+00   0.00000000e+00   2.34708203e-16\n",
      "   0.00000000e+00   0.00000000e+00   0.00000000e+00   0.00000000e+00\n",
      "   0.00000000e+00   0.00000000e+00   0.00000000e+00]\n"
     ]
    }
   ],
   "source": [
    "print(np.abs(w_vec[167])>0)\n",
    "print(np.abs(w_vec[167]))"
   ]
  },
  {
   "cell_type": "code",
   "execution_count": 23,
   "metadata": {},
   "outputs": [
    {
     "data": {
      "text/plain": [
       "array([False, False, False, False, False, False, False, False, False,\n",
       "       False, False, False, False, False, False, False, False, False,\n",
       "       False, False, False, False, False, False, False, False, False,\n",
       "       False, False, False, False, False, False, False, False, False,\n",
       "       False, False, False, False, False, False, False, False, False,\n",
       "       False, False, False, False, False, False, False, False, False,\n",
       "       False, False, False, False, False, False, False, False, False,\n",
       "       False, False, False, False, False, False, False, False, False,\n",
       "       False, False, False, False, False, False, False, False, False,\n",
       "       False, False, False, False, False, False, False, False, False,\n",
       "       False, False, False, False, False, False, False, False, False,\n",
       "       False, False, False, False, False, False, False, False, False,\n",
       "       False, False, False, False, False, False, False, False, False,\n",
       "       False, False, False, False, False, False, False, False, False,\n",
       "       False, False, False, False, False, False, False, False, False,\n",
       "       False, False, False, False, False, False, False, False, False,\n",
       "       False, False, False, False, False, False, False, False, False,\n",
       "       False, False, False, False, False, False, False,  True, False,\n",
       "       False, False,  True,  True,  True,  True,  True,  True,  True,\n",
       "        True,  True,  True], dtype=bool)"
      ]
     },
     "execution_count": 23,
     "metadata": {},
     "output_type": "execute_result"
    },
    {
     "data": {
      "text/plain": [
       "array([  1.28602928e+03,   1.02882342e+03,   8.23058739e+02,\n",
       "         6.58446991e+02,   5.26757593e+02,   4.21406074e+02,\n",
       "         3.37124860e+02,   2.69699888e+02,   2.15759910e+02,\n",
       "         1.72607928e+02,   1.38086342e+02,   1.10469074e+02,\n",
       "         8.83752592e+01,   7.07002073e+01,   5.65601659e+01,\n",
       "         4.52481327e+01,   3.61985062e+01,   2.89588049e+01,\n",
       "         2.31670439e+01,   1.85336352e+01,   1.48269081e+01,\n",
       "         1.18615265e+01,   9.48922120e+00,   7.59137696e+00,\n",
       "         6.07310157e+00,   4.85848125e+00,   3.88678500e+00,\n",
       "         3.10942800e+00,   2.48754240e+00,   1.99003392e+00,\n",
       "         1.59202714e+00,   1.27362171e+00,   1.01889737e+00,\n",
       "         8.15117894e-01,   6.52094315e-01,   5.21675452e-01,\n",
       "         4.17340362e-01,   3.33872290e-01,   2.67097832e-01,\n",
       "         2.13678265e-01,   1.70942612e-01,   1.36754090e-01,\n",
       "         1.09403272e-01,   8.75226175e-02,   7.00180940e-02,\n",
       "         5.60144752e-02,   4.48115801e-02,   3.58492641e-02,\n",
       "         2.86794113e-02,   2.29435290e-02,   1.83548232e-02,\n",
       "         1.46838586e-02,   1.17470869e-02,   9.39766949e-03,\n",
       "         7.51813559e-03,   6.01450847e-03,   4.81160678e-03,\n",
       "         3.84928542e-03,   3.07942834e-03,   2.46354267e-03,\n",
       "         1.97083414e-03,   1.57666731e-03,   1.26133385e-03,\n",
       "         1.00906708e-03,   8.07253662e-04,   6.45802930e-04,\n",
       "         5.16642344e-04,   4.13313875e-04,   3.30651100e-04,\n",
       "         2.64520880e-04,   2.11616704e-04,   1.69293363e-04,\n",
       "         1.35434691e-04,   1.08347752e-04,   8.66782020e-05,\n",
       "         6.93425616e-05,   5.54740493e-05,   4.43792394e-05,\n",
       "         3.55033915e-05,   2.84027132e-05,   2.27221706e-05,\n",
       "         1.81777365e-05,   1.45421892e-05,   1.16337513e-05,\n",
       "         9.30700107e-06,   7.44560086e-06,   5.95648069e-06,\n",
       "         4.76518455e-06,   3.81214764e-06,   3.04971811e-06,\n",
       "         2.43977449e-06,   1.95181959e-06,   1.56145567e-06,\n",
       "         1.24916454e-06,   9.99331631e-07,   7.99465305e-07,\n",
       "         6.39572244e-07,   5.11657795e-07,   4.09326236e-07,\n",
       "         3.27460989e-07,   2.61968791e-07,   2.09575033e-07,\n",
       "         1.67660026e-07,   1.34128021e-07,   1.07302417e-07,\n",
       "         8.58419334e-08,   6.86735467e-08,   5.49388374e-08,\n",
       "         4.39510699e-08,   3.51608559e-08,   2.81286847e-08,\n",
       "         2.25029478e-08,   1.80023582e-08,   1.44018866e-08,\n",
       "         1.15215093e-08,   9.21720742e-09,   7.37376593e-09,\n",
       "         5.89901275e-09,   4.71921020e-09,   3.77536816e-09,\n",
       "         3.02029453e-09,   2.41623562e-09,   1.93298850e-09,\n",
       "         1.54639080e-09,   1.23711264e-09,   9.89690110e-10,\n",
       "         7.91752088e-10,   6.33401671e-10,   5.06721337e-10,\n",
       "         4.05377069e-10,   3.24301655e-10,   2.59441324e-10,\n",
       "         2.07553059e-10,   1.66042448e-10,   1.32833958e-10,\n",
       "         1.06267166e-10,   8.50137332e-11,   6.80109865e-11,\n",
       "         5.44087892e-11,   4.35270314e-11,   3.48216251e-11,\n",
       "         2.78573001e-11,   2.22858401e-11,   1.78286721e-11,\n",
       "         1.42629376e-11,   1.14103501e-11,   9.12828009e-12,\n",
       "         7.30262407e-12,   5.84209926e-12,   4.67367941e-12,\n",
       "         3.73894352e-12,   2.99115482e-12,   2.39292386e-12,\n",
       "         1.91433908e-12,   1.53147127e-12,   1.22517701e-12,\n",
       "         9.80141611e-13,   7.84113289e-13,   6.27290631e-13,\n",
       "         5.01832505e-13,   4.01466004e-13,   3.21172803e-13,\n",
       "         2.56938243e-13,   2.05550594e-13,   1.64440475e-13,\n",
       "         1.31552380e-13,   1.05241904e-13,   8.41935233e-14,\n",
       "         6.73548187e-14,   5.38838549e-14,   4.31070839e-14,\n",
       "         3.44856672e-14,   2.75885337e-14,   2.20708270e-14])"
      ]
     },
     "execution_count": 23,
     "metadata": {},
     "output_type": "execute_result"
    }
   ],
   "source": [
    "mask = np.array(num_non_zero_vec)>5\n",
    "mask\n",
    "lambda_vec_array = np.array(lambda_vec)\n",
    "lambda_vec_array\n"
   ]
  },
  {
   "cell_type": "code",
   "execution_count": null,
   "metadata": {},
   "outputs": [],
   "source": [
    "[ 1.          1.          1.          1.          1.          1.          1.\n",
    "  1.          1.          1.          1.          1.          1.          1.\n",
    "  1.          1.          1.          1.          1.          1.          1.\n",
    "  1.          1.          1.          1.          1.          1.          1.\n",
    "  1.          1.          1.          1.          1.          1.          1.\n",
    "  1.          1.          1.          1.          1.          1.          1.\n",
    "  1.          1.          1.          1.          1.          1.          1.\n",
    "  1.          1.          1.          1.          1.          1.          1.\n",
    "  1.          1.          1.          1.          1.          1.          1.\n",
    "  1.          1.          1.          1.          1.          1.          1.\n",
    "  1.          1.          1.          1.          1.          1.          1.\n",
    "  1.          1.          1.          1.          1.          1.          1.\n",
    "  1.          1.          1.          1.          1.          1.          1.\n",
    "  1.          1.          1.          1.          1.          1.          1.\n",
    "  1.          1.          1.          1.          1.          1.          1.\n",
    "  1.          1.          1.          1.          1.          1.          1.\n",
    "  1.          1.          1.          1.          1.          1.          1.\n",
    "  1.          1.          1.          1.          1.          1.          1.\n",
    "  1.          1.          1.          1.          1.          1.          1.\n",
    "  1.          1.          1.          1.          1.          1.          1.\n",
    "  1.          1.          1.          1.          1.          1.          1.\n",
    "  1.          1.          1.          1.          1.          1.          1.\n",
    "  1.          0.83333333  0.83333333  0.625       0.55555556  0.55555556\n",
    "  0.71428571  0.83333333  0.55555556  0.35714286  0.35714286  0.25\n",
    "  0.11904762  0.11111111  0.11627907  0.10638298  0.10416667  0.09090909\n",
    "  0.07692308  0.07246377  0.07142857  0.06849315]"
   ]
  },
  {
   "cell_type": "code",
   "execution_count": 57,
   "metadata": {},
   "outputs": [
    {
     "data": {
      "text/plain": [
       "(171,)"
      ]
     },
     "execution_count": 57,
     "metadata": {},
     "output_type": "execute_result"
    },
    {
     "data": {
      "text/plain": [
       "(171,)"
      ]
     },
     "execution_count": 57,
     "metadata": {},
     "output_type": "execute_result"
    }
   ],
   "source": [
    "np.shape(lambda_vec)\n",
    "np.shape(correct_non_zero_vec)"
   ]
  },
  {
   "cell_type": "code",
   "execution_count": 23,
   "metadata": {},
   "outputs": [
    {
     "data": {
      "text/plain": [
       "array([1, 2, 3, 4, 5])"
      ]
     },
     "execution_count": 23,
     "metadata": {},
     "output_type": "execute_result"
    },
    {
     "data": {
      "text/plain": [
       "array([1, 2, 3, 4, 5])"
      ]
     },
     "execution_count": 23,
     "metadata": {},
     "output_type": "execute_result"
    },
    {
     "data": {
      "text/plain": [
       "array([ 6,  7,  8,  9, 10])"
      ]
     },
     "execution_count": 23,
     "metadata": {},
     "output_type": "execute_result"
    },
    {
     "data": {
      "text/plain": [
       "array([1, 2, 3, 4, 5])"
      ]
     },
     "execution_count": 23,
     "metadata": {},
     "output_type": "execute_result"
    }
   ],
   "source": [
    "a = np.array([1,2,3,4,5])\n",
    "b = np.array(a)\n",
    "a\n",
    "b\n",
    "a += 5\n",
    "a\n",
    "b"
   ]
  },
  {
   "cell_type": "code",
   "execution_count": 39,
   "metadata": {},
   "outputs": [
    {
     "data": {
      "text/plain": [
       "(5,)"
      ]
     },
     "execution_count": 39,
     "metadata": {},
     "output_type": "execute_result"
    }
   ],
   "source": [
    "b = np.arange(5)\n",
    "np.shape(b)"
   ]
  },
  {
   "cell_type": "code",
   "execution_count": 20,
   "metadata": {},
   "outputs": [
    {
     "data": {
      "text/plain": [
       "[1286.0292799257877,\n",
       " 1028.8234239406302,\n",
       " 823.05873915250413,\n",
       " 658.44699132200333,\n",
       " 526.75759305760266,\n",
       " 421.40607444608213,\n",
       " 337.12485955686572,\n",
       " 269.69988764549259,\n",
       " 215.75991011639408,\n",
       " 172.60792809311528,\n",
       " 138.08634247449223,\n",
       " 110.46907397959379,\n",
       " 88.375259183675041,\n",
       " 70.700207346940033,\n",
       " 56.560165877552031,\n",
       " 45.24813270204163,\n",
       " 36.198506161633304,\n",
       " 28.958804929306645,\n",
       " 23.167043943445318,\n",
       " 18.533635154756254,\n",
       " 14.826908123805005,\n",
       " 11.861526499044004,\n",
       " 9.4892211992352031,\n",
       " 7.591376959388163,\n",
       " 6.0731015675105304,\n",
       " 4.8584812540084243,\n",
       " 3.8867850032067395,\n",
       " 3.1094280025653918,\n",
       " 2.4875424020523136,\n",
       " 1.990033921641851,\n",
       " 1.5920271373134809,\n",
       " 1.2736217098507847,\n",
       " 1.0188973678806279,\n",
       " 0.81511789430450232,\n",
       " 0.65209431544360186,\n",
       " 0.52167545235488155,\n",
       " 0.41734036188390528,\n",
       " 0.33387228950712422,\n",
       " 0.26709783160569939,\n",
       " 0.21367826528455952,\n",
       " 0.17094261222764762,\n",
       " 0.13675408978211809,\n",
       " 0.10940327182569448,\n",
       " 0.087522617460555591,\n",
       " 0.070018093968444481,\n",
       " 0.056014475174755586,\n",
       " 0.04481158013980447,\n",
       " 0.035849264111843575,\n",
       " 0.028679411289474863,\n",
       " 0.022943529031579892,\n",
       " 0.018354823225263914,\n",
       " 0.014683858580211132,\n",
       " 0.011747086864168907,\n",
       " 0.0093976694913351262,\n",
       " 0.0075181355930681011,\n",
       " 0.0060145084744544809,\n",
       " 0.0048116067795635851,\n",
       " 0.0038492854236508683,\n",
       " 0.0030794283389206948,\n",
       " 0.002463542671136556,\n",
       " 0.0019708341369092451,\n",
       " 0.0015766673095273962,\n",
       " 0.001261333847621917,\n",
       " 0.0010090670780975336,\n",
       " 0.00080725366247802694,\n",
       " 0.00064580292998242159,\n",
       " 0.00051664234398593727,\n",
       " 0.00041331387518874982,\n",
       " 0.00033065110015099985,\n",
       " 0.00026452088012079988,\n",
       " 0.00021161670409663991,\n",
       " 0.00016929336327731193,\n",
       " 0.00013543469062184954,\n",
       " 0.00010834775249747964,\n",
       " 8.6678201997983714e-05,\n",
       " 6.9342561598386977e-05,\n",
       " 5.5474049278709583e-05,\n",
       " 4.4379239422967668e-05,\n",
       " 3.5503391538374133e-05,\n",
       " 2.8402713230699307e-05,\n",
       " 2.2722170584559448e-05,\n",
       " 1.817773646764756e-05,\n",
       " 1.4542189174118049e-05,\n",
       " 1.1633751339294439e-05,\n",
       " 9.3070010714355521e-06,\n",
       " 7.4456008571484421e-06,\n",
       " 5.9564806857187538e-06,\n",
       " 4.7651845485750032e-06,\n",
       " 3.8121476388600028e-06,\n",
       " 3.0497181110880024e-06,\n",
       " 2.4397744888704023e-06,\n",
       " 1.9518195910963217e-06,\n",
       " 1.5614556728770574e-06,\n",
       " 1.2491645383016459e-06,\n",
       " 9.9933163064131689e-07,\n",
       " 7.9946530451305353e-07,\n",
       " 6.3957224361044287e-07,\n",
       " 5.1165779488835429e-07,\n",
       " 4.0932623591068348e-07,\n",
       " 3.2746098872854678e-07,\n",
       " 2.6196879098283744e-07,\n",
       " 2.0957503278626996e-07,\n",
       " 1.6766002622901597e-07,\n",
       " 1.3412802098321278e-07,\n",
       " 1.0730241678657023e-07,\n",
       " 8.5841933429256184e-08,\n",
       " 6.8673546743404955e-08,\n",
       " 5.4938837394723968e-08,\n",
       " 4.395106991577918e-08,\n",
       " 3.5160855932623347e-08,\n",
       " 2.812868474609868e-08,\n",
       " 2.2502947796878945e-08,\n",
       " 1.8002358237503158e-08,\n",
       " 1.4401886590002527e-08,\n",
       " 1.1521509272002022e-08,\n",
       " 9.2172074176016183e-09,\n",
       " 7.3737659340812948e-09,\n",
       " 5.899012747265036e-09,\n",
       " 4.7192101978120295e-09,\n",
       " 3.7753681582496234e-09,\n",
       " 3.020294526599699e-09,\n",
       " 2.4162356212797595e-09,\n",
       " 1.9329884970238078e-09,\n",
       " 1.5463907976190463e-09,\n",
       " 1.2371126380952372e-09,\n",
       " 9.8969011047618988e-10,\n",
       " 7.9175208838095193e-10,\n",
       " 6.334016707047616e-10,\n",
       " 5.0672133656380928e-10,\n",
       " 4.0537706925104744e-10,\n",
       " 3.2430165540083796e-10,\n",
       " 2.5944132432067037e-10,\n",
       " 2.0755305945653629e-10,\n",
       " 1.6604244756522906e-10,\n",
       " 1.3283395805218325e-10,\n",
       " 1.0626716644174661e-10,\n",
       " 8.5013733153397286e-11,\n",
       " 6.8010986522717834e-11,\n",
       " 5.4408789218174271e-11,\n",
       " 4.3527031374539422e-11,\n",
       " 3.4821625099631536e-11,\n",
       " 2.785730007970523e-11,\n",
       " 2.2285840063764184e-11,\n",
       " 1.782867205101135e-11,\n",
       " 1.426293764080908e-11,\n",
       " 1.1410350112647265e-11,\n",
       " 9.128280090117813e-12,\n",
       " 7.3026240720942504e-12,\n",
       " 5.8420992576754003e-12,\n",
       " 4.6736794061403204e-12,\n",
       " 3.7389435249122565e-12,\n",
       " 2.9911548199298055e-12,\n",
       " 2.3929238559438445e-12,\n",
       " 1.9143390847550758e-12,\n",
       " 1.5314712678040607e-12,\n",
       " 1.2251770142432485e-12,\n",
       " 9.8014161139459895e-13,\n",
       " 7.8411328911567918e-13,\n",
       " 6.2729063129254336e-13,\n",
       " 5.0183250503403473e-13,\n",
       " 4.0146600402722779e-13,\n",
       " 3.2117280322178224e-13,\n",
       " 2.569382425774258e-13,\n",
       " 2.0555059406194065e-13,\n",
       " 1.6444047524955253e-13,\n",
       " 1.3155238019964202e-13,\n",
       " 1.0524190415971362e-13,\n",
       " 8.4193523327770907e-14,\n",
       " 6.7354818662216723e-14,\n",
       " 5.3883854929773381e-14,\n",
       " 4.3107083943818708e-14,\n",
       " 3.4485667155054969e-14,\n",
       " 2.7588533724043977e-14,\n",
       " 2.2070826979235184e-14]"
      ]
     },
     "execution_count": 20,
     "metadata": {},
     "output_type": "execute_result"
    }
   ],
   "source": [
    "lambda_vec"
   ]
  },
  {
   "cell_type": "code",
   "execution_count": 9,
   "metadata": {},
   "outputs": [
    {
     "data": {
      "text/plain": [
       "[<matplotlib.lines.Line2D at 0x1eb39c27c18>]"
      ]
     },
     "execution_count": 9,
     "metadata": {},
     "output_type": "execute_result"
    },
    {
     "data": {
      "image/png": "[encoded data removed]",
      "text/plain": [
       "<matplotlib.figure.Figure at 0x1eb36d2ac88>"
      ]
     },
     "metadata": {},
     "output_type": "display_data"
    }
   ],
   "source": [
    "n = 50\n",
    "d = 75\n",
    "#n = 4000\n",
    "#d = 6000\n",
    "k = 5 \n",
    "sigma = 1\n",
    "\n",
    "# generate x_i\n",
    "cov_mat = np.identity(d)\n",
    "avg = np.zeros((d,))\n",
    "x = np.random.multivariate_normal(avg,cov_mat,n)\n",
    "x = np.random.multivariate_normal(avg,cov_mat)\n",
    "\n",
    "np.shape(x)\n",
    "plt.plot(x)"
   ]
  },
  {
   "cell_type": "code",
   "execution_count": null,
   "metadata": {},
   "outputs": [],
   "source": [
    "def lasso_CD_vec_inner(x,w,y,w_0,k):\n",
    "    n = np.shape(x)[0]\n",
    "    d = np.shape(x)[1]\n",
    "    \n",
    "    a = 2*np.dot(x[:,k].T,x[:,k])\n",
    "\n",
    "    # bool version\n",
    "    mask = np.ones(d,dtype=bool)\n",
    "    mask[k] = 0\n",
    "    x_temp = x[:,mask]\n",
    "    w_temp = w[mask]\n",
    "\n",
    "    diff_y_x_w0 = y - w_0 - np.dot(x_temp,w_temp)\n",
    "    c[k] = 2*np.dot(x[:,k].T,diff_y_x_w0)\n",
    "\n",
    "    if c[k] < - lambda_val:\n",
    "        w = ((c+lambda_val))/a\n",
    "    elif (-lambda_val < c[k] < lambda_val):\n",
    "        w[k] = 0\n",
    "    elif c[k] > lambda_val:\n",
    "        w[k] = ((c[k]-lambda_val))/a[k]\n",
    "    \n",
    "        \n",
    "lasso_vectorized = np.vectorize(lasso_CD_vec_inner)\n",
    "\n",
    "def lasso_CD_vec(x,y,lambda_val,w_init):\n",
    "    ### initialize conditions \n",
    "    delta = 1e-3\n",
    "    n = np.shape(x)[0]\n",
    "    d = np.shape(x)[1]\n",
    "\n",
    "    stop_cond = 100\n",
    "    w = w_init\n",
    "    a = np.zeros((d,))\n",
    "    c = np.zeros((d,))\n",
    "    stop_cond_vec = []\n",
    "    w_old = np.zeros((d,))\n",
    "\n",
    "    while(stop_cond>delta):\n",
    "        diff_y_x = y - np.dot(x,w)\n",
    "        w_0 = (1/n)*np.sum(diff_y_x)\n",
    "        d_range = np.arange(d)\n",
    "       # for k in np.arange(d):\n",
    "\n",
    "\n",
    "        weight_diff = w - w_old\n",
    "        w_old = np.array(w)\n",
    "\n",
    "\n",
    "        stop_cond = np.max(weight_diff)\n",
    "        stop_cond_vec.append(stop_cond)\n",
    "    \n",
    "    return w,stop_cond_vec"
   ]
  },
  {
   "cell_type": "code",
   "execution_count": 17,
   "metadata": {},
   "outputs": [
    {
     "data": {
      "text/plain": [
       "array([5, 6, 7, 8])"
      ]
     },
     "execution_count": 17,
     "metadata": {},
     "output_type": "execute_result"
    }
   ],
   "source": [
    "k = np.array([1,2,3,4])\n",
    "k + 4"
   ]
  },
  {
   "cell_type": "code",
   "execution_count": null,
   "metadata": {},
   "outputs": [],
   "source": []
  }
 ],
 "metadata": {
  "kernelspec": {
   "display_name": "Python 3",
   "language": "python",
   "name": "python3"
  },
  "language_info": {
   "codemirror_mode": {
    "name": "ipython",
    "version": 3
   },
   "file_extension": ".py",
   "mimetype": "text/x-python",
   "name": "python",
   "nbconvert_exporter": "python",
   "pygments_lexer": "ipython3",
   "version": "3.6.2"
  }
 },
 "nbformat": 4,
 "nbformat_minor": 2
}
