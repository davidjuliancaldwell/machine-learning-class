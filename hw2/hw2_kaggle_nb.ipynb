{
 "cells": [
  {
   "cell_type": "code",
   "execution_count": 1,
   "metadata": {},
   "outputs": [],
   "source": [
    "# import modules\n",
    "import numpy as np\n",
    "import matplotlib.pyplot as plt\n",
    "import scipy\n",
    "import seaborn as sns\n",
    "import copy\n",
    "sns.set()\n",
    "\n",
    "%matplotlib inline\n",
    "\n",
    "from IPython.core.interactiveshell import InteractiveShell\n",
    "InteractiveShell.ast_node_interactivity = \"all\""
   ]
  },
  {
   "cell_type": "code",
   "execution_count": 6,
   "metadata": {},
   "outputs": [],
   "source": [
    "#####################################\n",
    "\n",
    "def load_yelp():\n",
    "    # Load a csv of floats:\n",
    "    X = np.genfromtxt(\"upvote_data.csv\", delimiter=\",\")\n",
    "    # Load a text file of integers:\n",
    "    y = np.loadtxt(\"upvote_labels.txt\", dtype=np.int)\n",
    "    # Load a text file of strings:\n",
    "    featureNames = open(\"upvote_features.txt\").read().splitlines()\n",
    "    return X,y,featureNames\n",
    "\n",
    "def split(data,labels):\n",
    "    n_train = 4000\n",
    "    n_valid = 1000\n",
    "    n_test = 1000\n",
    "    \n",
    "    train_d = data[0:n_train,:]\n",
    "    train_l = labels[0:n_train]\n",
    "    \n",
    "    valid_d = data[n_train:n_train+n_valid,:]\n",
    "    valid_l = labels[n_train:n_train+n_valid]\n",
    "    \n",
    "    test_d = data[n_valid::,:]\n",
    "    test_l = labels[n_valid::]\n",
    "    \n",
    "    return train_d,valid_d,test_d,train_l,valid_l,test_l\n",
    "\n",
    "### lasso!\n",
    "\n",
    "def lambda_max_func(x,y):\n",
    "    k = np.shape(x)[1]\n",
    "    n = np.shape(x)[0]\n",
    "    lambda_vec = []\n",
    "    sum_y = (1/n)*np.sum(y[:])\n",
    "    for k_ind in np.arange(k):\n",
    "        \n",
    "        lambda_val = 2*np.abs(np.dot(x[:,k_ind].T,(y-sum_y)))\n",
    "        lambda_vec.append(lambda_val)\n",
    "    lambda_max = np.max(lambda_vec)\n",
    "    return lambda_max\n",
    "\n",
    "def lasso_CD(x,y,lambda_val,w_init):\n",
    "    ### initialize conditions \n",
    "    delta = 1e-4\n",
    "    n = np.shape(x)[0]\n",
    "    d = np.shape(x)[1]\n",
    "\n",
    "    stop_cond = 100\n",
    "    w = w_init\n",
    "    a = np.zeros((d,))\n",
    "    c = np.zeros((d,))\n",
    "    stop_cond_vec = []\n",
    "    w_old = np.zeros((d,))\n",
    "\n",
    "    while(stop_cond>delta):\n",
    "        diff_y_x = y - np.dot(x,w)\n",
    "        w_0 = (1/n)*np.sum(diff_y_x)\n",
    "\n",
    "        for k in np.arange(d):\n",
    "            a[k] = 2*np.dot(x[:,k].T,x[:,k])\n",
    "\n",
    "            # bool version\n",
    "            mask = np.ones(d,dtype=bool)\n",
    "            mask[k] = 0\n",
    "            x_temp = x[:,mask]\n",
    "            w_temp = w[mask]\n",
    "            \n",
    "            # delete version\n",
    "            #x_temp = np.delete(x,k,axis=1)\n",
    "            #w_temp = np.delete(w,k,axis=0)\n",
    "            \n",
    "            diff_y_x_w0 = y - w_0 - np.dot(x_temp,w_temp)\n",
    "            c[k] = 2*np.dot(x[:,k].T,diff_y_x_w0)\n",
    "\n",
    "            if c[k] < - lambda_val:\n",
    "                w[k] = ((c[k]+lambda_val))/a[k]\n",
    "            elif (-lambda_val < c[k] < lambda_val):\n",
    "                w[k] = 0\n",
    "            elif c[k] > lambda_val:\n",
    "                w[k] = ((c[k]-lambda_val))/a[k]\n",
    "\n",
    "        weight_diff = w - w_old\n",
    "        w_old = copy.deepcopy(w)\n",
    "\n",
    "\n",
    "        stop_cond = np.max(weight_diff)\n",
    "        print('value of lasso run {}'.format(stop_cond))\n",
    "        stop_cond_vec.append(stop_cond)\n",
    "    \n",
    "    return w,stop_cond_vec\n",
    "\n",
    "def lasso_loop(x_t,y_t,x_v,y_v):\n",
    "    w_vec = []\n",
    "    num_non_zero_vec = []\n",
    "    lambda_val = lambda_max_func(x_t,y_t)\n",
    "    lambda_vec = []\n",
    "    valid_error_vec=[]\n",
    "    train_error_vec = []\n",
    "    valid_error = 100\n",
    "    \n",
    "    w_init = np.random.random(np.shape(x_t)[1])\n",
    "    \n",
    "    while (valid_error>(0.1)):\n",
    "        print('the value of lambda is {}'.format(lambda_val))\n",
    "        w,stop_cond_vec = lasso_CD(x_t,y_t,lambda_val,w_init)\n",
    "        # total non zero \n",
    "        num_non_zero = sum((x!=0 for x in w))\n",
    "        \n",
    "        w_init = copy.deepcopy(w)\n",
    "        w_vec.append(w)\n",
    "        \n",
    "        train_error = error_calc(x_t,y_t,w)\n",
    "        valid_error = error_calc(x_v,y_v,w)\n",
    "        num_non_zero_vec.append(num_non_zero)\n",
    "        lambda_vec.append(lambda_val)\n",
    "        valid_error_vec.append(valid_error)\n",
    "        \n",
    "        \n",
    "        ratio = 3/5\n",
    "        \n",
    "        lambda_val = lambda_val*ratio\n",
    "        print('The validation error was {}'.format(valid_error))\n",
    "    \n",
    "    return w_vec,num_non_zero_vec,lambda_vec,valid_error_vec,train_error_vec\n",
    "\n",
    "def error_calc(x,y,w):\n",
    "    n = np.shape(y)[0]\n",
    "    error = (1/n)*np.sum((y-np.dot(x,w))**2)\n",
    "    return error\n",
    "\n",
    "def plot_valid_train(train_error_vec,valid_error_vec,num_non_zero_vec,lambda_vec):\n",
    "   \n",
    "    ax1= plt.figure(figsize=(4, 4), dpi=600)\n",
    "    plt.plot(lambda_vec,train_error_vec,label='training error')\n",
    "    plt.plot(lambda_vec,valid_error_vec,label='training error')\n",
    "    plt.xlabel(r'$ \\lambda $')\n",
    "    plt.title('Training and Validation error for various values of Labmda ')\n",
    "    plt.savefig('hw2_valid_train_error_kaggle.png')\n",
    "    # plot recall \n",
    "    ax2 = plt.figure(figsize=(4, 4), dpi=600)\n",
    "    plt.plot(lambda_vec,num_non_zero_vec)\n",
    "    plt.xlabel(r'$ \\lambda $')\n",
    "    plt.ylable('Number of non zero entries')\n",
    "    plt.title('Number of non zero entries for various values of lambda')\n",
    "    plt.savefig('hw2_nonzero_kaggle.png')\n",
    "    \n",
    "def plot_lasso(w,stop_cond_vec,w_star):\n",
    "    ax1 = sns.distplot(w, rug=True,hist=True,bins=100, kde=False, rug_kws={\"color\": \"g\"},hist_kws={\"histtype\": \"step\", \"linewidth\": 3, \"alpha\": 1, \"color\": \"g\"})\n",
    "\n",
    "    plt.figure()\n",
    "    ax3 = plt.bar(np.arange(len(w_star)),w_star,label='w*')\n",
    "    ax2 = plt.bar(np.arange(len(w)),1.1*w,label='computed weight matrix')\n",
    "    plt.legend()\n",
    "    plt.ylim([-10,10])\n",
    "\n",
    "    plt.figure()\n",
    "    ax3 = plt.plot(np.arange(len(stop_cond_vec)),stop_cond_vec)\n",
    "    plt.ylim([0,0.05])"
   ]
  },
  {
   "cell_type": "markdown",
   "metadata": {},
   "source": [
    "### part a"
   ]
  },
  {
   "cell_type": "code",
   "execution_count": 7,
   "metadata": {},
   "outputs": [],
   "source": [
    "# load data\n",
    "X,y,featureNames = load_yelp()\n",
    "\n",
    "# split data\n",
    "train_d,valid_d,test_d,train_l,valid_l,test_l = split(X,y)\n"
   ]
  },
  {
   "cell_type": "code",
   "execution_count": null,
   "metadata": {},
   "outputs": [
    {
     "name": "stdout",
     "output_type": "stream",
     "text": [
      "the value of lambda is 145.92594572640866\n",
      "value of lasso run 44.58538525941993\n",
      "value of lasso run 82.4998241228779\n"
     ]
    }
   ],
   "source": [
    "w_vec,num_non_zero_vec,lambda_vec,valid_error_vec,train_error_vec = lasso_loop(train_d,train_l,valid_d,valid_l)\n",
    "\n",
    "plot_valid_train(train_error_vec,valid_error_vec,num_non_zero_vec,lambda_vec)\n"
   ]
  },
  {
   "cell_type": "markdown",
   "metadata": {},
   "source": [
    "### part b"
   ]
  },
  {
   "cell_type": "code",
   "execution_count": 33,
   "metadata": {},
   "outputs": [],
   "source": [
    "# lambda optimal\n",
    "lambda_opt = ...\n",
    "w_init = w_vec[:,...]\n",
    "w_best,stop_cond_vec = lasso_CD(test_d,test_l,lambda_opt,w_init)\n",
    "\n",
    "test_error = error_calc(test_d,test_l,w_best)\n",
    "print('The test error is {}'.format(test_error))\n"
   ]
  },
  {
   "cell_type": "markdown",
   "metadata": {},
   "source": [
    "### part c"
   ]
  },
  {
   "cell_type": "code",
   "execution_count": 44,
   "metadata": {},
   "outputs": [
    {
     "data": {
      "text/plain": [
       "['sq(UserFunnyVotes*BusinessNumStars)',\n",
       " 'ReviewNumCharacters/BusinessLongitude',\n",
       " 'sq(ReviewNumWords*InMesa)',\n",
       " 'log(IsRestaurant/UserAverageStars)',\n",
       " 'sqrt(IsAutomotive*BusinessNumStars)',\n",
       " 'ReviewNumLineBreaks*ReviewInSpring',\n",
       " 'sqrt(IsAutomotive/UserFunnyVotes)',\n",
       " 'log(IsShopping/BusinessNumStars)',\n",
       " 'sqrt(IsRestaurant/InGilbert)',\n",
       " 'sqrt(ReviewInSummer/UserUsefulVotes)']"
      ]
     },
     "execution_count": 44,
     "metadata": {},
     "output_type": "execute_result"
    }
   ],
   "source": [
    "inds_top10 = np.argpartition(w, -10)[-10:]\n",
    "\n",
    "top10_weight = w[inds_top10]\n",
    "top10_featfeaturesNames[inds_top10]"
   ]
  },
  {
   "cell_type": "code",
   "execution_count": null,
   "metadata": {},
   "outputs": [],
   "source": []
  }
 ],
 "metadata": {
  "kernelspec": {
   "display_name": "Python 3",
   "language": "python",
   "name": "python3"
  },
  "language_info": {
   "codemirror_mode": {
    "name": "ipython",
    "version": 3
   },
   "file_extension": ".py",
   "mimetype": "text/x-python",
   "name": "python",
   "nbconvert_exporter": "python",
   "pygments_lexer": "ipython3",
   "version": "3.6.3"
  }
 },
 "nbformat": 4,
 "nbformat_minor": 2
}
