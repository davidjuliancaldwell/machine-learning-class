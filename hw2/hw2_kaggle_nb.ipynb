{
 "cells": [
  {
   "cell_type": "code",
   "execution_count": 1,
   "metadata": {},
   "outputs": [],
   "source": [
    "# import modules\n",
    "import numpy as np\n",
    "import matplotlib.pyplot as plt\n",
    "import scipy\n",
    "import seaborn as sns\n",
    "sns.set()\n",
    "\n",
    "%matplotlib inline\n",
    "\n",
    "from IPython.core.interactiveshell import InteractiveShell\n",
    "InteractiveShell.ast_node_interactivity = \"all\""
   ]
  },
  {
   "cell_type": "code",
   "execution_count": 17,
   "metadata": {},
   "outputs": [],
   "source": [
    "#####################################\n",
    "\n",
    "def load_yelp():\n",
    "    # Load a csv of floats:\n",
    "    X = np.genfromtxt(\"upvote_data.csv\", delimiter=\",\")\n",
    "    # Load a text file of integers:\n",
    "    y = np.loadtxt(\"upvote_labels.txt\", dtype=np.int)\n",
    "    # Load a text file of strings:\n",
    "    featureNames = open(\"upvote_features.txt\").read().splitlines()\n",
    "    return X,y,featureNames\n",
    "\n",
    "def split(data,labels):\n",
    "    n_train = 4000\n",
    "    n_valid = 1000\n",
    "    n_test = 1000\n",
    "    \n",
    "    train_d = data[0:n_train-1,:]\n",
    "    train_l = labels[0:n_train-1]\n",
    "    \n",
    "    valid_d = data[n_train:n_train+n_valid,:]\n",
    "    valid_l = labels[n_train:n_train+n_valid]\n",
    "    \n",
    "    test_d = data[n_valid::,:]\n",
    "    test_l = labels[n_valid::]\n",
    "    \n",
    "    return train_d,valid_d,test_d,train_l,valid_l,test_l"
   ]
  },
  {
   "cell_type": "markdown",
   "metadata": {},
   "source": [
    "### part a"
   ]
  },
  {
   "cell_type": "code",
   "execution_count": null,
   "metadata": {},
   "outputs": [],
   "source": [
    "# load data\n",
    "X,y,featureNames = load_yelp()\n",
    "\n",
    "# split data\n",
    "train_d,valid_d,test_d,train_l,valid_l,test_l = split(X,y)\n",
    "np.shape(train_d)"
   ]
  },
  {
   "cell_type": "markdown",
   "metadata": {},
   "source": [
    "### part b"
   ]
  },
  {
   "cell_type": "code",
   "execution_count": null,
   "metadata": {},
   "outputs": [],
   "source": []
  },
  {
   "cell_type": "markdown",
   "metadata": {},
   "source": [
    "### part c"
   ]
  },
  {
   "cell_type": "code",
   "execution_count": null,
   "metadata": {},
   "outputs": [],
   "source": []
  }
 ],
 "metadata": {
  "kernelspec": {
   "display_name": "Python 3",
   "language": "python",
   "name": "python3"
  },
  "language_info": {
   "codemirror_mode": {
    "name": "ipython",
    "version": 3
   },
   "file_extension": ".py",
   "mimetype": "text/x-python",
   "name": "python",
   "nbconvert_exporter": "python",
   "pygments_lexer": "ipython3",
   "version": "3.6.2"
  }
 },
 "nbformat": 4,
 "nbformat_minor": 2
}
