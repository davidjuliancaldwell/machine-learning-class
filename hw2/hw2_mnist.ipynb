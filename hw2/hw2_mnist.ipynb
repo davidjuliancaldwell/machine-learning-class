{
 "cells": [
  {
   "cell_type": "markdown",
   "metadata": {},
   "source": [
    "### import modules "
   ]
  },
  {
   "cell_type": "code",
   "execution_count": 6,
   "metadata": {},
   "outputs": [],
   "source": [
    "import numpy as np\n",
    "import matplotlib.pyplot as plt\n",
    "import scipy\n",
    "import seaborn as sns\n",
    "import mnist\n",
    "import pylab\n",
    "import copy\n",
    "\n",
    "sns.set()\n",
    "\n",
    "%matplotlib inline\n",
    "\n",
    "from IPython.core.interactiveshell import InteractiveShell\n",
    "InteractiveShell.ast_node_interactivity = \"all\""
   ]
  },
  {
   "cell_type": "markdown",
   "metadata": {},
   "source": [
    "### define functions for code"
   ]
  },
  {
   "cell_type": "code",
   "execution_count": 39,
   "metadata": {},
   "outputs": [],
   "source": [
    "\n",
    "# data loading function\n",
    "def load_dataset():\n",
    "    mndata = mnist.MNIST('./python-mnist/data/')\n",
    "    X_train, labels_train = map(np.array, mndata.load_training())\n",
    "    X_test, labels_test = map(np.array, mndata.load_testing())\n",
    "    X_train = X_train/255.0\n",
    "    X_test = X_test/255.0\n",
    "    \n",
    "    labels_train = labels_train.astype('int')\n",
    "    labels_test = labels_test.astype('int')\n",
    "    return X_train, X_test,labels_train,labels_test\n",
    "\n",
    "def convert_2_7(x_train,x_test,labels_train,labels_test):\n",
    "    #import pdb; pdb.set_trace()\n",
    "    mask_train = np.logical_or(labels_train==2,labels_train==7)\n",
    "    mask_test = np.logical_or(labels_test==2,labels_test==7)\n",
    "   # mask_train = labels_train==2 or labels_train==7\n",
    "    #mask_test = labels_test==2 or labels_test==7\n",
    "    \n",
    "    x_train_c = x_train[mask_train]\n",
    "    x_test_c = x_test[mask_test]\n",
    "    \n",
    "\n",
    "    labels_train_c = labels_train[mask_train]\n",
    "    labels_test_c = labels_test[mask_test]\n",
    "    \n",
    "    labels_train_c[labels_train_c==2] = -1\n",
    "    labels_train_c[labels_train_c==7] = 1\n",
    "\n",
    "    labels_test_c[labels_test_c==2] = -1\n",
    "    labels_test_c[labels_test_c==7] = 1\n",
    "\n",
    "    return x_train_c,x_test_c,labels_train_c,labels_test_c \n",
    "\n",
    "def gradient_method(X,y,lambda_val):\n",
    "    not_conv = True\n",
    "    j_vec = []\n",
    "    w_vec = []\n",
    "    b_vec = []\n",
    "    k_vec = []\n",
    "    k = 0\n",
    "    step_size = 1e-2\n",
    "    criteria_conv = 1e-2\n",
    "    w_old = np.zeros((np.shape(X)[1],1))\n",
    "    b_old = 0\n",
    "    w = np.array(w_old)\n",
    "    b = copy.copy(b_old)\n",
    "    n = np.shape(X)[0]\n",
    "    \n",
    "    while not_conv:\n",
    "        mu = 1/(1+np.exp(-y*(b+np.dot(X,w))))\n",
    "\n",
    "        g_w = np.dot(X.T,(mu - y)) + lambda_val*w\n",
    "        g_b = (1/n)*np.sum(mu-y)\n",
    "                \n",
    "        j = (1/n)*np.sum(np.log(1/mu)) + lambda_val*np.dot(w.T,w)\n",
    "        \n",
    "        # \n",
    "        w = w_old - step_size*g_w\n",
    "        b = b_old - step_size*g_b\n",
    "\n",
    "        delta_w = w-w_old\n",
    "        delta_b = b-b_old\n",
    "        \n",
    "        w_old = np.array(w)\n",
    "        b_old = copy.copy(b)\n",
    "                \n",
    "        k_vec.append(k)\n",
    "        j_vec.append(j)\n",
    "        \n",
    "        # check convergence\n",
    "        if np.sum(delta_w)<criteria_conv and k>1:\n",
    "            not_conv = False\n",
    "        else:\n",
    "            not_conv = False\n",
    "            k += 1      \n",
    "        print('the value of delta_w is {}'.format(delta_w))\n",
    "        print('the value of j is {}'.format(j))\n",
    "    return j_vec,w_vec,b_vec,k_vec\n",
    "\n",
    "# def newton_method(lambda_val):\n",
    "#     #g(w) = g(w) + lambda(w)\n",
    "#     # h(w) + lambda(I)\n",
    "#     criteria_conv = 1e-2\n",
    "#     theta_0 = ...\n",
    "    \n",
    "    \n",
    "#     k = 1\n",
    "#     conv = False\n",
    "    \n",
    "#     while conv:\n",
    "#         g[k] = np.dot(X.T,(mu - y))\n",
    "#         h[k] = np.dot() + np.identity(np.lamba_val\n",
    "\n",
    "    \n",
    "#         if ():\n",
    "#             conv = True\n",
    "#         else ():\n",
    "#             conv = False\n",
    "#             k += 1\n",
    "    \n",
    "#     return\n",
    "\n",
    "# def stochastic_gradient_method():\n",
    "    \n",
    "#     while conv:\n",
    "#         g[k] = np.dot(X.T,(mu - y))\n",
    "\n",
    "\n",
    "    \n",
    "#         if ():\n",
    "#             conv = True\n",
    "#         else ():\n",
    "#             conv = False\n",
    "#             k += 1\n",
    "     \n",
    "#     return\n",
    "\n",
    "def plot_objective_train_test(train,test,iter_num,name):\n",
    "    plt.figure(figsize=(4, 4), dpi=600)\n",
    "    plt.plot(iter_num,train,label='training data')\n",
    "    plt.plot(iter_num,test,label='test data')\n",
    "    plt.xlabel('iteration number')\n",
    "    plt.ylabel('objective funtion')\n",
    "    plt.title\n",
    "    plt.legend()\n",
    "    plt.savefig(name)\n",
    "    \n",
    "def classify(train_data,test_data,train_true,test_true,iter_num):\n",
    "    \n",
    "    train_data_class = np.sign(train_data)\n",
    "    test_data_class = np.sign(test_data)\n",
    "    \n",
    "    train_classify_error = [train_data_class == train_true]\n",
    "    test_classify_error = [test_data_class == test_true]\n",
    "    \n",
    "    plt.figure(figsize=(4, 4), dpi=600)\n",
    "    plt.plot(iter_num,train_classify_err,label='training data')\n",
    "    plt.plot(iter_num,test_classify_err,label='test data')\n",
    "    plt.xlabel('iteration number')\n",
    "    plt.ylabel('misclassification error')\n",
    "    plt.title('Misclassification error vs. iteration number')\n",
    "    plt.legend()\n",
    "    plt.savefig(name)"
   ]
  },
  {
   "cell_type": "markdown",
   "metadata": {},
   "source": [
    "### Load and convert data "
   ]
  },
  {
   "cell_type": "code",
   "execution_count": 8,
   "metadata": {},
   "outputs": [],
   "source": [
    "x_train,x_test,labels_train,labels_test = load_dataset()"
   ]
  },
  {
   "cell_type": "code",
   "execution_count": 9,
   "metadata": {},
   "outputs": [],
   "source": [
    "x_train_c,x_test_c,labels_train_c,labels_test_c  = convert_2_7(x_train,x_test,labels_train,labels_test)"
   ]
  },
  {
   "cell_type": "code",
   "execution_count": 12,
   "metadata": {},
   "outputs": [
    {
     "data": {
      "text/plain": [
       "(12223, 784)"
      ]
     },
     "execution_count": 12,
     "metadata": {},
     "output_type": "execute_result"
    },
    {
     "data": {
      "text/plain": [
       "(60000, 784)"
      ]
     },
     "execution_count": 12,
     "metadata": {},
     "output_type": "execute_result"
    }
   ],
   "source": [
    "np.shape(x_train_c)\n",
    "np.shape(x_train)"
   ]
  },
  {
   "cell_type": "markdown",
   "metadata": {},
   "source": [
    "### perform processing "
   ]
  },
  {
   "cell_type": "code",
   "execution_count": 15,
   "metadata": {},
   "outputs": [],
   "source": [
    "lambda_val = 10**-1\n"
   ]
  },
  {
   "cell_type": "code",
   "execution_count": 40,
   "metadata": {},
   "outputs": [
    {
     "name": "stdout",
     "output_type": "stream",
     "text": [
      "the value of delta_w is [[ 0.  0.  0. ...,  0.  0.  0.]\n",
      " [ 0.  0.  0. ...,  0.  0.  0.]\n",
      " [ 0.  0.  0. ...,  0.  0.  0.]\n",
      " ..., \n",
      " [ 0.  0.  0. ...,  0.  0.  0.]\n",
      " [ 0.  0.  0. ...,  0.  0.  0.]\n",
      " [ 0.  0.  0. ...,  0.  0.  0.]]\n",
      "the value of j is [[ 8472.33798799]]\n"
     ]
    }
   ],
   "source": [
    "X = x_train_c\n",
    "y = labels_train_c\n",
    "j_vec,w_vec,b_vec,k_vec = gradient_method(X,y,lambda_val)"
   ]
  },
  {
   "cell_type": "code",
   "execution_count": 66,
   "metadata": {},
   "outputs": [
    {
     "data": {
      "text/plain": [
       "array([-1,  0,  1])"
      ]
     },
     "execution_count": 66,
     "metadata": {},
     "output_type": "execute_result"
    }
   ],
   "source": [
    "np.sign([-5,0,5])"
   ]
  },
  {
   "cell_type": "code",
   "execution_count": 71,
   "metadata": {},
   "outputs": [
    {
     "data": {
      "text/plain": [
       "array([  2.71828183,   7.3890561 ,  20.08553692])"
      ]
     },
     "execution_count": 71,
     "metadata": {},
     "output_type": "execute_result"
    }
   ],
   "source": [
    "np.exp([1,2,3])"
   ]
  },
  {
   "cell_type": "code",
   "execution_count": 21,
   "metadata": {},
   "outputs": [
    {
     "data": {
      "text/plain": [
       "array([[ 0.]])"
      ]
     },
     "execution_count": 21,
     "metadata": {},
     "output_type": "execute_result"
    }
   ],
   "source": [
    "np.zeros((1,1))"
   ]
  },
  {
   "cell_type": "code",
   "execution_count": null,
   "metadata": {},
   "outputs": [],
   "source": []
  }
 ],
 "metadata": {
  "kernelspec": {
   "display_name": "Python 3",
   "language": "python",
   "name": "python3"
  },
  "language_info": {
   "codemirror_mode": {
    "name": "ipython",
    "version": 3
   },
   "file_extension": ".py",
   "mimetype": "text/x-python",
   "name": "python",
   "nbconvert_exporter": "python",
   "pygments_lexer": "ipython3",
   "version": "3.6.3"
  }
 },
 "nbformat": 4,
 "nbformat_minor": 2
}
