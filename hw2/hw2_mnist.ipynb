{
 "cells": [
  {
   "cell_type": "markdown",
   "metadata": {},
   "source": [
    "### import modules "
   ]
  },
  {
   "cell_type": "code",
   "execution_count": 50,
   "metadata": {},
   "outputs": [],
   "source": [
    "import numpy as np\n",
    "import matplotlib.pyplot as plt\n",
    "import scipy\n",
    "import seaborn as sns\n",
    "import mnist\n",
    "\n",
    "sns.set()\n",
    "\n",
    "%matplotlib inline\n",
    "\n",
    "from IPython.core.interactiveshell import InteractiveShell\n",
    "InteractiveShell.ast_node_interactivity = \"all\""
   ]
  },
  {
   "cell_type": "markdown",
   "metadata": {},
   "source": [
    "### define functions for code"
   ]
  },
  {
   "cell_type": "code",
   "execution_count": 70,
   "metadata": {},
   "outputs": [
    {
     "ename": "SyntaxError",
     "evalue": "invalid syntax (<ipython-input-70-833c806dfe83>, line 55)",
     "output_type": "error",
     "traceback": [
      "\u001b[0;36m  File \u001b[0;32m\"<ipython-input-70-833c806dfe83>\"\u001b[0;36m, line \u001b[0;32m55\u001b[0m\n\u001b[0;31m    else ():\u001b[0m\n\u001b[0m         ^\u001b[0m\n\u001b[0;31mSyntaxError\u001b[0m\u001b[0;31m:\u001b[0m invalid syntax\n"
     ]
    }
   ],
   "source": [
    "\n",
    "# data loading function\n",
    "def load_dataset():\n",
    "    mndata = mnist.MNIST('./python-mnist/data/')\n",
    "    X_train, labels_train = map(np.array, mndata.load_training())\n",
    "    X_test, labels_test = map(np.array, mndata.load_testing())\n",
    "    X_train = X_train/255.0\n",
    "    X_test = X_test/255.0\n",
    "    \n",
    "    labels_train = labels_train.astype('int')\n",
    "    labels_test = labels_test.astype('int')\n",
    "    return X_train, X_test,labels_train,labels_test\n",
    "\n",
    "def convert_2_7(x_train,x_test,labels_train,labels_test):\n",
    "    #import pdb; pdb.set_trace()\n",
    "    mask_train = np.logical_or(labels_train==2,labels_train==7)\n",
    "    mask_test = np.logical_or(labels_test==2,labels_test==7)\n",
    "   # mask_train = labels_train==2 or labels_train==7\n",
    "    #mask_test = labels_test==2 or labels_test==7\n",
    "    \n",
    "    x_train_c = x_train[mask_train]\n",
    "    x_test_c = x_test[mask_test]\n",
    "    \n",
    "\n",
    "    labels_train_c = labels_train[mask_train]\n",
    "    labels_test_c = labels_test[mask_test]\n",
    "    \n",
    "    labels_train_c[labels_train_c==2] = -1\n",
    "    labels_train_c[labels_train_c==7] = 1\n",
    "\n",
    "    labels_test_c[labels_test_c==2] = -1\n",
    "    labels_test_c[labels_test_c==7] = 1\n",
    "\n",
    "    return x_train_c,x_test_c,labels_train_c,labels_test_c \n",
    "\n",
    "def gradient_method(x,y,lambda_val):\n",
    "    theta_old = np.zeros(np.shape())\n",
    "    conv = False\n",
    "    j_vec = []\n",
    "    k_vec = []\n",
    "    k = 1 \n",
    "    step_size = \n",
    "    criteria_conv = 1e-2\n",
    "\n",
    "\n",
    "    while conv:\n",
    "        g[k] = np.dot(X.T,(mu - y)) + lambda_val*\n",
    "        u = 1/(1+np.exp(-y(b+)))\n",
    "        theta_\n",
    "        \n",
    "        delta_theta = theta - theta_old\n",
    "        \n",
    "        k_vec.append(k)\n",
    "        j_vec.append(j)\n",
    "        \n",
    "        # check convergence\n",
    "        if np.sum(delta_delta)<criteria_conv:\n",
    "            conv = True\n",
    "        else ():\n",
    "            conv = False\n",
    "            k += 1                                      \n",
    "    return \n",
    "\n",
    "def newton_method(lambda_val):\n",
    "    #g(w) = g(w) + lambda(w)\n",
    "    # h(w) + lambda(I)\n",
    "    criteria_conv = 1e-2\n",
    "    theta_0 = ...\n",
    "    \n",
    "    \n",
    "    k = 1\n",
    "    conv = False\n",
    "    \n",
    "    while conv:\n",
    "        g[k] = np.dot(X.T,(mu - y))\n",
    "        h[k] = np.dot() + np.identity(np.lamba_val\n",
    "\n",
    "    \n",
    "        if ():\n",
    "            conv = True\n",
    "        else ():\n",
    "            conv = False\n",
    "            k += 1\n",
    "    \n",
    "    return\n",
    "\n",
    "def stochastic_gradient_method():\n",
    "    \n",
    "    while conv:\n",
    "        g[k] = np.dot(X.T,(mu - y))\n",
    "\n",
    "\n",
    "    \n",
    "        if ():\n",
    "            conv = True\n",
    "        else ():\n",
    "            conv = False\n",
    "            k += 1\n",
    "     \n",
    "    return\n",
    "\n",
    "def plot_objective_train_test(train,test,iter_num,name):\n",
    "    plt.figure(figsize=(4, 4), dpi=600)\n",
    "    plt.plot(iter_num,train,label='training data')\n",
    "    plt.plot(iter_num,test,label='test data')\n",
    "    plt.xlabel('iteration number')\n",
    "    plt.ylabel('objective funtion')\n",
    "    plt.title\n",
    "    plt.legend()\n",
    "    plt.savefig(name)\n",
    "    \n",
    "def classify(train_data,test_data,train_true,test_true,iter_num):\n",
    "    \n",
    "    train_data_class = np.sign(train_data)\n",
    "    test_data_class = np.sign(test_data)\n",
    "    \n",
    "    train_classify_error = [train_data_class == train_true]\n",
    "    test_classify_error = [test_data_class == test_true]\n",
    "    \n",
    "    plt.figure(figsize=(4, 4), dpi=600)\n",
    "    plt.plot(iter_num,train_classify_err,label='training data')\n",
    "    plt.plot(iter_num,test_classify_err,label='test data')\n",
    "    plt.xlabel('iteration number')\n",
    "    plt.ylabel('misclassification error')\n",
    "    plt.title('Misclassification error vs. iteration number')\n",
    "    plt.legend()\n",
    "    plt.savefig(name)"
   ]
  },
  {
   "cell_type": "markdown",
   "metadata": {},
   "source": [
    "### Load and convert data "
   ]
  },
  {
   "cell_type": "code",
   "execution_count": 55,
   "metadata": {},
   "outputs": [],
   "source": [
    "x_train,x_test,labels_train,labels_test = load_dataset()"
   ]
  },
  {
   "cell_type": "code",
   "execution_count": 56,
   "metadata": {},
   "outputs": [],
   "source": [
    "x_train_c,x_test_c,labels_train_c,labels_test_c  = convert_2_7(x_train,x_test,labels_train,labels_test)"
   ]
  },
  {
   "cell_type": "markdown",
   "metadata": {},
   "source": [
    "### perform processing "
   ]
  },
  {
   "cell_type": "code",
   "execution_count": 2,
   "metadata": {},
   "outputs": [],
   "source": [
    "lambda_val = 10**-1\n"
   ]
  },
  {
   "cell_type": "code",
   "execution_count": 65,
   "metadata": {},
   "outputs": [
    {
     "data": {
      "text/plain": [
       "\u001b[0;31mCall signature:\u001b[0m  \u001b[0mnp\u001b[0m\u001b[0;34m.\u001b[0m\u001b[0msign\u001b[0m\u001b[0;34m(\u001b[0m\u001b[0;34m*\u001b[0m\u001b[0margs\u001b[0m\u001b[0;34m,\u001b[0m \u001b[0;34m**\u001b[0m\u001b[0mkwargs\u001b[0m\u001b[0;34m)\u001b[0m\u001b[0;34m\u001b[0m\u001b[0m\n",
       "\u001b[0;31mType:\u001b[0m            ufunc\n",
       "\u001b[0;31mString form:\u001b[0m     <ufunc 'sign'>\n",
       "\u001b[0;31mFile:\u001b[0m            ~/Virtualenvs/sciPyagain/lib/python3.6/site-packages/numpy/__init__.py\n",
       "\u001b[0;31mDocstring:\u001b[0m      \n",
       "sign(x, /, out=None, *, where=True, casting='same_kind', order='K', dtype=None, subok=True[, signature, extobj])\n",
       "\n",
       "Returns an element-wise indication of the sign of a number.\n",
       "\n",
       "The `sign` function returns ``-1 if x < 0, 0 if x==0, 1 if x > 0``.  nan\n",
       "is returned for nan inputs.\n",
       "\n",
       "For complex inputs, the `sign` function returns\n",
       "``sign(x.real) + 0j if x.real != 0 else sign(x.imag) + 0j``.\n",
       "\n",
       "complex(nan, 0) is returned for complex nan inputs.\n",
       "\n",
       "Parameters\n",
       "----------\n",
       "x : array_like\n",
       "  Input values.\n",
       "out : ndarray, None, or tuple of ndarray and None, optional\n",
       "    A location into which the result is stored. If provided, it must have\n",
       "    a shape that the inputs broadcast to. If not provided or `None`,\n",
       "    a freshly-allocated array is returned. A tuple (possible only as a\n",
       "    keyword argument) must have length equal to the number of outputs.\n",
       "where : array_like, optional\n",
       "    Values of True indicate to calculate the ufunc at that position, values\n",
       "    of False indicate to leave the value in the output alone.\n",
       "**kwargs\n",
       "    For other keyword-only arguments, see the\n",
       "    :ref:`ufunc docs <ufuncs.kwargs>`.\n",
       "\n",
       "Returns\n",
       "-------\n",
       "y : ndarray\n",
       "  The sign of `x`.\n",
       "\n",
       "Notes\n",
       "-----\n",
       "There is more than one definition of sign in common use for complex\n",
       "numbers.  The definition used here is equivalent to :math:`x/\\sqrt{x*x}`\n",
       "which is different from a common alternative, :math:`x/|x|`.\n",
       "\n",
       "Examples\n",
       "--------\n",
       ">>> np.sign([-5., 4.5])\n",
       "array([-1.,  1.])\n",
       ">>> np.sign(0)\n",
       "0\n",
       ">>> np.sign(5-2j)\n",
       "(1+0j)\n",
       "\u001b[0;31mClass docstring:\u001b[0m\n",
       "Functions that operate element by element on whole arrays.\n",
       "\n",
       "To see the documentation for a specific ufunc, use `info`.  For\n",
       "example, ``np.info(np.sin)``.  Because ufuncs are written in C\n",
       "(for speed) and linked into Python with NumPy's ufunc facility,\n",
       "Python's help() function finds this page whenever help() is called\n",
       "on a ufunc.\n",
       "\n",
       "A detailed explanation of ufuncs can be found in the docs for :ref:`ufuncs`.\n",
       "\n",
       "Calling ufuncs:\n",
       "===============\n",
       "\n",
       "op(*x[, out], where=True, **kwargs)\n",
       "Apply `op` to the arguments `*x` elementwise, broadcasting the arguments.\n",
       "\n",
       "The broadcasting rules are:\n",
       "\n",
       "* Dimensions of length 1 may be prepended to either array.\n",
       "* Arrays may be repeated along dimensions of length 1.\n",
       "\n",
       "Parameters\n",
       "----------\n",
       "*x : array_like\n",
       "    Input arrays.\n",
       "out : ndarray, None, or tuple of ndarray and None, optional\n",
       "    Alternate array object(s) in which to put the result; if provided, it\n",
       "    must have a shape that the inputs broadcast to. A tuple of arrays\n",
       "    (possible only as a keyword argument) must have length equal to the\n",
       "    number of outputs; use `None` for outputs to be allocated by the ufunc.\n",
       "where : array_like, optional\n",
       "    Values of True indicate to calculate the ufunc at that position, values\n",
       "    of False indicate to leave the value in the output alone.\n",
       "**kwargs\n",
       "    For other keyword-only arguments, see the :ref:`ufunc docs <ufuncs.kwargs>`.\n",
       "\n",
       "Returns\n",
       "-------\n",
       "r : ndarray or tuple of ndarray\n",
       "    `r` will have the shape that the arrays in `x` broadcast to; if `out` is\n",
       "    provided, `r` will be equal to `out`. If the function has more than one\n",
       "    output, then the result will be a tuple of arrays.\n"
      ]
     },
     "metadata": {},
     "output_type": "display_data"
    }
   ],
   "source": [
    "?np.sign"
   ]
  },
  {
   "cell_type": "code",
   "execution_count": 66,
   "metadata": {},
   "outputs": [
    {
     "data": {
      "text/plain": [
       "array([-1,  0,  1])"
      ]
     },
     "execution_count": 66,
     "metadata": {},
     "output_type": "execute_result"
    }
   ],
   "source": [
    "np.sign([-5,0,5])"
   ]
  },
  {
   "cell_type": "code",
   "execution_count": 71,
   "metadata": {},
   "outputs": [
    {
     "data": {
      "text/plain": [
       "array([  2.71828183,   7.3890561 ,  20.08553692])"
      ]
     },
     "execution_count": 71,
     "metadata": {},
     "output_type": "execute_result"
    }
   ],
   "source": [
    "np.exp([1,2,3])"
   ]
  },
  {
   "cell_type": "code",
   "execution_count": null,
   "metadata": {},
   "outputs": [],
   "source": []
  }
 ],
 "metadata": {
  "kernelspec": {
   "display_name": "Python 3",
   "language": "python",
   "name": "python3"
  },
  "language_info": {
   "codemirror_mode": {
    "name": "ipython",
    "version": 3
   },
   "file_extension": ".py",
   "mimetype": "text/x-python",
   "name": "python",
   "nbconvert_exporter": "python",
   "pygments_lexer": "ipython3",
   "version": "3.6.2"
  }
 },
 "nbformat": 4,
 "nbformat_minor": 2
}
