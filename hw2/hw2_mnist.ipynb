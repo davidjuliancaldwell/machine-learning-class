{
 "cells": [
  {
   "cell_type": "markdown",
   "metadata": {},
   "source": [
    "### import modules "
   ]
  },
  {
   "cell_type": "code",
   "execution_count": 1,
   "metadata": {},
   "outputs": [],
   "source": [
    "import numpy as np\n",
    "import matplotlib.pyplot as plt\n",
    "import scipy\n",
    "import seaborn as sns\n",
    "import mnist\n",
    "import pylab\n",
    "import copy\n",
    "\n",
    "sns.set()\n",
    "\n",
    "%matplotlib inline\n",
    "\n",
    "from IPython.core.interactiveshell import InteractiveShell\n",
    "InteractiveShell.ast_node_interactivity = \"all\""
   ]
  },
  {
   "cell_type": "markdown",
   "metadata": {},
   "source": [
    "### define functions for code"
   ]
  },
  {
   "cell_type": "code",
   "execution_count": 90,
   "metadata": {},
   "outputs": [],
   "source": [
    "\n",
    "# data loading function\n",
    "def load_dataset():\n",
    "    mndata = mnist.MNIST('./python-mnist/data/')\n",
    "    X_train, labels_train = map(np.array, mndata.load_training())\n",
    "    X_test, labels_test = map(np.array, mndata.load_testing())\n",
    "    X_train = X_train/255.0\n",
    "    X_test = X_test/255.0\n",
    "    \n",
    "    labels_train = labels_train.astype('int')\n",
    "    labels_test = labels_test.astype('int')\n",
    "    return X_train, X_test,labels_train,labels_test\n",
    "\n",
    "def convert_2_7(x_train,x_test,labels_train,labels_test):\n",
    "    #import pdb; pdb.set_trace()\n",
    "    mask_train = np.logical_or(labels_train==2,labels_train==7)\n",
    "    mask_test = np.logical_or(labels_test==2,labels_test==7)\n",
    "   # mask_train = labels_train==2 or labels_train==7\n",
    "    #mask_test = labels_test==2 or labels_test==7\n",
    "    \n",
    "    x_train_c = x_train[mask_train]\n",
    "    x_test_c = x_test[mask_test]\n",
    "    \n",
    "\n",
    "    labels_train_c = labels_train[mask_train]\n",
    "    labels_test_c = labels_test[mask_test]\n",
    "    \n",
    "    labels_train_c[labels_train_c==2] = -1\n",
    "    labels_train_c[labels_train_c==7] = 1\n",
    "\n",
    "    labels_test_c[labels_test_c==2] = -1\n",
    "    labels_test_c[labels_test_c==7] = 1\n",
    "\n",
    "    return x_train_c,x_test_c,labels_train_c,labels_test_c \n",
    "\n",
    "def gradient_method(X,y,lambda_val):\n",
    "    not_conv = True\n",
    "    j_vec = []\n",
    "    w_vec = []\n",
    "    b_vec = []\n",
    "    k_vec = []\n",
    "    k = 0\n",
    "    step_size = 1e-2\n",
    "    criteria_conv = 1e-2\n",
    "    w_old = np.zeros((np.shape(X)[1],))\n",
    "    b_old = 0\n",
    "    w = np.array(w_old)\n",
    "    b = copy.copy(b_old)\n",
    "    n = np.shape(X)[0]\n",
    "    mu_vec = np.zeros((np.shape(X)[0],))\n",
    "\n",
    "    while not_conv:\n",
    "        for i in np.arange(len(mu_vec)):\n",
    "            mu_vec[i]  = 1/(1+np.exp(-y[i]*(b+np.dot(X[i,:].T,w))))\n",
    "\n",
    "        g_w = np.dot(X.T,(mu_vec - y)) + lambda_val*w\n",
    "        g_b = (1/n)*np.sum(mu_vec-y)\n",
    "\n",
    "        j = (1/n)*np.sum(np.log(1/mu_vec)) + lambda_val*np.dot(w.T,w)\n",
    "\n",
    "        # \n",
    "        w = w_old - step_size*g_w\n",
    "        b = b_old - step_size*g_b\n",
    "        \n",
    "        w_vec.append(w)\n",
    "        b_vec.append(b)\n",
    "\n",
    "        delta_w = np.abs(w-w_old)\n",
    "        delta_b = np.abs(b-b_old)\n",
    "\n",
    "        w_old = np.array(w)\n",
    "        b_old = copy.copy(b)\n",
    "\n",
    "        k_vec.append(k)\n",
    "        j_vec.append(j)\n",
    "       # import pdb; pdb.set_trace()\n",
    "        # check convergence\n",
    "        if ((1/n)*np.sum(delta_w))<criteria_conv and k>1:\n",
    "            not_conv = False\n",
    "        else:\n",
    "            not_conv = True\n",
    "            k += 1      \n",
    "\n",
    "    #print('the value of delta_w is {}'.format(delta_w))\n",
    "        print(not_conv)\n",
    "        print('the value of j is {}'.format(j))\n",
    "       # import pdb; pdb.set_trace()\n",
    "    return j_vec,w_vec,b_vec,k_vec\n",
    "\n",
    "# def newton_method(lambda_val):\n",
    "#     #g(w) = g(w) + lambda(w)\n",
    "#     # h(w) + lambda(I)\n",
    "#     criteria_conv = 1e-2\n",
    "#     theta_0 = ...\n",
    "    \n",
    "    \n",
    "#     k = 1\n",
    "#     conv = False\n",
    "    \n",
    "#     while conv:\n",
    "#         g[k] = np.dot(X.T,(mu - y))\n",
    "#         h[k] = np.dot() + np.identity(np.lamba_val\n",
    "\n",
    "    \n",
    "#         if ():\n",
    "#             conv = True\n",
    "#         else ():\n",
    "#             conv = False\n",
    "#             k += 1\n",
    "    \n",
    "#     return\n",
    "\n",
    "# def stochastic_gradient_method():\n",
    "    \n",
    "#     while conv:\n",
    "#         g[k] = np.dot(X.T,(mu - y))\n",
    "\n",
    "\n",
    "    \n",
    "#         if ():\n",
    "#             conv = True\n",
    "#         else ():\n",
    "#             conv = False\n",
    "#             k += 1\n",
    "     \n",
    "#     return\n",
    "\n",
    "def plot_objective_train_test(train,test,iter_num,name):\n",
    "    plt.figure(figsize=(4, 4), dpi=600)\n",
    "    plt.plot(iter_num,train,label='training data')\n",
    "    plt.plot(iter_num,test,label='test data')\n",
    "    plt.xlabel('iteration number')\n",
    "    plt.ylabel('objective funtion')\n",
    "    plt.title\n",
    "    plt.legend()\n",
    "    plt.savefig(name)\n",
    "    \n",
    "def classify(train_data,test_data,train_true,test_true,iteration):\n",
    "    \n",
    "    train_signed = (b+np.dot(train_data),)\n",
    "    test_signed = \n",
    "    \n",
    "    train_data_class = np.sign(train_signed)\n",
    "    test_data_class = np.sign(test_signed)\n",
    "    \n",
    "    train_classify_error = [train_data_class == train_true]\n",
    "    test_classify_error = [test_data_class == test_true]\n",
    "    \n",
    "    plt.figure(figsize=(4, 4), dpi=600)\n",
    "    plt.plot(iter_num,train_classify_err,label='training data')\n",
    "    plt.plot(iter_num,test_classify_err,label='test data')\n",
    "    plt.xlabel('iteration number')\n",
    "    plt.ylabel('misclassification error')\n",
    "    plt.title('Misclassification error vs. iteration number')\n",
    "    plt.legend()\n",
    "    plt.savefig(name)"
   ]
  },
  {
   "cell_type": "markdown",
   "metadata": {},
   "source": [
    "### Load and convert data "
   ]
  },
  {
   "cell_type": "code",
   "execution_count": 3,
   "metadata": {},
   "outputs": [],
   "source": [
    "x_train,x_test,labels_train,labels_test = load_dataset()"
   ]
  },
  {
   "cell_type": "code",
   "execution_count": 4,
   "metadata": {},
   "outputs": [],
   "source": [
    "x_train_c,x_test_c,labels_train_c,labels_test_c  = convert_2_7(x_train,x_test,labels_train,labels_test)"
   ]
  },
  {
   "cell_type": "code",
   "execution_count": 71,
   "metadata": {},
   "outputs": [
    {
     "data": {
      "text/plain": [
       "(12223, 784)"
      ]
     },
     "execution_count": 71,
     "metadata": {},
     "output_type": "execute_result"
    },
    {
     "data": {
      "text/plain": [
       "(60000, 784)"
      ]
     },
     "execution_count": 71,
     "metadata": {},
     "output_type": "execute_result"
    }
   ],
   "source": [
    "np.shape(x_train_c)\n",
    "np.shape(x_train)"
   ]
  },
  {
   "cell_type": "markdown",
   "metadata": {},
   "source": [
    "### perform processing "
   ]
  },
  {
   "cell_type": "code",
   "execution_count": 84,
   "metadata": {},
   "outputs": [],
   "source": [
    "lambda_val = 10**-1\n"
   ]
  },
  {
   "cell_type": "code",
   "execution_count": 249,
   "metadata": {},
   "outputs": [
    {
     "name": "stdout",
     "output_type": "stream",
     "text": [
      "the value of j train is 0.6931471805599452\n",
      "the value of j train is 0.6100464731549151\n",
      "the value of j train is 0.5461126495837666\n",
      "the value of j train is 0.49622043693292295\n",
      "the value of j train is 0.4567673255146456\n",
      "the value of j train is 0.4251535428390847\n",
      "the value of j train is 0.39949258463025433\n",
      "the value of j train is 0.37840893333308034\n",
      "the value of j train is 0.3608913526747366\n",
      "the value of j train is 0.3461882296113563\n",
      "the value of j train is 0.3337339825204015\n",
      "the value of j train is 0.3230975549503133\n",
      "the value of j train is 0.31394626477936444\n",
      "the value of j train is 0.30602024168794373\n",
      "the value of j train is 0.2991141705115302\n",
      "the value of j train is 0.2930641053287706\n",
      "the value of j train is 0.2877378340860927\n",
      "the value of j train is 0.2830277551472078\n",
      "the value of j train is 0.2788455506730357\n",
      "the value of j train is 0.2751181597895804\n",
      "the value of j train is 0.27178470246546965\n",
      "the value of j train is 0.26879410630135325\n",
      "the value of j train is 0.2661032584356201\n",
      "the value of j train is 0.26367555364952205\n",
      "the value of j train is 0.26147974423733145\n",
      "the value of j train is 0.25948902178324607\n",
      "the value of j train is 0.25768027867811466\n",
      "the value of j train is 0.2560335100682292\n",
      "the value of j train is 0.25453132636285397\n",
      "the value of j train is 0.25315855341122717\n",
      "the value of j train is 0.2519019026744229\n",
      "the value of j train is 0.25074969764305227\n",
      "the value of j train is 0.24969164573019184\n",
      "the value of j train is 0.24871864714566325\n",
      "the value of j train is 0.24782263401060423\n",
      "the value of j train is 0.24699643432995372\n",
      "the value of j train is 0.24623365650051474\n",
      "the value of j train is 0.24552859086443574\n",
      "the value of j train is 0.2448761254751416\n",
      "the value of j train is 0.24427167376467723\n",
      "the value of j train is 0.2437111122181994\n",
      "the value of j train is 0.2431907264958737\n",
      "the value of j train is 0.24270716471227435\n",
      "the value of j train is 0.24225739680208647\n",
      "the value of j train is 0.2418386790789709\n",
      "the value of j train is 0.2414485232400623\n",
      "the value of j train is 0.24108466918814048\n",
      "the value of j train is 0.24074506114209812\n",
      "the value of j train is 0.2404278265879254\n",
      "the value of j train is 0.24013125769021465\n",
      "the value of j train is 0.23985379484070862\n",
      "the value of j train is 0.23959401206769151\n",
      "the value of j train is 0.23935060406971415\n"
     ]
    }
   ],
   "source": [
    "X = x_train_c\n",
    "y = labels_train_c\n",
    "X_test = x_test_c\n",
    "y_test = labels_test_c\n",
    "\n",
    "not_conv = True\n",
    "j_train_vec = []\n",
    "j_test_vec = []\n",
    "w_vec = []\n",
    "b_vec = []\n",
    "k_vec = []\n",
    "train_classify_vec = []\n",
    "test_classify_vec = []\n",
    "\n",
    "k = 0\n",
    "#step_size = 1e-3\n",
    "step_size = 5e-2\n",
    "criteria_conv = 2e-4\n",
    "\n",
    "w = np.zeros((np.shape(X)[1],))\n",
    "b = 0\n",
    "n = np.shape(X)[0]\n",
    "#mu_vec = np.zeros((np.shape(X)[0],))\n",
    "#cost_mu = np.zeros((np.shape(X)[0],))\n",
    "range_vec = np.arange(len(mu_vec))\n",
    "j_prev = 0\n",
    "\n",
    "while not_conv:\n",
    "    ##### training part \n",
    "    #mu_vec = [1/(1+np.exp(-y[i]*(b+np.dot(X[i,:].T,w)))) for i in range_vec]\n",
    "    #cost_mu = [(1+np.exp(-y[i]*(b+np.dot(X[i,:].T,w)))) for i in range_vec]\n",
    "    mu_vec = 1/(1+np.exp(-y.T*(b+np.dot(X,w)))) \n",
    "    cost_mu = 1+np.exp(-y.T*(b+np.dot(X,w)))\n",
    "     \n",
    "    #g_w = (1/n)*np.dot(X.T,(mu_vec - y)) + 2*lambda_val*w\n",
    "    #g_b = (1/n)*np.sum(mu_vec-y)\n",
    "    \n",
    "    g_w = (1/n)*(np.dot(X.T,(-y*(1-mu_vec)))) + 2*lambda_val*w\n",
    "    g_b = (1/n)*np.sum(-y*(1-mu_vec))\n",
    "    \n",
    "    j_train = (1/n)*(np.sum(np.log(cost_mu))) + lambda_val*np.dot(w.T,w)\n",
    "    ####### testing part\n",
    "    \n",
    "    mu_vec = 1/(1+np.exp(-y_test.T*(b+np.dot(X_test,w)))) \n",
    "    cost_mu = 1+np.exp(-y_test.T*(b+np.dot(X_test,w)))\n",
    "    \n",
    "    j_test = (1/n)*(np.sum(np.log(cost_mu))) + lambda_val*np.dot(w.T,w)\n",
    "\n",
    "    # \n",
    "    w_new = w - step_size*g_w\n",
    "    b_new = b - step_size*g_b\n",
    "    \n",
    "    w_vec.append(w)\n",
    "    b_vec.append(b)\n",
    "\n",
    "    delta_w = np.abs(w-w_old)\n",
    "    delta_b = np.abs(b-b_old)\n",
    "\n",
    "    #w = np.array(w)\n",
    "    w = copy.copy(w_new)\n",
    "    b = copy.copy(b_new)\n",
    "\n",
    "    k_vec.append(k)\n",
    "    j_train_vec.append(j_train)\n",
    "    j_test_vec.append(j_test)\n",
    "    \n",
    "    #### classificaiton\n",
    "    train_signed = (b+np.dot(X,w))\n",
    "    test_signed = (b+np.dot(X_test,w))\n",
    "\n",
    "    train_data_class = np.sign(train_signed)\n",
    "    test_data_class = np.sign(test_signed)\n",
    "\n",
    "    train_classify_error_vec = [train_data_class != y]\n",
    "    test_classify_error_vec = [test_data_class != y_test]\n",
    "    \n",
    "    train_classify_error = np.sum(train_classify_error_vec)/n\n",
    "    test_classify_error = np.sum(test_classify_error_vec)/n\n",
    "    \n",
    "    train_classify_vec.append(train_classify_error)\n",
    "    test_classify_vec.append(test_classify_error)\n",
    "    \n",
    "    # check convergence\n",
    "    if ((1/n)*np.sum(delta_w))<criteria_conv and k>1:\n",
    "        not_conv = False\n",
    "\n",
    "    else:\n",
    "        not_conv = True\n",
    "        k += 1\n",
    "\n",
    "    print('the value of j train is {}'.format(j_train))\n",
    "\n",
    "    #print('the value of delta_w is {}'.format(delta_w))\n",
    "    #print(mu_vec)\n",
    "    #print(not_conv)\n"
   ]
  },
  {
   "cell_type": "code",
   "execution_count": 252,
   "metadata": {},
   "outputs": [
    {
     "data": {
      "text/plain": [
       "<matplotlib.figure.Figure at 0x2bd20692160>"
      ]
     },
     "execution_count": 252,
     "metadata": {},
     "output_type": "execute_result"
    },
    {
     "data": {
      "text/plain": [
       "[<matplotlib.lines.Line2D at 0x2bd1c407278>]"
      ]
     },
     "execution_count": 252,
     "metadata": {},
     "output_type": "execute_result"
    },
    {
     "data": {
      "text/plain": [
       "[<matplotlib.lines.Line2D at 0x2bd1bde66a0>]"
      ]
     },
     "execution_count": 252,
     "metadata": {},
     "output_type": "execute_result"
    },
    {
     "data": {
      "text/plain": [
       "<matplotlib.text.Text at 0x2bd1c39e4a8>"
      ]
     },
     "execution_count": 252,
     "metadata": {},
     "output_type": "execute_result"
    },
    {
     "data": {
      "text/plain": [
       "<matplotlib.text.Text at 0x2bd1c3aeba8>"
      ]
     },
     "execution_count": 252,
     "metadata": {},
     "output_type": "execute_result"
    },
    {
     "data": {
      "text/plain": [
       "<matplotlib.text.Text at 0x2bd1c3d7860>"
      ]
     },
     "execution_count": 252,
     "metadata": {},
     "output_type": "execute_result"
    },
    {
     "data": {
      "text/plain": [
       "<matplotlib.legend.Legend at 0x2bd1c407e48>"
      ]
     },
     "execution_count": 252,
     "metadata": {},
     "output_type": "execute_result"
    },
    {
     "data": {
      "text/plain": [
       "<matplotlib.figure.Figure at 0x2bd1c41b978>"
      ]
     },
     "execution_count": 252,
     "metadata": {},
     "output_type": "execute_result"
    },
    {
     "data": {
      "text/plain": [
       "[<matplotlib.lines.Line2D at 0x2bd1c47bba8>]"
      ]
     },
     "execution_count": 252,
     "metadata": {},
     "output_type": "execute_result"
    },
    {
     "data": {
      "text/plain": [
       "[<matplotlib.lines.Line2D at 0x2bd1c424828>]"
      ]
     },
     "execution_count": 252,
     "metadata": {},
     "output_type": "execute_result"
    },
    {
     "data": {
      "text/plain": [
       "<matplotlib.text.Text at 0x2bd1c42ca90>"
      ]
     },
     "execution_count": 252,
     "metadata": {},
     "output_type": "execute_result"
    },
    {
     "data": {
      "text/plain": [
       "<matplotlib.text.Text at 0x2bd1c4422b0>"
      ]
     },
     "execution_count": 252,
     "metadata": {},
     "output_type": "execute_result"
    },
    {
     "data": {
      "text/plain": [
       "<matplotlib.text.Text at 0x2bd1c3b3be0>"
      ]
     },
     "execution_count": 252,
     "metadata": {},
     "output_type": "execute_result"
    },
    {
     "data": {
      "text/plain": [
       "<matplotlib.legend.Legend at 0x2bd1c487588>"
      ]
     },
     "execution_count": 252,
     "metadata": {},
     "output_type": "execute_result"
    },
    {
     "data": {
      "image/png": "[encoded data removed]",
      "text/plain": [
       "<matplotlib.figure.Figure at 0x2bd20692160>"
      ]
     },
     "metadata": {},
     "output_type": "display_data"
    },
    {
     "data": {
      "image/png": "[encoded data removed]",
      "text/plain": [
       "<matplotlib.figure.Figure at 0x2bd1c41b978>"
      ]
     },
     "metadata": {},
     "output_type": "display_data"
    }
   ],
   "source": [
    "plt.figure()\n",
    "plt.plot(k_vec,j_train_vec,label='training')\n",
    "plt.plot(k_vec,j_test_vec,label='testing')\n",
    "plt.xlabel('iteration number')\n",
    "plt.ylabel('cost function')\n",
    "plt.title('Cost function vs. iteration')\n",
    "plt.legend()\n",
    "index = np.argmin(j_train_vec)\n",
    "k_best = k_vec[index]\n",
    "w_best = w_vec[index]\n",
    "\n",
    "\n",
    "plt.figure()\n",
    "plt.plot(k_vec,train_classify_vec,label='training data')\n",
    "plt.plot(k_vec,test_classify_vec,label='test data')\n",
    "plt.xlabel('iteration number')\n",
    "plt.ylabel('misclassification error')\n",
    "plt.title('Misclassification error vs. iteration number')\n",
    "plt.legend()\n"
   ]
  },
  {
   "cell_type": "code",
   "execution_count": null,
   "metadata": {},
   "outputs": [],
   "source": []
  }
 ],
 "metadata": {
  "kernelspec": {
   "display_name": "Python 3",
   "language": "python",
   "name": "python3"
  },
  "language_info": {
   "codemirror_mode": {
    "name": "ipython",
    "version": 3
   },
   "file_extension": ".py",
   "mimetype": "text/x-python",
   "name": "python",
   "nbconvert_exporter": "python",
   "pygments_lexer": "ipython3",
   "version": "3.6.2"
  }
 },
 "nbformat": 4,
 "nbformat_minor": 2
}
