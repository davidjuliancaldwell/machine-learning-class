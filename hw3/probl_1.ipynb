{
 "cells": [
  {
   "cell_type": "code",
   "execution_count": 1,
   "metadata": {
    "collapsed": true
   },
   "outputs": [],
   "source": [
    "# import modules\n",
    "import numpy as np\n",
    "import matplotlib.pyplot as plt\n",
    "import scipy\n",
    "import seaborn as sns\n",
    "sns.set()\n",
    "#plt.rc('text', usetex=True)\n",
    "#plt.rc('font', family='serif')\n",
    "\n",
    "%matplotlib inline\n",
    "\n",
    "from IPython.core.interactiveshell import InteractiveShell\n",
    "InteractiveShell.ast_node_interactivity = \"all\""
   ]
  },
  {
   "cell_type": "code",
   "execution_count": null,
   "metadata": {
    "collapsed": true
   },
   "outputs": [],
   "source": [
    "u_1 = np.array([[1],[2]])\n",
    "cov_1 = np.array([[1,0],[0,2]])\n",
    "\n",
    "u_2 = np.array([[-1],[1]])\n",
    "cov_2 = np.array([[2,-1.8],[-1.8,2]])\n",
    "\n",
    "n_pt = 1000\n",
    "rand_xy = np.squeeze(np.array([[np.random.randn(n_pt)],[np.random.randn(n_pt)]]))"
   ]
  },
  {
   "cell_type": "code",
   "execution_count": null,
   "metadata": {
    "collapsed": true
   },
   "outputs": [],
   "source": [
    "w1,v1 = scipy.linalg.eig(cov_1)\n",
    "idx = w1.argsort()[::-1]   \n",
    "w1 = np.real(w1[idx])\n",
    "v1 = v1[:,idx]\n",
    "a_1 = v1*(w1**0.5)\n",
    "\n",
    "w1_half = w1**0.5\n",
    "cov_1_half = v1*w1_half*v1.T\n",
    "rand_xy_scale_1_v2 = np.dot(cov_1_half,rand_xy) + np.matlib.repmat(u_1,1,n_pt)"
   ]
  }
 ],
 "metadata": {
  "kernelspec": {
   "display_name": "Python 3",
   "language": "python",
   "name": "python3"
  },
  "language_info": {
   "codemirror_mode": {
    "name": "ipython",
    "version": 3
   },
   "file_extension": ".py",
   "mimetype": "text/x-python",
   "name": "python",
   "nbconvert_exporter": "python",
   "pygments_lexer": "ipython3",
   "version": "3.6.1"
  }
 },
 "nbformat": 4,
 "nbformat_minor": 2
}
