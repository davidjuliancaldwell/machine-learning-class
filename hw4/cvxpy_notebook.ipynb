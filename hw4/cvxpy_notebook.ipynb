{
 "cells": [
  {
   "cell_type": "markdown",
   "metadata": {},
   "source": [
    "### import modules"
   ]
  },
  {
   "cell_type": "code",
   "execution_count": 3,
   "metadata": {},
   "outputs": [],
   "source": [
    "from __future__ import division\n",
    "from __future__ import print_function\n",
    "\n",
    "from cvxpy import *\n",
    "import numpy as np\n",
    "import matplotlib.pyplot as plt\n",
    "import scipy\n",
    "import seaborn as sns\n",
    "sns.set()\n",
    "\n",
    "%matplotlib inline\n",
    "\n",
    "from IPython.core.interactiveshell import InteractiveShell\n",
    "InteractiveShell.ast_node_interactivity = \"all\""
   ]
  },
  {
   "cell_type": "markdown",
   "metadata": {},
   "source": [
    "### define functions"
   ]
  },
  {
   "cell_type": "code",
   "execution_count": 46,
   "metadata": {},
   "outputs": [],
   "source": [
    "def f_hat_compute(K,alpha_hat):\n",
    "    f_hat = np.dot(alpha_hat,K)\n",
    "    \n",
    "    return f_hat\n",
    "\n",
    "def LOOCV_rbf(x,y,lambda_vec,gamma_vec):\n",
    "    \n",
    "    cost_vec = np.zeros((lambda_vec.shape[0],gamma_vec.shape[0]))\n",
    "    lambda_iter = 0\n",
    "    \n",
    "    for lambda_val in lambda_vec:\n",
    "        \n",
    "            gamma_iter = 0\n",
    "            \n",
    "            for gamma_ind in gamma_vec:\n",
    "                print('lambda = {},gamma = {}'.format(lambda_val,gamma_ind))\n",
    "\n",
    "\n",
    "                score_ind = []\n",
    "            \n",
    "                for valid_ind in np.arange(y.shape[0]):\n",
    "                    mask = np.ones(np.shape(y))\n",
    "                    mask[valid_ind] = 0\n",
    "                    mask = mask.astype('bool')\n",
    "                    y_train = y[mask]\n",
    "                    y_test = y[valid_ind]\n",
    "                    x_train = x[mask]\n",
    "                    x_test = x[valid_ind]\n",
    "\n",
    "                    K = make_K_mat_rbf(x_train,gamma_ind)\n",
    "                    alpha_hat = alpha_hat_compute(K,lambda_val,y_train)\n",
    "\n",
    "                    eval_kernel = kernel_eval_rbf(gamma,x_test,x_train)\n",
    "                    predict_y = np.array([np.sum(alpha_hat.flatten()*eval_kernel)])\n",
    "                    cost_ind = cost_func(predict_y,y_test)\n",
    "                    score_ind.append(cost_ind)\n",
    "\n",
    "\n",
    "                score = (1/len(score_ind))*np.sum(score_ind)\n",
    "                cost_vec[lambda_iter][gamma_iter] = score\n",
    "                \n",
    "                gamma_iter += 1 \n",
    "        \n",
    "            lambda_iter += 1\n",
    "    \n",
    "    return cost_vec\n",
    "\n",
    "def cost_func(prediction,truth):\n",
    "    \n",
    "    cost = []\n",
    "    \n",
    "    for i in np.arange(prediction.shape[0]):\n",
    "        \n",
    "        cost.append(np.linalg.norm(prediction[i]-truth[i]))\n",
    "    \n",
    "    cost_total = np.sqrt(np.sum(cost))\n",
    "    return cost_total\n",
    "\n",
    "def make_K_mat_rbf(x,gamma):\n",
    "    K = np.zeros((x.shape[0],x.shape[0]))\n",
    "    \n",
    "    for i in np.arange(x.shape[0]):\n",
    "        for j in np.arange(x.shape[0]):\n",
    "            K[i][j] = np.exp(-gamma*(np.linalg.norm(x[i]-x[j])**2))\n",
    "            \n",
    "    return K\n",
    "\n",
    "def kernel_eval_rbf(gamma,x_1,x_2):\n",
    "    eval_kernel = []\n",
    "    \n",
    "    for i in np.arange(x_2.shape[0]):\n",
    "        eval_iter = float(np.exp(-gamma*(np.linalg.norm(x_1-x_2[i])**2)))\n",
    "        eval_kernel.append(eval_iter)\n",
    "    return eval_kernel \n",
    "\n",
    "def bootstrap_rbf(gamma,lambda_val,x,y,data,num_sets,num_pulls):\n",
    "    bootstrapped_examples = np.zeros((num_sets,data.shape[0]))\n",
    "    inds = np.arange(num_pulls)\n",
    "    for j in np.arange(num_sets):\n",
    "        inds_choice = np.random.choice(inds,num_pulls)\n",
    "        x_samp = x[inds_choice]\n",
    "        y_samp = y[inds_choice]\n",
    "\n",
    "        f_hat = np.zeros((data.shape))\n",
    "\n",
    "        K = make_K_mat_rbf(x_samp,gamma)\n",
    "        alpha_hat = alpha_hat_compute(K,lambda_val,y_samp)\n",
    "\n",
    "        for i in np.arange(data.shape[0]):\n",
    "            eval_kernel = kernel_eval_rbf(gamma,float(data[i]),x_samp)\n",
    "            predict_y = np.sum(alpha_hat.flatten()*np.array(eval_kernel))\n",
    "\n",
    "            f_hat[i] = predict_y\n",
    "        \n",
    "        bootstrapped_examples[j,:] = f_hat\n",
    "    \n",
    "    return bootstrapped_examples\n",
    "\n",
    "def alpha_hat_compute(K,lambda_val,y):\n",
    "    \n",
    "    lhs = K + lambda_val*np.identity(np.shape(K)[0])\n",
    "    alpha_hat = np.linalg.solve(lhs,y)\n",
    "    \n",
    "    return alpha_hat\n",
    "\n",
    "def choose_gamma(x):\n",
    "    dist_vals = []\n",
    "    for i in np.arange(x.shape[0]):\n",
    "        for j in np.arange(i):\n",
    "            dist_vals.append((np.linalg.norm(x[i] - x[j])**2))\n",
    "            \n",
    "    median_val = np.median(np.array(dist_vals))\n",
    "    gamma = 1/median_val\n",
    "    return gamma\n",
    "\n",
    "def plot_function_rbf(x,y,x_cont,f_x,f_hat,kernel,lambda_val,gamma):\n",
    "    plt.figure(dpi=600)\n",
    "    plt.figure()\n",
    "    plt.plot(x,y,'o',label='original data with noise')\n",
    "    plt.plot(x_cont,f_x,label='true f(x)')\n",
    "    plt.plot(x_cont,f_hat,label='f_hat(x)')\n",
    "    plt.xlabel('x')\n",
    "    plt.ylabel('f(x) or y')\n",
    "    plt.title('Data, f(x), and f_hat_x \\n for kernel = {}, lambda = {}, gamma = {:.2f}'.format(kernel,lambda_val,gamma))\n",
    "    plt.legend()\n",
    "    plt.ylim([-5,5])\n",
    "\n",
    "\n",
    "    plt.savefig('hw3_prob2_{}'.format(kernel))\n",
    "    \n",
    "def plot_function_rbf_boot(x,y,x_cont,f_x,f_hat,kernel,lambda_val,gamma,lower,upper):\n",
    "    plt.figure(dpi=600)\n",
    "    plt.figure()\n",
    "    plt.plot(x,y,'o',label='original data with noise')\n",
    "    plt.plot(x_cont,f_x,label='true f(x)')\n",
    "    plt.plot(x_cont,f_hat,label='f_hat(x)')\n",
    "    plt.fill_between(x_cont,lower,upper,alpha=0.3,label='95% confidence interval')\n",
    "    plt.xlabel('x')\n",
    "    plt.ylabel('f(x) or y')\n",
    "    plt.title('Data, f(x), f_hat_x, and confidence interval \\n for kernel = {}, lambda = {}, gamma = {:.2f}'.format(kernel,lambda_val,gamma))\n",
    "    plt.legend()\n",
    "    plt.ylim([-5,5])\n",
    "\n",
    "\n",
    "    plt.savefig('hw3_prob2_{}_boot'.format(kernel))"
   ]
  },
  {
   "cell_type": "markdown",
   "metadata": {},
   "source": [
    "### generate data"
   ]
  },
  {
   "cell_type": "code",
   "execution_count": 64,
   "metadata": {},
   "outputs": [],
   "source": [
    "# Problem data.\n",
    "n = 30\n",
    "x_i = np.array([(i-1)/(n-1) for i in np.arange(n)])\n",
    "eps_i = np.random.randn(n,1)\n",
    "\n",
    "k= np.array([1,2,3,4])\n",
    "\n",
    "f_x = np.zeros((x_i.shape[0],1))\n",
    "index = 0 \n",
    "for val in x_i:\n",
    "    f_x[index] =  10*np.sum(val>(k/5))\n",
    "    index+=1\n",
    "    \n",
    "y = f_x + eps_i \n",
    "y[14] = 0\n",
    "    \n",
    "# generate true f(x)\n",
    "n_cont = 1000\n",
    "x_i_cont = np.array([(i-1)/(n-1) for i in np.arange(n)])\n",
    "\n",
    "f_x_cont = np.zeros((x_i_cont.shape[0],1))\n",
    "index = 0 \n",
    "for val in x_i_cont:\n",
    "    f_x_cont[index] =  10*np.sum(val>(k/5))\n",
    "    index+=1\n",
    "    \n",
    "# generate d \n",
    "d = np.zeros((n-1,n))\n",
    "\n",
    "for i in np.arange(d.shape[0]):\n",
    "    for j in np.arange(d.shape[1]):\n",
    "        if i == j:\n",
    "            d[i,j] = 1\n",
    "            \n",
    "        elif i == j - 1:\n",
    "            d[i,j] = -1 \n",
    "\n",
    "x_i = np.expand_dims(x_i,axis=1)            \n",
    "#y = np.expand_dims(y,axis=1)\n",
    "#f_x_cont = np.expand_dims(f_x_cont,axis=1)\n",
    "x_i_cont = np.expand_dims(x_i_cont,axis=1)"
   ]
  },
  {
   "cell_type": "code",
   "execution_count": 66,
   "metadata": {},
   "outputs": [
    {
     "data": {
      "text/plain": [
       "[<matplotlib.lines.Line2D at 0x1157209b0>]"
      ]
     },
     "execution_count": 66,
     "metadata": {},
     "output_type": "execute_result"
    },
    {
     "data": {
      "text/plain": [
       "[<matplotlib.lines.Line2D at 0x1156e8860>]"
      ]
     },
     "execution_count": 66,
     "metadata": {},
     "output_type": "execute_result"
    },
    {
     "data": {
      "text/plain": [
       "<matplotlib.legend.Legend at 0x115720f28>"
      ]
     },
     "execution_count": 66,
     "metadata": {},
     "output_type": "execute_result"
    },
    {
     "data": {
      "image/png": "[encoded data removed]",
      "text/plain": [
       "<matplotlib.figure.Figure at 0x1156e87f0>"
      ]
     },
     "metadata": {},
     "output_type": "display_data"
    }
   ],
   "source": [
    "plt.plot(x_i,y,'o',label = 'data points')\n",
    "plt.plot(x_i_cont,f_x_cont,label = 'true f(x)')\n",
    "plt.legend()\n"
   ]
  },
  {
   "cell_type": "markdown",
   "metadata": {},
   "source": [
    "### least squares"
   ]
  },
  {
   "cell_type": "code",
   "execution_count": 96,
   "metadata": {},
   "outputs": [],
   "source": [
    "gamma = choose_gamma(x_i)\n",
    "K = make_K_mat_rbf(x_i,gamma)\n",
    "lambda_val = 1e-3"
   ]
  },
  {
   "cell_type": "code",
   "execution_count": 111,
   "metadata": {},
   "outputs": [
    {
     "ename": "SolverError",
     "evalue": "Solver 'ECOS' failed. Try another solver.",
     "output_type": "error",
     "traceback": [
      "\u001b[0;31m---------------------------------------------------------------------------\u001b[0m",
      "\u001b[0;31mSolverError\u001b[0m                               Traceback (most recent call last)",
      "\u001b[0;32m<ipython-input-111-bf088e6aff47>\u001b[0m in \u001b[0;36m<module>\u001b[0;34m()\u001b[0m\n\u001b[1;32m     11\u001b[0m \u001b[0;34m\u001b[0m\u001b[0m\n\u001b[1;32m     12\u001b[0m \u001b[0;31m# The optimal objective is returned by prob.solve().\u001b[0m\u001b[0;34m\u001b[0m\u001b[0;34m\u001b[0m\u001b[0m\n\u001b[0;32m---> 13\u001b[0;31m \u001b[0mresult\u001b[0m \u001b[0;34m=\u001b[0m \u001b[0mprob\u001b[0m\u001b[0;34m.\u001b[0m\u001b[0msolve\u001b[0m\u001b[0;34m(\u001b[0m\u001b[0;34m)\u001b[0m\u001b[0;34m\u001b[0m\u001b[0m\n\u001b[0m\u001b[1;32m     14\u001b[0m \u001b[0;31m# The optimal value for x is stored in x.value.\u001b[0m\u001b[0;34m\u001b[0m\u001b[0;34m\u001b[0m\u001b[0m\n\u001b[1;32m     15\u001b[0m \u001b[0mprint\u001b[0m\u001b[0;34m(\u001b[0m\u001b[0mx\u001b[0m\u001b[0;34m.\u001b[0m\u001b[0mvalue\u001b[0m\u001b[0;34m)\u001b[0m\u001b[0;34m\u001b[0m\u001b[0m\n",
      "\u001b[0;32m~/Virtualenvs/cvxpy/lib/python3.6/site-packages/cvxpy/problems/problem.py\u001b[0m in \u001b[0;36msolve\u001b[0;34m(self, *args, **kwargs)\u001b[0m\n\u001b[1;32m    207\u001b[0m             \u001b[0;32mreturn\u001b[0m \u001b[0mfunc\u001b[0m\u001b[0;34m(\u001b[0m\u001b[0mself\u001b[0m\u001b[0;34m,\u001b[0m \u001b[0;34m*\u001b[0m\u001b[0margs\u001b[0m\u001b[0;34m,\u001b[0m \u001b[0;34m**\u001b[0m\u001b[0mkwargs\u001b[0m\u001b[0;34m)\u001b[0m\u001b[0;34m\u001b[0m\u001b[0m\n\u001b[1;32m    208\u001b[0m         \u001b[0;32melse\u001b[0m\u001b[0;34m:\u001b[0m\u001b[0;34m\u001b[0m\u001b[0m\n\u001b[0;32m--> 209\u001b[0;31m             \u001b[0;32mreturn\u001b[0m \u001b[0mself\u001b[0m\u001b[0;34m.\u001b[0m\u001b[0m_solve\u001b[0m\u001b[0;34m(\u001b[0m\u001b[0;34m*\u001b[0m\u001b[0margs\u001b[0m\u001b[0;34m,\u001b[0m \u001b[0;34m**\u001b[0m\u001b[0mkwargs\u001b[0m\u001b[0;34m)\u001b[0m\u001b[0;34m\u001b[0m\u001b[0m\n\u001b[0m\u001b[1;32m    210\u001b[0m \u001b[0;34m\u001b[0m\u001b[0m\n\u001b[1;32m    211\u001b[0m     \u001b[0;34m@\u001b[0m\u001b[0mclassmethod\u001b[0m\u001b[0;34m\u001b[0m\u001b[0m\n",
      "\u001b[0;32m~/Virtualenvs/cvxpy/lib/python3.6/site-packages/cvxpy/problems/problem.py\u001b[0m in \u001b[0;36m_solve\u001b[0;34m(self, solver, ignore_dcp, warm_start, verbose, parallel, **kwargs)\u001b[0m\n\u001b[1;32m    333\u001b[0m         \u001b[0;32melse\u001b[0m\u001b[0;34m:\u001b[0m\u001b[0;34m\u001b[0m\u001b[0m\n\u001b[1;32m    334\u001b[0m             \u001b[0mresults_dict\u001b[0m \u001b[0;34m=\u001b[0m \u001b[0;34m{\u001b[0m\u001b[0ms\u001b[0m\u001b[0;34m.\u001b[0m\u001b[0mSTATUS\u001b[0m\u001b[0;34m:\u001b[0m \u001b[0msym_data\u001b[0m\u001b[0;34m.\u001b[0m\u001b[0mpresolve_status\u001b[0m\u001b[0;34m}\u001b[0m\u001b[0;34m\u001b[0m\u001b[0m\n\u001b[0;32m--> 335\u001b[0;31m         \u001b[0mself\u001b[0m\u001b[0;34m.\u001b[0m\u001b[0m_update_problem_state\u001b[0m\u001b[0;34m(\u001b[0m\u001b[0mresults_dict\u001b[0m\u001b[0;34m,\u001b[0m \u001b[0msym_data\u001b[0m\u001b[0;34m,\u001b[0m \u001b[0msolver\u001b[0m\u001b[0;34m)\u001b[0m\u001b[0;34m\u001b[0m\u001b[0m\n\u001b[0m\u001b[1;32m    336\u001b[0m         \u001b[0;32mreturn\u001b[0m \u001b[0mself\u001b[0m\u001b[0;34m.\u001b[0m\u001b[0mvalue\u001b[0m\u001b[0;34m\u001b[0m\u001b[0m\n\u001b[1;32m    337\u001b[0m \u001b[0;34m\u001b[0m\u001b[0m\n",
      "\u001b[0;32m~/Virtualenvs/cvxpy/lib/python3.6/site-packages/cvxpy/problems/problem.py\u001b[0m in \u001b[0;36m_update_problem_state\u001b[0;34m(self, results_dict, sym_data, solver)\u001b[0m\n\u001b[1;32m    445\u001b[0m         \u001b[0;32melse\u001b[0m\u001b[0;34m:\u001b[0m\u001b[0;34m\u001b[0m\u001b[0m\n\u001b[1;32m    446\u001b[0m             raise SolverError(\n\u001b[0;32m--> 447\u001b[0;31m                 \"Solver '%s' failed. Try another solver.\" % solver.name())\n\u001b[0m\u001b[1;32m    448\u001b[0m         \u001b[0mself\u001b[0m\u001b[0;34m.\u001b[0m\u001b[0m_status\u001b[0m \u001b[0;34m=\u001b[0m \u001b[0mresults_dict\u001b[0m\u001b[0;34m[\u001b[0m\u001b[0ms\u001b[0m\u001b[0;34m.\u001b[0m\u001b[0mSTATUS\u001b[0m\u001b[0;34m]\u001b[0m\u001b[0;34m\u001b[0m\u001b[0m\n\u001b[1;32m    449\u001b[0m         \u001b[0mself\u001b[0m\u001b[0;34m.\u001b[0m\u001b[0m_solver_stats\u001b[0m \u001b[0;34m=\u001b[0m \u001b[0mSolverStats\u001b[0m\u001b[0;34m(\u001b[0m\u001b[0mresults_dict\u001b[0m\u001b[0;34m,\u001b[0m \u001b[0msolver\u001b[0m\u001b[0;34m.\u001b[0m\u001b[0mname\u001b[0m\u001b[0;34m(\u001b[0m\u001b[0;34m)\u001b[0m\u001b[0;34m)\u001b[0m\u001b[0;34m\u001b[0m\u001b[0m\n",
      "\u001b[0;31mSolverError\u001b[0m: Solver 'ECOS' failed. Try another solver."
     ]
    }
   ],
   "source": [
    "# Construct the problem.\n",
    "alpha = Variable(n)\n",
    "#cost = sum_squares(y - K*alpha) + lambda_val*np.dot(alpha.T,np.dot(K,alpha))\n",
    "#cost = sum_squares(y - K*alpha) + lambda_val*alpha.T*K*alpha\n",
    "cost = sum_squares(y - K*alpha) +  \n",
    "\n",
    "\n",
    "\n",
    "objective = Minimize(cost)\n",
    "prob = Problem(objective)\n",
    "\n",
    "# The optimal objective is returned by prob.solve().\n",
    "result = prob.solve()\n",
    "# The optimal value for x is stored in x.value.\n",
    "print(x.value)\n",
    "# The optimal Lagrange multiplier for a constraint\n",
    "# is stored in constraint.dual_value.\n",
    "print(constraints[0].dual_value)"
   ]
  },
  {
   "cell_type": "markdown",
   "metadata": {},
   "source": [
    "### huber\n"
   ]
  },
  {
   "cell_type": "code",
   "execution_count": null,
   "metadata": {},
   "outputs": [],
   "source": [
    "# Construct the problem.\n",
    "x = Variable(n)\n",
    "objective = Minimize(huber(A*x - b))\n",
    "constraints = [0 <= x, x <= 1]\n",
    "prob = Problem(objective, constraints)\n",
    "\n",
    "# The optimal objective is returned by prob.solve().\n",
    "result = prob.solve()\n",
    "# The optimal value for x is stored in x.value.\n",
    "print(x.value)\n",
    "# The optimal Lagrange multiplier for a constraint\n",
    "# is stored in constraint.dual_value.\n",
    "print(constraints[0].dual_value)"
   ]
  },
  {
   "cell_type": "code",
   "execution_count": null,
   "metadata": {},
   "outputs": [],
   "source": []
  }
 ],
 "metadata": {
  "kernelspec": {
   "display_name": "Python 2",
   "language": "python",
   "name": "python2"
  },
  "language_info": {
   "codemirror_mode": {
    "name": "ipython",
    "version": 2
   },
   "file_extension": ".py",
   "mimetype": "text/x-python",
   "name": "python",
   "nbconvert_exporter": "python",
   "pygments_lexer": "ipython2",
   "version": "2.7.14"
  }
 },
 "nbformat": 4,
 "nbformat_minor": 2
}
