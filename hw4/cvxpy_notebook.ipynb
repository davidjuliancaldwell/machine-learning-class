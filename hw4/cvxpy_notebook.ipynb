{
 "cells": [
  {
   "cell_type": "markdown",
   "metadata": {},
   "source": [
    "### import modules"
   ]
  },
  {
   "cell_type": "code",
   "execution_count": 4,
   "metadata": {},
   "outputs": [],
   "source": [
    "from cvxpy import *\n",
    "import numpy\n",
    "import seaborn as sns\n",
    "# import modules\n",
    "import numpy as np\n",
    "import matplotlib.pyplot as plt\n",
    "import scipy\n",
    "import seaborn as sns\n",
    "sns.set()\n",
    "\n",
    "%matplotlib inline\n",
    "\n",
    "from IPython.core.interactiveshell import InteractiveShell\n",
    "InteractiveShell.ast_node_interactivity = \"all\""
   ]
  },
  {
   "cell_type": "markdown",
   "metadata": {},
   "source": [
    "### generate data"
   ]
  },
  {
   "cell_type": "code",
   "execution_count": 27,
   "metadata": {},
   "outputs": [],
   "source": [
    "# Problem data.\n",
    "n = 30\n",
    "x_i = np.array([(i-1)/(n-1) for i in np.arange(n)])\n",
    "eps_i = np.random.randn(n,1)"
   ]
  },
  {
   "cell_type": "code",
   "execution_count": 28,
   "metadata": {},
   "outputs": [],
   "source": [
    "k= np.array([1,2,3,4])\n",
    "\n",
    "f_x = np.zeros((x_i.shape[0],1))\n",
    "index = 0 \n",
    "for val in x_i:\n",
    "    f_x[index] =  10*np.sum(val>(k/5))\n",
    "    index+=1\n",
    "    \n",
    "y = f_x + eps_i \n",
    "y[14] = 0\n",
    "    "
   ]
  },
  {
   "cell_type": "code",
   "execution_count": 29,
   "metadata": {},
   "outputs": [
    {
     "data": {
      "text/plain": [
       "[<matplotlib.lines.Line2D at 0x11439f240>]"
      ]
     },
     "execution_count": 29,
     "metadata": {},
     "output_type": "execute_result"
    },
    {
     "data": {
      "image/png": "[encoded data removed]",
      "text/plain": [
       "<matplotlib.figure.Figure at 0x1140aaf98>"
      ]
     },
     "metadata": {},
     "output_type": "display_data"
    }
   ],
   "source": [
    "plt.plot(x_i,y,'o')"
   ]
  },
  {
   "cell_type": "markdown",
   "metadata": {},
   "source": [
    "### least squares"
   ]
  },
  {
   "cell_type": "code",
   "execution_count": 2,
   "metadata": {},
   "outputs": [
    {
     "name": "stdout",
     "output_type": "stream",
     "text": [
      "[[  2.74652308e-08]\n",
      " [  2.85638777e-02]\n",
      " [  2.75725989e-08]\n",
      " [  4.78319436e-08]\n",
      " [  2.63772742e-09]\n",
      " [  1.49296787e-01]\n",
      " [  1.19197012e-07]\n",
      " [  2.09644973e-08]\n",
      " [  2.46747598e-01]\n",
      " [  5.78236593e-01]\n",
      " [  5.29014714e-09]\n",
      " [  1.01716256e-03]\n",
      " [  8.73735490e-09]\n",
      " [  2.26771054e-01]\n",
      " [  1.37216315e-08]\n",
      " [  2.10136926e-08]\n",
      " [  4.08406457e-08]\n",
      " [  4.52408177e-09]\n",
      " [  2.55073731e-08]\n",
      " [  6.32803288e-09]]\n",
      "[[  2.50930786e+00]\n",
      " [  2.67843812e-06]\n",
      " [  2.78353157e+00]\n",
      " [  1.79423617e+00]\n",
      " [  1.30858969e+01]\n",
      " [  5.59967336e-07]\n",
      " [  7.37035770e-01]\n",
      " [  3.35348867e+00]\n",
      " [  3.53776686e-07]\n",
      " [  1.58359789e-07]\n",
      " [  8.93824713e+00]\n",
      " [  3.08617390e-04]\n",
      " [  7.02959474e+00]\n",
      " [  3.97062919e-07]\n",
      " [  4.71054027e+00]\n",
      " [  3.18864113e+00]\n",
      " [  2.06076796e+00]\n",
      " [  1.00817336e+01]\n",
      " [  3.04814645e+00]\n",
      " [  8.53266394e+00]]\n"
     ]
    }
   ],
   "source": [
    "# Construct the problem.\n",
    "x = Variable(n)\n",
    "objective = Minimize(sum_squares(A*x - b))\n",
    "constraints = [0 <= x, x <= 1]\n",
    "prob = Problem(objective, constraints)\n",
    "\n",
    "# The optimal objective is returned by prob.solve().\n",
    "result = prob.solve()\n",
    "# The optimal value for x is stored in x.value.\n",
    "print(x.value)\n",
    "# The optimal Lagrange multiplier for a constraint\n",
    "# is stored in constraint.dual_value.\n",
    "print(constraints[0].dual_value)"
   ]
  },
  {
   "cell_type": "markdown",
   "metadata": {},
   "source": [
    "### huber\n"
   ]
  },
  {
   "cell_type": "code",
   "execution_count": null,
   "metadata": {},
   "outputs": [],
   "source": []
  }
 ],
 "metadata": {
  "kernelspec": {
   "display_name": "Python 3",
   "language": "python",
   "name": "python3"
  },
  "language_info": {
   "codemirror_mode": {
    "name": "ipython",
    "version": 3
   },
   "file_extension": ".py",
   "mimetype": "text/x-python",
   "name": "python",
   "nbconvert_exporter": "python",
   "pygments_lexer": "ipython3",
   "version": "3.6.3"
  }
 },
 "nbformat": 4,
 "nbformat_minor": 2
}
