{
 "cells": [
  {
   "cell_type": "code",
   "execution_count": 67,
   "metadata": {},
   "outputs": [
    {
     "name": "stdout",
     "output_type": "stream",
     "text": [
      "[-0.98115872  0.99986167]\n",
      "[[-1]\n",
      " [ 1]]\n",
      "[[ 2.0370319  -1.86654061]\n",
      " [-1.86654061  2.06958812]]\n",
      "[[ 2.  -1.8]\n",
      " [-1.8  2. ]]\n"
     ]
    },
    {
     "data": {
      "text/plain": [
       "<matplotlib.figure.Figure at 0x118633b00>"
      ]
     },
     "execution_count": 67,
     "metadata": {},
     "output_type": "execute_result"
    },
    {
     "data": {
      "text/plain": [
       "[<matplotlib.lines.Line2D at 0x117762a58>]"
      ]
     },
     "execution_count": 67,
     "metadata": {},
     "output_type": "execute_result"
    },
    {
     "data": {
      "text/plain": [
       "[<matplotlib.lines.Line2D at 0x118633b38>]"
      ]
     },
     "execution_count": 67,
     "metadata": {},
     "output_type": "execute_result"
    },
    {
     "data": {
      "text/plain": [
       "<matplotlib.legend.Legend at 0x118633ba8>"
      ]
     },
     "execution_count": 67,
     "metadata": {},
     "output_type": "execute_result"
    },
    {
     "data": {
      "text/plain": [
       "array([[ 1.19828623, -0.53108855],\n",
       "       [-0.75107264,  0.84731632]])"
      ]
     },
     "execution_count": 67,
     "metadata": {},
     "output_type": "execute_result"
    },
    {
     "data": {
      "text/plain": [
       "array([[ 1.19828623, -0.75107264],\n",
       "       [-0.75107264,  1.19828623]])"
      ]
     },
     "execution_count": 67,
     "metadata": {},
     "output_type": "execute_result"
    },
    {
     "data": {
      "text/plain": [
       "array([[ 1.        ,  0.        ],\n",
       "       [ 0.        ,  0.70710678]])"
      ]
     },
     "execution_count": 67,
     "metadata": {},
     "output_type": "execute_result"
    },
    {
     "data": {
      "text/plain": [
       "(2, 1)"
      ]
     },
     "execution_count": 67,
     "metadata": {},
     "output_type": "execute_result"
    },
    {
     "data": {
      "text/plain": [
       "<matplotlib.figure.Figure at 0x117f74160>"
      ]
     },
     "execution_count": 67,
     "metadata": {},
     "output_type": "execute_result"
    },
    {
     "data": {
      "text/plain": [
       "[<matplotlib.lines.Line2D at 0x117788198>]"
      ]
     },
     "execution_count": 67,
     "metadata": {},
     "output_type": "execute_result"
    },
    {
     "data": {
      "image/png": "[encoded data removed]",
      "text/plain": [
       "<matplotlib.figure.Figure at 0x118633b00>"
      ]
     },
     "metadata": {},
     "output_type": "display_data"
    },
    {
     "data": {
      "image/png": "[encoded data removed]",
      "text/plain": [
       "<matplotlib.figure.Figure at 0x117f74160>"
      ]
     },
     "metadata": {},
     "output_type": "display_data"
    }
   ],
   "source": [
    "# import modules\n",
    "import numpy as np\n",
    "import matplotlib.pyplot as plt\n",
    "import scipy\n",
    "import seaborn as sns\n",
    "sns.set()\n",
    "#plt.rc('text', usetex=True)\n",
    "#plt.rc('font', family='serif')\n",
    "\n",
    "%matplotlib inline\n",
    "\n",
    "u_1 = np.array([[1],[2]])\n",
    "cov_1 = np.array([[1,0],[0,2]])\n",
    "\n",
    "u_2 = np.array([[-1],[1]])\n",
    "cov_2 = np.array([[2,-1.8],[-1.8,2]])\n",
    "\n",
    "n_pt = 1000\n",
    "rand_xy = np.squeeze(np.array([[np.random.randn(n_pt)],[np.random.randn(n_pt)]]))\n",
    "#np.shape(rand_xy)\n",
    "#sns.jointplot(rand_xy[0,:],rand_xy[1,:])\n",
    "\n",
    "w1,v1 = scipy.linalg.eig(cov_1)\n",
    "idx = w1.argsort()[::-1]   \n",
    "w1 = np.real(w1[idx])\n",
    "v1 = v1[:,idx]\n",
    "a_1 = v1*(w1**0.5)\n",
    "\n",
    "rand_xy_scale_1 = np.dot(a_1,rand_xy) + np.matlib.repmat(u_1,1,n_pt)\n",
    "x1 = rand_xy_scale_1[0,:]\n",
    "y1 = rand_xy_scale_1[1,:]\n",
    "\n",
    "w2,v2 = scipy.linalg.eig(cov_2)\n",
    "idx = w2.argsort()[::-1]   \n",
    "w2 = np.real(w2[idx])\n",
    "v2 = v2[:,idx]\n",
    "a_2 = v2*(w2**0.5)\n",
    "\n",
    "w1_half = w1**0.5\n",
    "cov_1_half = v1*w1_half*v1.T\n",
    "cov_1_half = scipy.linalg.sqrtm(cov_1)\n",
    "cov_1_half_inv = np.linalg.inv(cov_1_half)\n",
    "rand_xy_scale_1_v2 = np.dot(cov_1_half,rand_xy) + np.matlib.repmat(u_1,1,n_pt)\n",
    "\n",
    "# now go back!\n",
    "\n",
    "w2_half = w2**0.5\n",
    "cov_2_half = v2*w2_half*v2.T\n",
    "cov_2_half = scipy.linalg.sqrtm(cov_2)\n",
    "rand_xy_scale_2_v2 = np.dot(cov_2_half,rand_xy) + np.matlib.repmat(u_2,1,n_pt)\n",
    "\n",
    "A = np.dot(cov_2_half,cov_1_half_inv)\n",
    "B = u_2 - np.dot(cov_2_half,np.dot(cov_1_half_inv,u_1))\n",
    "\n",
    "trans = np.dot(A,rand_xy_scale_1_v2)+np.matlib.repmat(B,1,n_pt)\n",
    "#trans = np.dot(cov_1_half_inv,rand_xy_scale_1_v2)+np.matlib.repmat(B,1,n_pt)\n",
    "\n",
    "average = np.mean(trans,axis=1)\n",
    "covariance = np.cov(trans)\n",
    "\n",
    "print(average)\n",
    "print(u_2)\n",
    "print(covariance)\n",
    "print(cov_2)\n",
    "\n",
    "plt.figure()\n",
    "plt.plot(rand_xy_scale_2_v2[0],rand_xy_scale_2_v2[1],'o',label='orig')\n",
    "plt.plot(trans[0],trans[1],'o',label='trans')\n",
    "plt.legend()\n",
    "A\n",
    "cov_2_half\n",
    "cov_1_half_inv\n",
    "np.shape(B)\n",
    "\n",
    "plt.figure()\n",
    "plt.plot(trans[0],trans[1],'o')"
   ]
  },
  {
   "cell_type": "code",
   "execution_count": 60,
   "metadata": {},
   "outputs": [
    {
     "data": {
      "text/plain": [
       "<matplotlib.figure.Figure at 0x117780c18>"
      ]
     },
     "execution_count": 60,
     "metadata": {},
     "output_type": "execute_result"
    },
    {
     "data": {
      "text/plain": [
       "[<matplotlib.lines.Line2D at 0x1181820b8>]"
      ]
     },
     "execution_count": 60,
     "metadata": {},
     "output_type": "execute_result"
    },
    {
     "data": {
      "text/plain": [
       "[<matplotlib.lines.Line2D at 0x117780cf8>]"
      ]
     },
     "execution_count": 60,
     "metadata": {},
     "output_type": "execute_result"
    },
    {
     "data": {
      "text/plain": [
       "<matplotlib.legend.Legend at 0x116e4cb00>"
      ]
     },
     "execution_count": 60,
     "metadata": {},
     "output_type": "execute_result"
    },
    {
     "data": {
      "text/plain": [
       "array([ 0.0145252 ,  0.03360953])"
      ]
     },
     "execution_count": 60,
     "metadata": {},
     "output_type": "execute_result"
    },
    {
     "data": {
      "text/plain": [
       "array([[ 0.99320889,  0.02944825],\n",
       "       [ 0.02944825,  0.91323715]])"
      ]
     },
     "execution_count": 60,
     "metadata": {},
     "output_type": "execute_result"
    },
    {
     "data": {
      "image/png": "[encoded data removed]",
      "text/plain": [
       "<matplotlib.figure.Figure at 0x117780c18>"
      ]
     },
     "metadata": {},
     "output_type": "display_data"
    }
   ],
   "source": [
    "back = np.dot(cov_1_half_inv,rand_xy_scale_1) - np.dot(cov_1_half_inv,u_1)\n",
    "plt.figure()\n",
    "plt.plot(back[0],back[1],'o',label='trans')\n",
    "plt.plot(rand_xy_scale_1[0],rand_xy_scale_1[1],'o',label='orig')\n",
    "plt.legend()\n",
    "np.mean(back,axis=1)\n",
    "np.cov(back)"
   ]
  },
  {
   "cell_type": "code",
   "execution_count": null,
   "metadata": {},
   "outputs": [],
   "source": []
  },
  {
   "cell_type": "code",
   "execution_count": null,
   "metadata": {},
   "outputs": [],
   "source": []
  }
 ],
 "metadata": {
  "kernelspec": {
   "display_name": "Python 3",
   "language": "python",
   "name": "python3"
  },
  "language_info": {
   "codemirror_mode": {
    "name": "ipython",
    "version": 3
   },
   "file_extension": ".py",
   "mimetype": "text/x-python",
   "name": "python",
   "nbconvert_exporter": "python",
   "pygments_lexer": "ipython3",
   "version": "3.6.3"
  }
 },
 "nbformat": 4,
 "nbformat_minor": 2
}
