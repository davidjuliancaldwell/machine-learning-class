{
 "cells": [
  {
   "cell_type": "code",
   "execution_count": 7,
   "metadata": {
    "collapsed": true
   },
   "outputs": [],
   "source": [
    "# import modules\n",
    "import numpy as np\n",
    "import matplotlib.pyplot as plt\n",
    "import scipy\n",
    "import seaborn as sns\n",
    "sns.set()\n",
    "#plt.rc('text', usetex=True)\n",
    "#plt.rc('font', family='serif')\n",
    "\n",
    "%matplotlib inline\n",
    "\n",
    "from IPython.core.interactiveshell import InteractiveShell\n",
    "InteractiveShell.ast_node_interactivity = \"all\""
   ]
  },
  {
   "cell_type": "code",
   "execution_count": 8,
   "metadata": {
    "collapsed": true
   },
   "outputs": [],
   "source": [
    "# define matrices for use with multivariate normal function\n",
    "# u_1 = [1,2]\n",
    "# cov_1 = [[1,0],[0,2]]\n",
    "\n",
    "# u_2 = [-1,1]\n",
    "# cov_2 = [[2,-1.8],[-1.8,2]]\n",
    "\n",
    "# u_3 = [2,-2]\n",
    "# cov_3 = [[3,1],[1,2]]\n",
    "#cov_3 = [[1,1],[1,1]]\n",
    "\n",
    "#x1, y1 = np.random.multivariate_normal(u_1, cov_1, 100).T\n",
    "#x2, y2 = np.random.multivariate_normal(u_2, cov_2, 100).T\n",
    "#x3, y3 = np.random.multivariate_normal(u_3, cov_3, 100).T"
   ]
  },
  {
   "cell_type": "code",
   "execution_count": 9,
   "metadata": {
    "collapsed": true
   },
   "outputs": [],
   "source": [
    "u_1 = np.array([[1],[2]])\n",
    "cov_1 = np.array([[1,0],[0,2]])\n",
    "\n",
    "u_2 = np.array([[-1],[1]])\n",
    "cov_2 = np.array([[2,-1.8],[-1.8,2]])\n",
    "\n",
    "u_3 = np.array([[2],[-2]])\n",
    "cov_3 = np.array([[3,1],[1,2]])"
   ]
  },
  {
   "cell_type": "code",
   "execution_count": 10,
   "metadata": {
    "collapsed": true
   },
   "outputs": [],
   "source": [
    "n_pt = 100\n",
    "rand_xy = np.squeeze(np.array([[np.random.randn(n_pt)],[np.random.randn(n_pt)]]))\n",
    "#np.shape(rand_xy)\n",
    "#sns.jointplot(rand_xy[0,:],rand_xy[1,:])\n",
    "\n",
    "w1,v1 = scipy.linalg.eig(cov_1)\n",
    "idx = w1.argsort()[::-1]   \n",
    "w1 = np.real(w1[idx])\n",
    "v1 = v1[:,idx]\n",
    "a_1 = v1*(w1**0.5)\n",
    "\n",
    "rand_xy_scale_1 = np.dot(a_1,rand_xy) + np.matlib.repmat(u_1,1,n_pt)\n",
    "x1 = rand_xy_scale_1[0,:]\n",
    "y1 = rand_xy_scale_1[1,:]\n",
    "\n",
    "w2,v2 = scipy.linalg.eig(cov_2)\n",
    "idx = w2.argsort()[::-1]   \n",
    "w2 = np.real(w2[idx])\n",
    "v2 = v2[:,idx]\n",
    "a_2 = v2*(w2**0.5)\n",
    "\n",
    "rand_xy = np.squeeze(np.array([[np.random.randn(n_pt)],[np.random.randn(n_pt)]]))\n",
    "rand_xy_scale_2 = np.dot(a_2,rand_xy) + np.matlib.repmat(u_2,1,n_pt)\n",
    "x2 = rand_xy_scale_2[0,:]\n",
    "y2 = rand_xy_scale_2[1,:]\n",
    "\n",
    "rand_xy = np.squeeze(np.array([[np.random.randn(n_pt)],[np.random.randn(n_pt)]]))\n",
    "w3,v3 = scipy.linalg.eig(cov_3)\n",
    "idx = w3.argsort()[::-1]   \n",
    "w3 = np.real(w1[idx])\n",
    "v3 = v3[:,idx]\n",
    "a_3 = v3*(w3**0.5)\n",
    "\n",
    "rand_xy_scale_3 = np.dot(a_3,rand_xy) + np.matlib.repmat(u_3,1,n_pt)\n",
    "x3 = rand_xy_scale_3[0,:]\n",
    "y3 = rand_xy_scale_3[1,:]\n",
    "\n",
    "\n",
    "#sns.jointplot(rand_xy_scale[0,:],rand_xy_scale[1,:])\n",
    "#np.mean(rand_xy_scale,axis=1)\n",
    "#np.cov(rand_xy_scale)"
   ]
  },
  {
   "cell_type": "code",
   "execution_count": 11,
   "metadata": {
    "collapsed": true
   },
   "outputs": [],
   "source": [
    "w1_half = w1**0.5\n",
    "cov_1_half = v1*w1_half*v1.T\n",
    "rand_xy_scale_1_v2 = np.dot(a_1,rand_xy) + np.matlib.repmat(u_1,1,n_pt)\n",
    "\n",
    "w2_half = w2**0.5\n",
    "cov_2_half = v2*w2_half*v2.T\n",
    "rand_xy_scale_2_v2 = np.dot(a_2,rand_xy) + np.matlib.repmat(u_2,1,n_pt)\n",
    "\n",
    "w3_half = w3**0.5\n",
    "cov_3_half = v3*w3_half*v3.T\n",
    "rand_xy_scale_3_v2 = np.dot(a_3,rand_xy) + np.matlib.repmat(u_3,1,n_pt)"
   ]
  },
  {
   "cell_type": "code",
   "execution_count": 12,
   "metadata": {},
   "outputs": [
    {
     "data": {
      "text/plain": [
       "<matplotlib.figure.Figure at 0x2697c4959b0>"
      ]
     },
     "execution_count": 12,
     "metadata": {},
     "output_type": "execute_result"
    },
    {
     "data": {
      "text/plain": [
       "[<matplotlib.lines.Line2D at 0x26979b78400>]"
      ]
     },
     "execution_count": 12,
     "metadata": {},
     "output_type": "execute_result"
    },
    {
     "data": {
      "text/plain": [
       "[<matplotlib.lines.Line2D at 0x2697b40d2b0>]"
      ]
     },
     "execution_count": 12,
     "metadata": {},
     "output_type": "execute_result"
    },
    {
     "data": {
      "text/plain": [
       "[<matplotlib.lines.Line2D at 0x26979b785c0>]"
      ]
     },
     "execution_count": 12,
     "metadata": {},
     "output_type": "execute_result"
    },
    {
     "data": {
      "text/plain": [
       "<matplotlib.text.Text at 0x2697c447a20>"
      ]
     },
     "execution_count": 12,
     "metadata": {},
     "output_type": "execute_result"
    },
    {
     "data": {
      "text/plain": [
       "<matplotlib.text.Text at 0x2697c442fd0>"
      ]
     },
     "execution_count": 12,
     "metadata": {},
     "output_type": "execute_result"
    },
    {
     "data": {
      "text/plain": [
       "<matplotlib.text.Text at 0x2697c403438>"
      ]
     },
     "execution_count": 12,
     "metadata": {},
     "output_type": "execute_result"
    },
    {
     "data": {
      "text/plain": [
       "<matplotlib.legend.Legend at 0x26979b825c0>"
      ]
     },
     "execution_count": 12,
     "metadata": {},
     "output_type": "execute_result"
    },
    {
     "data": {
      "image/png": "[encoded data removed]",
      "text/plain": [
       "<matplotlib.figure.Figure at 0x2697c4959b0>"
      ]
     },
     "metadata": {},
     "output_type": "display_data"
    }
   ],
   "source": [
    "plt.figure()\n",
    "plt.plot(x1,y1,'^',label=r'$ \\mu_1$ and $\\sigma_1$')\n",
    "plt.plot(x2,y2,'^',label=r'$ \\mu_2$ and $\\sigma_2$')\n",
    "plt.plot(x3,y3,'^',label=r'$ \\mu_3$ and $\\sigma_3$')\n",
    "plt.title(r'part a - 3 different $ \\mu$ and $\\sigma$')\n",
    "plt.xlabel('x')\n",
    "plt.ylabel('y')\n",
    "plt.legend()\n",
    "\n",
    "fig = plt.gcf()\n",
    "fig.set_size_inches(4, 4)\n",
    "plt.savefig('hw1_1_a.png',dpi=600)"
   ]
  },
  {
   "cell_type": "code",
   "execution_count": null,
   "metadata": {
    "collapsed": true
   },
   "outputs": [],
   "source": [
    "x1_mean = np.mean(x1)\n",
    "y1_mean = np.mean(y1)\n",
    "cov_1 = np.cov(x1,y1)\n",
    "\n",
    "x2_mean = np.mean(x2)\n",
    "y2_mean = np.mean(y2)\n",
    "cov_2 = np.cov(x2,y2)\n",
    "\n",
    "x3_mean = np.mean(x3)\n",
    "y3_mean = np.mean(y3)\n",
    "cov_3 = np.cov(x3,y3)"
   ]
  },
  {
   "cell_type": "code",
   "execution_count": null,
   "metadata": {},
   "outputs": [],
   "source": [
    "x1_mean\n",
    "y1_mean\n",
    "cov_1\n",
    "\n",
    "x2_mean\n",
    "y2_mean\n",
    "cov_2\n",
    "\n",
    "x3_mean\n",
    "y3_mean\n",
    "cov_3\n",
    "\n",
    "orig_1 = np.array([x1_mean,y1_mean])\n",
    "orig_2 = np.array([x2_mean, y2_mean])\n",
    "orig_3 = np.array([x3_mean, y3_mean])\n",
    "\n",
    "orig_1\n",
    "orig_2\n",
    "orig_3"
   ]
  },
  {
   "cell_type": "code",
   "execution_count": null,
   "metadata": {
    "collapsed": true
   },
   "outputs": [],
   "source": [
    "w1,v1 = scipy.linalg.eig(cov_1)\n",
    "w2,v2 = scipy.linalg.eig(cov_2)\n",
    "w3,v3 = scipy.linalg.eig(cov_3)\n",
    "\n",
    "idx = w1.argsort()[::-1]   \n",
    "w1 = w1[idx]\n",
    "v1 = v1[:,idx]\n",
    "\n",
    "idx = w2.argsort()[::-1]   \n",
    "w2 = w2[idx]\n",
    "v2 = v2[:,idx]\n",
    "\n",
    "idx = w3.argsort()[::-1]   \n",
    "w3 = w3[idx]\n",
    "v3 = v3[:,idx]"
   ]
  },
  {
   "cell_type": "code",
   "execution_count": null,
   "metadata": {},
   "outputs": [],
   "source": [
    "mags_1 = w1**0.5\n",
    "mags_2 = w2**0.5\n",
    "mags_3 = w3**0.5\n",
    "\n",
    "mags_1\n",
    "mags_2\n",
    "mags_3"
   ]
  },
  {
   "cell_type": "code",
   "execution_count": null,
   "metadata": {
    "collapsed": true
   },
   "outputs": [],
   "source": [
    "pts_1_1 = np.real(v1[:,0]*mags_1[0]) + orig_1\n",
    "pts_1_2 = np.real(v1[:,1]*mags_1[1]) + orig_1\n",
    "\n",
    "pts_2_1 = np.real(v2[:,0]*mags_2[0]) + orig_2\n",
    "pts_2_2 = np.real(v2[:,1]*mags_2[1]) + orig_2\n",
    "\n",
    "pts_3_1 = np.real(v3[:,0]*mags_3[0]) + orig_3\n",
    "pts_3_2 = np.real(v3[:,1]*mags_3[1]) + orig_3"
   ]
  },
  {
   "cell_type": "code",
   "execution_count": null,
   "metadata": {},
   "outputs": [],
   "source": [
    "plt.figure\n",
    "plt.plot([orig_1[0],pts_1_1[0]],[orig_1[1],pts_1_1[1]],label='1',color='blue')\n",
    "plt.plot([orig_1[0],pts_1_2[0]],[orig_1[1],pts_1_2[1]],label='1',color='blue')\n",
    "\n",
    "plt.plot([orig_2[0],pts_2_1[0]],[orig_2[1],pts_2_1[1]],label='2',color='green')\n",
    "plt.plot([orig_2[0],pts_2_2[0]],[orig_2[1],pts_2_2[1]],label='2',color='green')\n",
    "\n",
    "plt.plot([orig_3[0],pts_3_1[0]],[orig_3[1],pts_3_1[1]],label='3',color='red')\n",
    "plt.plot([orig_3[0],pts_3_2[0]],[orig_3[1],pts_3_2[1]],label='3',color='red')\n",
    "plt.legend()\n",
    "plt.xlabel('x')\n",
    "plt.ylabel('y')\n",
    "plt.title('Eigenvectors and eigenvalues')\n",
    "\n",
    "fig = plt.gcf()\n",
    "fig.set_size_inches(4,4)\n",
    "plt.savefig('hw1_1_b.png',dpi=600)"
   ]
  },
  {
   "cell_type": "code",
   "execution_count": null,
   "metadata": {},
   "outputs": [],
   "source": [
    "plt.figure\n",
    "plt.plot([orig_1[0],pts_1_1[0]],[orig_1[1],pts_1_1[1]],label='1',color='blue')\n",
    "plt.plot([orig_1[0],pts_1_2[0]],[orig_1[1],pts_1_2[1]],label='1',color='blue')\n",
    "\n",
    "plt.plot([orig_2[0],pts_2_1[0]],[orig_2[1],pts_2_1[1]],label='2',color='green')\n",
    "plt.plot([orig_2[0],pts_2_2[0]],[orig_2[1],pts_2_2[1]],label='2',color='green')\n",
    "\n",
    "plt.plot([orig_3[0],pts_3_1[0]],[orig_3[1],pts_3_1[1]],label='3',color='red')\n",
    "plt.plot([orig_3[0],pts_3_2[0]],[orig_3[1],pts_3_2[1]],label='3',color='red')\n",
    "plt.xlabel('x')\n",
    "plt.ylabel('y')\n",
    "plt.title('Eigenvectors and eigenvalues')\n",
    "\n",
    "plt.plot(x1,y1,'^',label=r'$ \\mu_1$ and $\\sigma_1$')\n",
    "plt.plot(x2,y2,'^',label=r'$ \\mu_2$ and $\\sigma_2$')\n",
    "plt.plot(x3,y3,'^',label=r'$ \\mu_3$ and $\\sigma_3$')\n",
    "plt.legend()\n",
    "\n"
   ]
  },
  {
   "cell_type": "code",
   "execution_count": null,
   "metadata": {
    "collapsed": true
   },
   "outputs": [],
   "source": [
    "mags_1 = w1**0.5\n",
    "mags_2 = w2**0.5\n",
    "mags_3 = w3**0.5\n",
    "\n",
    "# for i = 1 \n",
    "x_1_scale = np.squeeze([[x1-x1_mean],[y1-y1_mean]])\n",
    "\n",
    "u1_scale_1 = v1[:,0]/mags_1[0]\n",
    "u1_scale_1 = np.expand_dims(u1_scale_1, axis=1)\n",
    "x_til_1_1 = np.squeeze(np.dot(u1_scale_1.T,x_1_scale))\n",
    "\n",
    "u1_scale_2 = v1[:,1]/mags_1[1]\n",
    "u1_scale_2 = np.expand_dims(u1_scale_2, axis=1)\n",
    "x_til_1_2 = np.squeeze(np.dot(u1_scale_2.T,x_1_scale))\n",
    "\n",
    "# for i = 2 \n",
    "x_2_scale = np.squeeze([[x2-x2_mean],[y2-y2_mean]])\n",
    "\n",
    "u2_scale_1 = v2[:,0]/mags_2[0]\n",
    "u2_scale_1 = np.expand_dims(u2_scale_1, axis=1)\n",
    "x_til_2_1 = np.squeeze(np.dot(u2_scale_1.T,x_2_scale))\n",
    "\n",
    "u2_scale_2 = v2[:,1]/mags_2[1]\n",
    "u2_scale_2 = np.expand_dims(u2_scale_2, axis=1)\n",
    "x_til_2_2 = np.squeeze(np.dot(u2_scale_2.T,x_2_scale))\n",
    "\n",
    "# for i = 3 \n",
    "x_3_scale = np.squeeze([[x3-x3_mean],[y3-y3_mean]])\n",
    "\n",
    "u3_scale_1 = v3[:,0]/mags_3[0]\n",
    "u3_scale_1 = np.expand_dims(u3_scale_1, axis=1)\n",
    "x_til_3_1 = np.squeeze(np.dot(u1_scale_1.T,x_1_scale))\n",
    "\n",
    "u3_scale_2 = v3[:,1]/mags_3[1]\n",
    "u3_scale_2 = np.expand_dims(u3_scale_2, axis=1)\n",
    "x_til_3_2 = np.squeeze(np.dot(u3_scale_2.T,x_3_scale))"
   ]
  },
  {
   "cell_type": "code",
   "execution_count": null,
   "metadata": {},
   "outputs": [],
   "source": [
    "plt.plot(x_til_1_1,x_til_1_2,'o',label='i = 1');\n",
    "plt.plot(x_til_2_1,x_til_2_2,'o',label='i = 2');\n",
    "plt.plot(x_til_3_1,x_til_3_2,'o',label='i = 3');\n",
    "plt.legend()\n",
    "plt.xlabel(r'$\\lambda_1 , u_1$')\n",
    "plt.ylabel(r'$\\lambda_2 , u_2$')\n",
    "plt.title('')\n",
    "fig = plt.gcf()\n",
    "fig.set_size_inches(4, 4)\n",
    "plt.savefig('hw1_1_c.png',dpi=600)"
   ]
  },
  {
   "cell_type": "code",
   "execution_count": null,
   "metadata": {
    "collapsed": true
   },
   "outputs": [],
   "source": []
  },
  {
   "cell_type": "code",
   "execution_count": null,
   "metadata": {
    "collapsed": true
   },
   "outputs": [],
   "source": []
  },
  {
   "cell_type": "code",
   "execution_count": null,
   "metadata": {
    "collapsed": true
   },
   "outputs": [],
   "source": []
  }
 ],
 "metadata": {
  "kernelspec": {
   "display_name": "Python 3",
   "language": "python",
   "name": "python3"
  },
  "language_info": {
   "codemirror_mode": {
    "name": "ipython",
    "version": 3
   },
   "file_extension": ".py",
   "mimetype": "text/x-python",
   "name": "python",
   "nbconvert_exporter": "python",
   "pygments_lexer": "ipython3",
   "version": "3.6.2"
  }
 },
 "nbformat": 4,
 "nbformat_minor": 2
}
