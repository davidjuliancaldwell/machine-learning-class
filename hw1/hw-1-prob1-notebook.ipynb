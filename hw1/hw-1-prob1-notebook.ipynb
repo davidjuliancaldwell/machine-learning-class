{
 "cells": [
  {
   "cell_type": "code",
   "execution_count": 1,
   "metadata": {
    "collapsed": true
   },
   "outputs": [],
   "source": [
    "# import modules\n",
    "import numpy as np\n",
    "import matplotlib.pyplot as plt\n",
    "import scipy\n",
    "import seaborn as sns\n",
    "sns.set()\n",
    "plt.rc('text', usetex=True)\n",
    "plt.rc('font', family='serif')\n",
    "%matplotlib inline\n",
    "\n",
    "from IPython.core.interactiveshell import InteractiveShell\n",
    "InteractiveShell.ast_node_interactivity = \"all\""
   ]
  },
  {
   "cell_type": "code",
   "execution_count": 2,
   "metadata": {
    "collapsed": true
   },
   "outputs": [],
   "source": [
    "# define matrices for use with multivariate normal function\n",
    "u_1 = [1,2]\n",
    "cov_1 = [[1,0],[0,2]]\n",
    "\n",
    "u_2 = [-1,1]\n",
    "cov_2 = [[2,-1.8],[-1.8,2]]\n",
    "\n",
    "u_3 = [2,-2]\n",
    "cov_3 = [[3,1],[1,2]]\n",
    "#cov_3 = [[1,1],[1,1]]\n",
    "\n",
    "#x1, y1 = np.random.multivariate_normal(u_1, cov_1, 100).T\n",
    "#x2, y2 = np.random.multivariate_normal(u_2, cov_2, 100).T\n",
    "#x3, y3 = np.random.multivariate_normal(u_3, cov_3, 100).T"
   ]
  },
  {
   "cell_type": "code",
   "execution_count": 3,
   "metadata": {},
   "outputs": [
    {
     "data": {
      "text/plain": [
       "(2, 1)"
      ]
     },
     "execution_count": 3,
     "metadata": {},
     "output_type": "execute_result"
    }
   ],
   "source": [
    "u_1 = np.array([[1],[2]])\n",
    "cov_1 = np.array([[1,0],[0,2]])\n",
    "\n",
    "u_2 = np.array([[-1],[1]])\n",
    "cov_2 = np.array([[2,-1.8],[-1.8,2]])\n",
    "\n",
    "u_3 = np.array([[2],[-2]])\n",
    "cov_3 = np.array([[3,1],[1,2]])\n",
    "\n",
    "np.shape(u_3)"
   ]
  },
  {
   "cell_type": "code",
   "execution_count": 29,
   "metadata": {
    "collapsed": true
   },
   "outputs": [],
   "source": [
    "n_pt = 100\n",
    "rand_xy = np.squeeze(np.array([[np.random.randn(n_pt)],[np.random.randn(n_pt)]]))\n",
    "#np.shape(rand_xy)\n",
    "#sns.jointplot(rand_xy[0,:],rand_xy[1,:])\n",
    "\n",
    "w1,v1 = scipy.linalg.eig(cov_1)\n",
    "idx = w1.argsort()[::-1]   \n",
    "w1 = np.real(w1[idx])\n",
    "v1 = v1[:,idx]\n",
    "a_1 = v1*(w1**0.5)\n",
    "\n",
    "rand_xy_scale_1 = np.dot(a_1,rand_xy) + np.matlib.repmat(u_1,1,n_pt)\n",
    "x1 = rand_xy_scale_1[0,:]\n",
    "y1 = rand_xy_scale_1[1,:]\n",
    "\n",
    "w2,v2 = scipy.linalg.eig(cov_2)\n",
    "idx = w2.argsort()[::-1]   \n",
    "w2 = np.real(w2[idx])\n",
    "v2 = v2[:,idx]\n",
    "a_2 = v2*(w2**0.5)\n",
    "\n",
    "rand_xy = np.squeeze(np.array([[np.random.randn(n_pt)],[np.random.randn(n_pt)]]))\n",
    "rand_xy_scale_2 = np.dot(a_2,rand_xy) + np.matlib.repmat(u_2,1,n_pt)\n",
    "x2 = rand_xy_scale_2[0,:]\n",
    "y2 = rand_xy_scale_2[1,:]\n",
    "\n",
    "rand_xy = np.squeeze(np.array([[np.random.randn(n_pt)],[np.random.randn(n_pt)]]))\n",
    "w3,v3 = scipy.linalg.eig(cov_3)\n",
    "idx = w3.argsort()[::-1]   \n",
    "w3 = np.real(w1[idx])\n",
    "v3 = v3[:,idx]\n",
    "a_3 = v3*(w3**0.5)\n",
    "\n",
    "rand_xy_scale_3 = np.dot(a_3,rand_xy) + np.matlib.repmat(u_3,1,n_pt)\n",
    "x3 = rand_xy_scale_3[0,:]\n",
    "y3 = rand_xy_scale_3[1,:]\n",
    "\n",
    "\n",
    "#sns.jointplot(rand_xy_scale[0,:],rand_xy_scale[1,:])\n",
    "#np.mean(rand_xy_scale,axis=1)\n",
    "#np.cov(rand_xy_scale)"
   ]
  },
  {
   "cell_type": "code",
   "execution_count": 40,
   "metadata": {},
   "outputs": [
    {
     "data": {
      "text/plain": [
       "array([[False, False, False, False, False, False, False, False, False,\n",
       "        False, False, False, False, False, False, False, False, False,\n",
       "        False, False, False, False, False, False, False, False, False,\n",
       "        False, False, False, False, False, False, False, False, False,\n",
       "        False, False, False, False, False, False, False, False, False,\n",
       "        False, False, False, False, False, False, False, False, False,\n",
       "        False, False, False, False, False, False, False, False, False,\n",
       "        False, False, False, False, False, False, False, False, False,\n",
       "        False, False, False, False, False, False, False, False, False,\n",
       "        False, False, False, False, False, False, False, False, False,\n",
       "        False, False, False, False, False, False, False, False, False,\n",
       "        False],\n",
       "       [False, False, False, False, False, False, False, False, False,\n",
       "        False, False, False, False, False, False, False, False, False,\n",
       "        False, False, False, False, False, False, False, False, False,\n",
       "        False, False, False, False, False, False, False, False, False,\n",
       "        False, False, False, False, False, False, False, False, False,\n",
       "        False, False, False, False, False, False, False, False, False,\n",
       "        False, False, False, False, False, False, False, False, False,\n",
       "        False, False, False, False, False, False, False, False, False,\n",
       "        False, False, False, False, False, False, False, False, False,\n",
       "        False, False, False, False, False, False, False, False, False,\n",
       "        False, False, False, False, False, False, False, False, False,\n",
       "        False]], dtype=bool)"
      ]
     },
     "execution_count": 40,
     "metadata": {},
     "output_type": "execute_result"
    },
    {
     "data": {
      "text/plain": [
       "[<matplotlib.lines.Line2D at 0x1d9ed454278>]"
      ]
     },
     "execution_count": 40,
     "metadata": {},
     "output_type": "execute_result"
    },
    {
     "data": {
      "text/plain": [
       "[<matplotlib.lines.Line2D at 0x1d9ed3b1ef0>]"
      ]
     },
     "execution_count": 40,
     "metadata": {},
     "output_type": "execute_result"
    },
    {
     "data": {
      "text/plain": [
       "array([[ True,  True,  True,  True,  True,  True,  True,  True,  True,\n",
       "         True,  True,  True,  True,  True,  True,  True,  True,  True,\n",
       "         True,  True,  True,  True,  True,  True,  True,  True,  True,\n",
       "         True,  True,  True,  True,  True,  True,  True,  True,  True,\n",
       "         True,  True,  True,  True,  True,  True,  True,  True,  True,\n",
       "         True,  True,  True,  True,  True,  True,  True,  True,  True,\n",
       "         True,  True,  True,  True,  True,  True,  True,  True,  True,\n",
       "         True,  True,  True,  True,  True,  True,  True,  True,  True,\n",
       "         True,  True,  True,  True,  True,  True,  True,  True,  True,\n",
       "         True,  True,  True,  True,  True,  True,  True,  True,  True,\n",
       "         True,  True,  True,  True,  True,  True,  True,  True,  True,\n",
       "         True],\n",
       "       [ True,  True,  True,  True,  True,  True,  True,  True,  True,\n",
       "         True,  True,  True,  True,  True,  True,  True,  True,  True,\n",
       "         True,  True,  True,  True,  True,  True,  True,  True,  True,\n",
       "         True,  True,  True,  True,  True,  True,  True,  True,  True,\n",
       "         True,  True,  True,  True,  True,  True,  True,  True,  True,\n",
       "         True,  True,  True,  True,  True,  True,  True,  True,  True,\n",
       "         True,  True,  True,  True,  True,  True,  True,  True,  True,\n",
       "         True,  True,  True,  True,  True,  True,  True,  True,  True,\n",
       "         True,  True,  True,  True,  True,  True,  True,  True,  True,\n",
       "         True,  True,  True,  True,  True,  True,  True,  True,  True,\n",
       "         True,  True,  True,  True,  True,  True,  True,  True,  True,\n",
       "         True]], dtype=bool)"
      ]
     },
     "execution_count": 40,
     "metadata": {},
     "output_type": "execute_result"
    },
    {
     "data": {
      "text/plain": [
       "array([[ 0.69579616, -0.71823931],\n",
       "       [-0.71823931, -0.69579616]])"
      ]
     },
     "execution_count": 40,
     "metadata": {},
     "output_type": "execute_result"
    },
    {
     "data": {
      "text/plain": [
       "array([[ 0.69579616, -0.71823931],\n",
       "       [-0.71823931, -0.69579616]])"
      ]
     },
     "execution_count": 40,
     "metadata": {},
     "output_type": "execute_result"
    },
    {
     "data": {
      "text/plain": [
       "array([[-0.32565502, -0.4532148 , -0.80043871, -0.89525479, -1.6698499 ,\n",
       "         0.58084625,  0.58995504,  1.47795599,  2.2777678 ,  0.58792535,\n",
       "         1.11877904, -0.46858524, -0.7802765 ,  0.3862303 ,  0.13094827,\n",
       "        -0.06685734, -1.15356697, -0.14209925, -0.15685177,  0.12810486,\n",
       "        -0.49154567, -0.0356698 , -0.31259211, -0.57747028, -0.46461979,\n",
       "        -0.67141367, -0.25039453,  0.78491   , -2.80638252, -0.8705858 ,\n",
       "        -0.51617732,  0.15273307,  0.66688861,  0.10263359,  0.29352479,\n",
       "        -1.18827719,  0.08271036, -1.31496775,  2.04339021, -0.10432543,\n",
       "         0.96465585,  0.16656281, -0.1001842 , -0.34806342, -0.30822955,\n",
       "         0.81706146, -0.78414231, -1.13179211,  0.66528876, -0.97286489,\n",
       "         1.1175752 , -1.91581975,  1.67289396, -0.54692189, -0.86267428,\n",
       "        -1.8705704 ,  0.25826161,  1.6365357 , -0.04016623,  0.78931585,\n",
       "         0.09518648, -0.244672  , -1.37027993, -1.40242016,  1.20729315,\n",
       "        -0.08203751,  1.19974539, -2.42260534,  1.23275309,  0.41277363,\n",
       "        -0.32319004, -1.96168048,  1.4261089 ,  1.16174683,  0.01882063,\n",
       "         1.21521684,  0.81252374, -1.26829348,  0.14254799, -1.6969727 ,\n",
       "         0.49289392, -0.73942668,  1.63577177,  1.65764005,  0.50731332,\n",
       "         1.12370416,  0.23266369, -0.23089048, -0.58193721,  1.10336252,\n",
       "        -0.75245443,  1.21451307,  1.7125595 ,  0.14701548, -0.56481803,\n",
       "        -0.69523103, -1.0426332 ,  0.44208841, -0.37190105, -0.11435502],\n",
       "       [-0.77883183, -0.44535141,  0.52493657, -1.14693554, -0.14506243,\n",
       "         1.38114034, -0.23592506,  2.08089025,  0.38334134, -2.283072  ,\n",
       "         0.64483933, -0.68205773,  0.22924973, -2.98395768,  1.02080956,\n",
       "         0.06009013,  0.05279099, -0.7128269 , -1.40078562,  0.23971139,\n",
       "        -0.06521807,  2.23996835,  0.25419495,  0.54750684, -1.07703164,\n",
       "         0.39718543, -0.01583217,  0.30653315, -0.33248817,  1.59199486,\n",
       "        -0.05990907,  0.91369369, -0.4486697 , -0.3050126 , -0.08383524,\n",
       "        -0.25803542, -1.17286199,  0.0489439 , -1.37073563,  0.33348708,\n",
       "        -0.84909508, -2.31917925,  0.53266914,  0.08567808, -0.41266035,\n",
       "        -0.95990181,  0.49772056, -0.49600029,  0.51810984, -0.72895501,\n",
       "        -0.45991936,  0.34040426,  0.85403512,  0.22156289, -0.28501127,\n",
       "        -0.39167119, -0.40971616,  1.403155  , -1.07936156,  1.49024412,\n",
       "        -1.08253496,  0.05156478,  0.73617196,  1.66395213,  1.89894731,\n",
       "        -0.70404618,  1.03939881, -1.71803831, -1.0537296 ,  0.70506532,\n",
       "         0.45209977, -1.29825588,  0.51393954, -0.60593437,  1.56787799,\n",
       "         2.18269047,  2.51402934,  0.04784111, -0.0282196 ,  0.01185853,\n",
       "        -1.47810537, -0.99823013,  0.80378304, -0.2991541 , -0.41173289,\n",
       "         0.20114371,  1.0927606 ,  1.0330941 ,  1.02865802, -1.10882469,\n",
       "        -0.16776222, -0.7006946 , -2.37189104,  1.33243983, -0.04944536,\n",
       "        -0.58461495, -0.17172548,  1.44783441, -2.78314627,  1.17861767]])"
      ]
     },
     "execution_count": 40,
     "metadata": {},
     "output_type": "execute_result"
    },
    {
     "data": {
      "text/plain": [
       "array([[-0.66294362, -0.61247435, -0.44471962, -1.33963345, -1.5301132 ,\n",
       "         1.17855528,  0.40110446,  2.30261093,  2.17724158, -0.59497455,\n",
       "         1.29115189, -0.74087892, -0.57071125, -1.11170312,  0.610275  ,\n",
       "        -0.02925567, -0.98271992, -0.47043433, -0.81747327,  0.22840801,\n",
       "        -0.4613485 ,  1.05677886, -0.14978112, -0.23885512, -0.92925252,\n",
       "        -0.39398481, -0.22656561,  0.8349927 , -2.61461691,  0.01223621,\n",
       "        -0.48030101,  0.57729115,  0.3650233 , -0.05843095,  0.21585808,\n",
       "        -1.16403019, -0.49736313, -1.12567277,  1.12040656,  0.07078221,\n",
       "         0.43082112, -0.98083507,  0.17114543, -0.26263654, -0.46986111,\n",
       "         0.24798618, -0.44369344, -1.23023541,  0.83319227, -1.20446003,\n",
       "         0.7535153 , -1.50932888,  1.87712404, -0.37046389, -0.89251509,\n",
       "        -1.82534636,  0.02675245,  2.11205142, -0.5593591 ,  1.41377558,\n",
       "        -0.44258537, -0.18882853, -0.84023396, -0.41770316,  1.97764784,\n",
       "        -0.41366809,  1.55356513, -2.95211348,  0.56577982,  0.7032675 ,\n",
       "        -0.06292211, -2.3453185 ,  1.49621793,  0.7212069 ,  0.77797415,\n",
       "         2.12238895,  1.9313174 , -1.0854093 ,  0.11089829, -1.47760496,\n",
       "        -0.28706934, -1.13119373,  1.82026707,  1.30368311,  0.24347501,\n",
       "         1.07995289,  0.73413371,  0.29994967, -0.00906334,  0.42591658,\n",
       "        -0.7392211 ,  0.72130584,  0.34495558,  0.7756794 , -0.51773678,\n",
       "        -0.89166724, -0.99479831,  1.0896572 , -1.67686933,  0.47249732],\n",
       "       [-0.52262412, -0.16916473,  0.84763493, -0.56773628,  0.68424805,\n",
       "         0.92516942, -0.49277054,  1.10110903, -0.77123009, -2.28124511,\n",
       "         0.02027557, -0.36860996,  0.57937512, -2.79594232,  0.82871228,\n",
       "         0.08499902,  0.60643647, -0.55408116, -1.14827709,  0.14731661,\n",
       "         0.18173638,  1.97533516,  0.37402475,  0.75906778, -0.71579219,\n",
       "         0.67329678,  0.10777802, -0.1132849 ,  1.07243167,  1.8144469 ,\n",
       "         0.19834076,  0.72449878, -0.71610258, -0.31646827, -0.21584818,\n",
       "         0.35159447, -1.06539954,  0.68146643, -2.19067315,  0.34218023,\n",
       "        -1.2107504 , -2.1081504 ,  0.51427865,  0.24394862, -0.21100841,\n",
       "        -1.23592223,  0.81592956,  0.1161487 ,  0.12975973, -0.16467401,\n",
       "        -0.94483588,  1.22807439, -0.06599647,  0.4593149 ,  0.16986802,\n",
       "         0.56617189, -0.48358112,  0.43166173, -0.92398707,  0.91928541,\n",
       "        -0.99250219,  0.16391187,  1.30905429,  2.13565987,  1.07352999,\n",
       "        -0.57557787,  0.32584393, -0.32511267, -1.51984191,  0.41582929,\n",
       "         0.55216557, -0.18204319, -0.24341803, -1.09392539,  1.36137865,\n",
       "         1.31770816,  1.80292858,  0.65783264, -0.09390337,  0.83459005,\n",
       "        -1.53144739, -0.51343544, -0.09189268, -1.06661806, -0.60630908,\n",
       "        -0.36996159,  0.84220295,  1.01519655,  1.18182321, -1.50515651,\n",
       "         0.21882416, -1.20238629, -2.90512182,  1.0933119 ,  0.23111227,\n",
       "        -0.17335041,  0.35630039,  1.05086337, -2.25218178,  1.08580062]])"
      ]
     },
     "execution_count": 40,
     "metadata": {},
     "output_type": "execute_result"
    },
    {
     "data": {
      "image/png": "[encoded data removed]",
      "text/plain": [
       "<matplotlib.figure.Figure at 0x1d9ed351e48>"
      ]
     },
     "metadata": {},
     "output_type": "display_data"
    }
   ],
   "source": [
    "c = np.dot(v2.T,rand_xy)\n",
    "\n",
    "w3_half = w3**0.5\n",
    "cov_3_half = v3*w3_half*v3.T\n",
    "rand_xy_scale_3_v2 = np.dot(a_3,rand_xy) + np.matlib.repmat(u_3,1,n_pt)\n",
    "\n",
    "\n",
    "rand_xy == c\n",
    "\n",
    "#plt.plot(c[0,:],c[1,:],'o')\n",
    "plt.plot(rand_xy_scale_3[0,:],rand_xy_scale_3[1,:],'o')\n",
    "plt.plot(rand_xy_scale_3_v2[0,:],rand_xy_scale_3_v2[1,:],'o')\n",
    "\n",
    "rand_xy_scale_3_v2 == rand_xy_scale_3\n",
    "v2.T\n",
    "v2\n",
    "np.dot(v3,rand_xy) \n",
    "rand_xy"
   ]
  },
  {
   "cell_type": "code",
   "execution_count": 5,
   "metadata": {},
   "outputs": [
    {
     "data": {
      "text/plain": [
       "<matplotlib.figure.Figure at 0x1d9eabf5e48>"
      ]
     },
     "execution_count": 5,
     "metadata": {},
     "output_type": "execute_result"
    },
    {
     "data": {
      "text/plain": [
       "[<matplotlib.lines.Line2D at 0x1d9ebfaa860>]"
      ]
     },
     "execution_count": 5,
     "metadata": {},
     "output_type": "execute_result"
    },
    {
     "data": {
      "text/plain": [
       "[<matplotlib.lines.Line2D at 0x1d9eabf5780>]"
      ]
     },
     "execution_count": 5,
     "metadata": {},
     "output_type": "execute_result"
    },
    {
     "data": {
      "text/plain": [
       "[<matplotlib.lines.Line2D at 0x1d9e58001d0>]"
      ]
     },
     "execution_count": 5,
     "metadata": {},
     "output_type": "execute_result"
    },
    {
     "data": {
      "text/plain": [
       "<matplotlib.text.Text at 0x1d9ebf7e2b0>"
      ]
     },
     "execution_count": 5,
     "metadata": {},
     "output_type": "execute_result"
    },
    {
     "data": {
      "text/plain": [
       "<matplotlib.text.Text at 0x1d9eac0fe48>"
      ]
     },
     "execution_count": 5,
     "metadata": {},
     "output_type": "execute_result"
    },
    {
     "data": {
      "text/plain": [
       "<matplotlib.text.Text at 0x1d9ead765c0>"
      ]
     },
     "execution_count": 5,
     "metadata": {},
     "output_type": "execute_result"
    },
    {
     "data": {
      "text/plain": [
       "<matplotlib.legend.Legend at 0x1d9ebfc9208>"
      ]
     },
     "execution_count": 5,
     "metadata": {},
     "output_type": "execute_result"
    },
    {
     "data": {
      "image/png": "[encoded data removed]",
      "text/plain": [
       "<matplotlib.figure.Figure at 0x1d9eabf5e48>"
      ]
     },
     "metadata": {},
     "output_type": "display_data"
    }
   ],
   "source": [
    "plt.figure()\n",
    "plt.plot(x1,y1,'^',label=r'$ \\mu_1$ and $\\sigma_1$')\n",
    "plt.plot(x2,y2,'^',label=r'$ \\mu_2$ and $\\sigma_2$')\n",
    "plt.plot(x3,y3,'^',label=r'$ \\mu_3$ and $\\sigma_3$')\n",
    "plt.title(r'part a - 3 different $ \\mu$ and $\\sigma$')\n",
    "plt.xlabel('x')\n",
    "plt.ylabel('y')\n",
    "plt.legend()\n",
    "\n",
    "fig = plt.gcf()\n",
    "fig.set_size_inches(4, 4)\n",
    "plt.savefig('hw1_1_a.png',dpi=600)"
   ]
  },
  {
   "cell_type": "code",
   "execution_count": 6,
   "metadata": {
    "collapsed": true
   },
   "outputs": [],
   "source": [
    "x1_mean = np.mean(x1)\n",
    "y1_mean = np.mean(y1)\n",
    "cov_1 = np.cov(x1,y1)\n",
    "\n",
    "x2_mean = np.mean(x2)\n",
    "y2_mean = np.mean(y2)\n",
    "cov_2 = np.cov(x2,y2)\n",
    "\n",
    "x3_mean = np.mean(x3)\n",
    "y3_mean = np.mean(y3)\n",
    "cov_3 = np.cov(x3,y3)"
   ]
  },
  {
   "cell_type": "code",
   "execution_count": 7,
   "metadata": {},
   "outputs": [
    {
     "data": {
      "text/plain": [
       "1.136376733152793"
      ]
     },
     "execution_count": 7,
     "metadata": {},
     "output_type": "execute_result"
    },
    {
     "data": {
      "text/plain": [
       "2.0280824577017871"
      ]
     },
     "execution_count": 7,
     "metadata": {},
     "output_type": "execute_result"
    },
    {
     "data": {
      "text/plain": [
       "array([[ 1.1313097 , -0.0033863 ],\n",
       "       [-0.0033863 ,  1.70413419]])"
      ]
     },
     "execution_count": 7,
     "metadata": {},
     "output_type": "execute_result"
    },
    {
     "data": {
      "text/plain": [
       "-1.112139565327791"
      ]
     },
     "execution_count": 7,
     "metadata": {},
     "output_type": "execute_result"
    },
    {
     "data": {
      "text/plain": [
       "1.1349680259338191"
      ]
     },
     "execution_count": 7,
     "metadata": {},
     "output_type": "execute_result"
    },
    {
     "data": {
      "text/plain": [
       "array([[ 2.06949888, -1.93262522],\n",
       "       [-1.93262522,  2.19222601]])"
      ]
     },
     "execution_count": 7,
     "metadata": {},
     "output_type": "execute_result"
    },
    {
     "data": {
      "text/plain": [
       "1.8891389448491132"
      ]
     },
     "execution_count": 7,
     "metadata": {},
     "output_type": "execute_result"
    },
    {
     "data": {
      "text/plain": [
       "-2.0413241807512312"
      ]
     },
     "execution_count": 7,
     "metadata": {},
     "output_type": "execute_result"
    },
    {
     "data": {
      "text/plain": [
       "array([[ 1.67375088,  0.28624387],\n",
       "       [ 0.28624387,  1.31764488]])"
      ]
     },
     "execution_count": 7,
     "metadata": {},
     "output_type": "execute_result"
    },
    {
     "data": {
      "text/plain": [
       "array([ 1.13637673,  2.02808246])"
      ]
     },
     "execution_count": 7,
     "metadata": {},
     "output_type": "execute_result"
    },
    {
     "data": {
      "text/plain": [
       "array([-1.11213957,  1.13496803])"
      ]
     },
     "execution_count": 7,
     "metadata": {},
     "output_type": "execute_result"
    },
    {
     "data": {
      "text/plain": [
       "array([ 1.88913894, -2.04132418])"
      ]
     },
     "execution_count": 7,
     "metadata": {},
     "output_type": "execute_result"
    }
   ],
   "source": [
    "x1_mean\n",
    "y1_mean\n",
    "cov_1\n",
    "\n",
    "x2_mean\n",
    "y2_mean\n",
    "cov_2\n",
    "\n",
    "x3_mean\n",
    "y3_mean\n",
    "cov_3\n",
    "\n",
    "orig_1 = np.array([x1_mean,y1_mean])\n",
    "orig_2 = np.array([x2_mean, y2_mean])\n",
    "orig_3 = np.array([x3_mean, y3_mean])\n",
    "\n",
    "orig_1\n",
    "orig_2\n",
    "orig_3"
   ]
  },
  {
   "cell_type": "code",
   "execution_count": 8,
   "metadata": {
    "collapsed": true
   },
   "outputs": [],
   "source": [
    "w1,v1 = scipy.linalg.eig(cov_1)\n",
    "w2,v2 = scipy.linalg.eig(cov_2)\n",
    "w3,v3 = scipy.linalg.eig(cov_3)\n",
    "\n",
    "idx = w1.argsort()[::-1]   \n",
    "w1 = w1[idx]\n",
    "v1 = v1[:,idx]\n",
    "\n",
    "idx = w2.argsort()[::-1]   \n",
    "w2 = w2[idx]\n",
    "v2 = v2[:,idx]\n",
    "\n",
    "idx = w3.argsort()[::-1]   \n",
    "w3 = w3[idx]\n",
    "v3 = v3[:,idx]"
   ]
  },
  {
   "cell_type": "code",
   "execution_count": 9,
   "metadata": {},
   "outputs": [
    {
     "data": {
      "text/plain": [
       "array([ 1.30543258+0.j,  1.06362103+0.j])"
      ]
     },
     "execution_count": 9,
     "metadata": {},
     "output_type": "execute_result"
    },
    {
     "data": {
      "text/plain": [
       "array([ 2.01605099+0.j,  0.44414331+0.j])"
      ]
     },
     "execution_count": 9,
     "metadata": {},
     "output_type": "execute_result"
    },
    {
     "data": {
      "text/plain": [
       "array([ 1.35380976+0.j,  1.07638046+0.j])"
      ]
     },
     "execution_count": 9,
     "metadata": {},
     "output_type": "execute_result"
    }
   ],
   "source": [
    "mags_1 = w1**0.5\n",
    "mags_2 = w2**0.5\n",
    "mags_3 = w3**0.5\n",
    "\n",
    "mags_1\n",
    "mags_2\n",
    "mags_3"
   ]
  },
  {
   "cell_type": "code",
   "execution_count": 10,
   "metadata": {
    "collapsed": true
   },
   "outputs": [],
   "source": [
    "pts_1_1 = np.real(v1[:,0]*mags_1[0]) + orig_1\n",
    "pts_1_2 = np.real(v1[:,1]*mags_1[1]) + orig_1\n",
    "\n",
    "pts_2_1 = np.real(v2[:,0]*mags_2[0]) + orig_2\n",
    "pts_2_2 = np.real(v2[:,1]*mags_2[1]) + orig_2\n",
    "\n",
    "pts_3_1 = np.real(v3[:,0]*mags_3[0]) + orig_3\n",
    "pts_3_2 = np.real(v3[:,1]*mags_3[1]) + orig_3"
   ]
  },
  {
   "cell_type": "code",
   "execution_count": 11,
   "metadata": {},
   "outputs": [
    {
     "data": {
      "text/plain": [
       "<function matplotlib.pyplot.figure>"
      ]
     },
     "execution_count": 11,
     "metadata": {},
     "output_type": "execute_result"
    },
    {
     "data": {
      "text/plain": [
       "[<matplotlib.lines.Line2D at 0x1d9ec461cf8>]"
      ]
     },
     "execution_count": 11,
     "metadata": {},
     "output_type": "execute_result"
    },
    {
     "data": {
      "text/plain": [
       "[<matplotlib.lines.Line2D at 0x1d9ed7ceef0>]"
      ]
     },
     "execution_count": 11,
     "metadata": {},
     "output_type": "execute_result"
    },
    {
     "data": {
      "text/plain": [
       "[<matplotlib.lines.Line2D at 0x1d9ec4696d8>]"
      ]
     },
     "execution_count": 11,
     "metadata": {},
     "output_type": "execute_result"
    },
    {
     "data": {
      "text/plain": [
       "[<matplotlib.lines.Line2D at 0x1d9ec469f98>]"
      ]
     },
     "execution_count": 11,
     "metadata": {},
     "output_type": "execute_result"
    },
    {
     "data": {
      "text/plain": [
       "[<matplotlib.lines.Line2D at 0x1d9ec471780>]"
      ]
     },
     "execution_count": 11,
     "metadata": {},
     "output_type": "execute_result"
    },
    {
     "data": {
      "text/plain": [
       "[<matplotlib.lines.Line2D at 0x1d9ec471c88>]"
      ]
     },
     "execution_count": 11,
     "metadata": {},
     "output_type": "execute_result"
    },
    {
     "data": {
      "text/plain": [
       "<matplotlib.legend.Legend at 0x1d9ec471c50>"
      ]
     },
     "execution_count": 11,
     "metadata": {},
     "output_type": "execute_result"
    },
    {
     "data": {
      "text/plain": [
       "<matplotlib.text.Text at 0x1d9ed7dd4a8>"
      ]
     },
     "execution_count": 11,
     "metadata": {},
     "output_type": "execute_result"
    },
    {
     "data": {
      "text/plain": [
       "<matplotlib.text.Text at 0x1d9ec406748>"
      ]
     },
     "execution_count": 11,
     "metadata": {},
     "output_type": "execute_result"
    },
    {
     "data": {
      "text/plain": [
       "<matplotlib.text.Text at 0x1d9ec437320>"
      ]
     },
     "execution_count": 11,
     "metadata": {},
     "output_type": "execute_result"
    },
    {
     "data": {
      "image/png": "[encoded data removed]",
      "text/plain": [
       "<matplotlib.figure.Figure at 0x1d9ed7ce2b0>"
      ]
     },
     "metadata": {},
     "output_type": "display_data"
    }
   ],
   "source": [
    "plt.figure\n",
    "plt.plot([orig_1[0],pts_1_1[0]],[orig_1[1],pts_1_1[1]],label='1',color='blue')\n",
    "plt.plot([orig_1[0],pts_1_2[0]],[orig_1[1],pts_1_2[1]],label='1',color='blue')\n",
    "\n",
    "plt.plot([orig_2[0],pts_2_1[0]],[orig_2[1],pts_2_1[1]],label='2',color='green')\n",
    "plt.plot([orig_2[0],pts_2_2[0]],[orig_2[1],pts_2_2[1]],label='2',color='green')\n",
    "\n",
    "plt.plot([orig_3[0],pts_3_1[0]],[orig_3[1],pts_3_1[1]],label='3',color='red')\n",
    "plt.plot([orig_3[0],pts_3_2[0]],[orig_3[1],pts_3_2[1]],label='3',color='red')\n",
    "plt.legend()\n",
    "plt.xlabel('x')\n",
    "plt.ylabel('y')\n",
    "plt.title('Eigenvectors and eigenvalues')\n",
    "\n",
    "fig = plt.gcf()\n",
    "fig.set_size_inches(4,4)\n",
    "plt.savefig('hw1_1_b.png',dpi=600)"
   ]
  },
  {
   "cell_type": "code",
   "execution_count": 12,
   "metadata": {},
   "outputs": [
    {
     "data": {
      "text/plain": [
       "<function matplotlib.pyplot.figure>"
      ]
     },
     "execution_count": 12,
     "metadata": {},
     "output_type": "execute_result"
    },
    {
     "data": {
      "text/plain": [
       "[<matplotlib.lines.Line2D at 0x1d9ec5027f0>]"
      ]
     },
     "execution_count": 12,
     "metadata": {},
     "output_type": "execute_result"
    },
    {
     "data": {
      "text/plain": [
       "[<matplotlib.lines.Line2D at 0x1d9ec43ed30>]"
      ]
     },
     "execution_count": 12,
     "metadata": {},
     "output_type": "execute_result"
    },
    {
     "data": {
      "text/plain": [
       "[<matplotlib.lines.Line2D at 0x1d9ec50b1d0>]"
      ]
     },
     "execution_count": 12,
     "metadata": {},
     "output_type": "execute_result"
    },
    {
     "data": {
      "text/plain": [
       "[<matplotlib.lines.Line2D at 0x1d9ec50bb38>]"
      ]
     },
     "execution_count": 12,
     "metadata": {},
     "output_type": "execute_result"
    },
    {
     "data": {
      "text/plain": [
       "[<matplotlib.lines.Line2D at 0x1d9ec50bc88>]"
      ]
     },
     "execution_count": 12,
     "metadata": {},
     "output_type": "execute_result"
    },
    {
     "data": {
      "text/plain": [
       "[<matplotlib.lines.Line2D at 0x1d9ec510a90>]"
      ]
     },
     "execution_count": 12,
     "metadata": {},
     "output_type": "execute_result"
    },
    {
     "data": {
      "text/plain": [
       "<matplotlib.text.Text at 0x1d9ec65da58>"
      ]
     },
     "execution_count": 12,
     "metadata": {},
     "output_type": "execute_result"
    },
    {
     "data": {
      "text/plain": [
       "<matplotlib.text.Text at 0x1d9ec639978>"
      ]
     },
     "execution_count": 12,
     "metadata": {},
     "output_type": "execute_result"
    },
    {
     "data": {
      "text/plain": [
       "<matplotlib.text.Text at 0x1d9ec4d1dd8>"
      ]
     },
     "execution_count": 12,
     "metadata": {},
     "output_type": "execute_result"
    },
    {
     "data": {
      "text/plain": [
       "[<matplotlib.lines.Line2D at 0x1d9ec510e10>]"
      ]
     },
     "execution_count": 12,
     "metadata": {},
     "output_type": "execute_result"
    },
    {
     "data": {
      "text/plain": [
       "[<matplotlib.lines.Line2D at 0x1d9ec51b7f0>]"
      ]
     },
     "execution_count": 12,
     "metadata": {},
     "output_type": "execute_result"
    },
    {
     "data": {
      "text/plain": [
       "[<matplotlib.lines.Line2D at 0x1d9ec5292e8>]"
      ]
     },
     "execution_count": 12,
     "metadata": {},
     "output_type": "execute_result"
    },
    {
     "data": {
      "text/plain": [
       "<matplotlib.legend.Legend at 0x1d9ec529ac8>"
      ]
     },
     "execution_count": 12,
     "metadata": {},
     "output_type": "execute_result"
    },
    {
     "data": {
      "image/png": "[encoded data removed]",
      "text/plain": [
       "<matplotlib.figure.Figure at 0x1d9ec663208>"
      ]
     },
     "metadata": {},
     "output_type": "display_data"
    }
   ],
   "source": [
    "plt.figure\n",
    "plt.plot([orig_1[0],pts_1_1[0]],[orig_1[1],pts_1_1[1]],label='1',color='blue')\n",
    "plt.plot([orig_1[0],pts_1_2[0]],[orig_1[1],pts_1_2[1]],label='1',color='blue')\n",
    "\n",
    "plt.plot([orig_2[0],pts_2_1[0]],[orig_2[1],pts_2_1[1]],label='2',color='green')\n",
    "plt.plot([orig_2[0],pts_2_2[0]],[orig_2[1],pts_2_2[1]],label='2',color='green')\n",
    "\n",
    "plt.plot([orig_3[0],pts_3_1[0]],[orig_3[1],pts_3_1[1]],label='3',color='red')\n",
    "plt.plot([orig_3[0],pts_3_2[0]],[orig_3[1],pts_3_2[1]],label='3',color='red')\n",
    "plt.xlabel('x')\n",
    "plt.ylabel('y')\n",
    "plt.title('Eigenvectors and eigenvalues')\n",
    "\n",
    "plt.plot(x1,y1,'^',label=r'$ \\mu_1$ and $\\sigma_1$')\n",
    "plt.plot(x2,y2,'^',label=r'$ \\mu_2$ and $\\sigma_2$')\n",
    "plt.plot(x3,y3,'^',label=r'$ \\mu_3$ and $\\sigma_3$')\n",
    "plt.legend()\n",
    "\n"
   ]
  },
  {
   "cell_type": "code",
   "execution_count": 13,
   "metadata": {
    "collapsed": true
   },
   "outputs": [],
   "source": [
    "mags_1 = w1**0.5\n",
    "mags_2 = w2**0.5\n",
    "mags_3 = w3**0.5\n",
    "\n",
    "# for i = 1 \n",
    "x_1_scale = np.squeeze([[x1-x1_mean],[y1-y1_mean]])\n",
    "\n",
    "u1_scale_1 = v1[:,0]/mags_1[0]\n",
    "u1_scale_1 = np.expand_dims(u1_scale_1, axis=1)\n",
    "x_til_1_1 = np.squeeze(np.dot(u1_scale_1.T,x_1_scale))\n",
    "\n",
    "u1_scale_2 = v1[:,1]/mags_1[1]\n",
    "u1_scale_2 = np.expand_dims(u1_scale_2, axis=1)\n",
    "x_til_1_2 = np.squeeze(np.dot(u1_scale_2.T,x_1_scale))\n",
    "\n",
    "# for i = 2 \n",
    "x_2_scale = np.squeeze([[x2-x2_mean],[y2-y2_mean]])\n",
    "\n",
    "u2_scale_1 = v2[:,0]/mags_2[0]\n",
    "u2_scale_1 = np.expand_dims(u2_scale_1, axis=1)\n",
    "x_til_2_1 = np.squeeze(np.dot(u2_scale_1.T,x_2_scale))\n",
    "\n",
    "u2_scale_2 = v2[:,1]/mags_2[1]\n",
    "u2_scale_2 = np.expand_dims(u2_scale_2, axis=1)\n",
    "x_til_2_2 = np.squeeze(np.dot(u2_scale_2.T,x_2_scale))\n",
    "\n",
    "# for i = 3 \n",
    "x_3_scale = np.squeeze([[x3-x3_mean],[y3-y3_mean]])\n",
    "\n",
    "u3_scale_1 = v3[:,0]/mags_3[0]\n",
    "u3_scale_1 = np.expand_dims(u3_scale_1, axis=1)\n",
    "x_til_3_1 = np.squeeze(np.dot(u1_scale_1.T,x_1_scale))\n",
    "\n",
    "u3_scale_2 = v3[:,1]/mags_3[1]\n",
    "u3_scale_2 = np.expand_dims(u3_scale_2, axis=1)\n",
    "x_til_3_2 = np.squeeze(np.dot(u3_scale_2.T,x_3_scale))"
   ]
  },
  {
   "cell_type": "code",
   "execution_count": 14,
   "metadata": {},
   "outputs": [
    {
     "name": "stderr",
     "output_type": "stream",
     "text": [
      "C:\\Users\\djcald.CSENETID\\AppData\\Local\\Continuum\\Anaconda3\\lib\\site-packages\\numpy\\core\\numeric.py:531: ComplexWarning: Casting complex values to real discards the imaginary part\n",
      "  return array(a, dtype, copy=False, order=order)\n"
     ]
    },
    {
     "data": {
      "text/plain": [
       "[<matplotlib.lines.Line2D at 0x1d9ec5fca90>]"
      ]
     },
     "execution_count": 14,
     "metadata": {},
     "output_type": "execute_result"
    },
    {
     "data": {
      "text/plain": [
       "[<matplotlib.lines.Line2D at 0x1d9e84524a8>]"
      ]
     },
     "execution_count": 14,
     "metadata": {},
     "output_type": "execute_result"
    },
    {
     "data": {
      "text/plain": [
       "[<matplotlib.lines.Line2D at 0x1d9ec845630>]"
      ]
     },
     "execution_count": 14,
     "metadata": {},
     "output_type": "execute_result"
    },
    {
     "data": {
      "text/plain": [
       "<matplotlib.legend.Legend at 0x1d9ec845860>"
      ]
     },
     "execution_count": 14,
     "metadata": {},
     "output_type": "execute_result"
    },
    {
     "data": {
      "text/plain": [
       "<matplotlib.text.Text at 0x1d9ec4b3ef0>"
      ]
     },
     "execution_count": 14,
     "metadata": {},
     "output_type": "execute_result"
    },
    {
     "data": {
      "text/plain": [
       "<matplotlib.text.Text at 0x1d9ed7ce240>"
      ]
     },
     "execution_count": 14,
     "metadata": {},
     "output_type": "execute_result"
    },
    {
     "data": {
      "text/plain": [
       "<matplotlib.text.Text at 0x1d9ec5d20f0>"
      ]
     },
     "execution_count": 14,
     "metadata": {},
     "output_type": "execute_result"
    },
    {
     "data": {
      "image/png": "[encoded data removed]",
      "text/plain": [
       "<matplotlib.figure.Figure at 0x1d9eab6d630>"
      ]
     },
     "metadata": {},
     "output_type": "display_data"
    }
   ],
   "source": [
    "plt.plot(x_til_1_1,x_til_1_2,'o',label='i = 1');\n",
    "plt.plot(x_til_2_1,x_til_2_2,'o',label='i = 2');\n",
    "plt.plot(x_til_3_1,x_til_3_2,'o',label='i = 3');\n",
    "plt.legend()\n",
    "plt.xlabel(r'$\\lambda_1 , u_1$')\n",
    "plt.ylabel(r'$\\lambda_2 , u_2$')\n",
    "plt.title('')\n",
    "fig = plt.gcf()\n",
    "fig.set_size_inches(4, 4)\n",
    "plt.savefig('hw1_1_c.png',dpi=600)"
   ]
  },
  {
   "cell_type": "code",
   "execution_count": null,
   "metadata": {
    "collapsed": true
   },
   "outputs": [],
   "source": []
  },
  {
   "cell_type": "code",
   "execution_count": null,
   "metadata": {
    "collapsed": true
   },
   "outputs": [],
   "source": []
  },
  {
   "cell_type": "code",
   "execution_count": null,
   "metadata": {
    "collapsed": true
   },
   "outputs": [],
   "source": []
  }
 ],
 "metadata": {
  "kernelspec": {
   "display_name": "Python 3",
   "language": "python",
   "name": "python3"
  },
  "language_info": {
   "codemirror_mode": {
    "name": "ipython",
    "version": 3
   },
   "file_extension": ".py",
   "mimetype": "text/x-python",
   "name": "python",
   "nbconvert_exporter": "python",
   "pygments_lexer": "ipython3",
   "version": "3.6.2"
  }
 },
 "nbformat": 4,
 "nbformat_minor": 2
}
