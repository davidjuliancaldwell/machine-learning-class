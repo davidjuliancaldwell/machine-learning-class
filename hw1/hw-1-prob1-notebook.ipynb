{
 "cells": [
  {
   "cell_type": "code",
   "execution_count": 1,
   "metadata": {},
   "outputs": [],
   "source": [
    "# import modules\n",
    "import numpy as np\n",
    "import matplotlib.pyplot as plt\n",
    "import scipy\n",
    "import seaborn as sns\n",
    "sns.set()\n",
    "plt.rc('text', usetex=True)\n",
    "plt.rc('font', family='serif')\n",
    "%matplotlib inline\n",
    "\n",
    "from IPython.core.interactiveshell import InteractiveShell\n",
    "InteractiveShell.ast_node_interactivity = \"all\""
   ]
  },
  {
   "cell_type": "code",
   "execution_count": null,
   "metadata": {},
   "outputs": [],
   "source": [
    "# define matrices for use with multivariate normal function\n",
    "u_1 = [1,2]\n",
    "cov_1 = [[1,0],[0,2]]\n",
    "\n",
    "u_2 = [-1,1]\n",
    "cov_2 = [[2,-1.8],[-1.8,2]]\n",
    "\n",
    "u_3 = [2,-2]\n",
    "cov_3 = [[3,1],[1,2]]\n",
    "#cov_3 = [[1,1],[1,1]]\n",
    "\n",
    "#x1, y1 = np.random.multivariate_normal(u_1, cov_1, 100).T\n",
    "#x2, y2 = np.random.multivariate_normal(u_2, cov_2, 100).T\n",
    "#x3, y3 = np.random.multivariate_normal(u_3, cov_3, 100).T"
   ]
  },
  {
   "cell_type": "code",
   "execution_count": 5,
   "metadata": {},
   "outputs": [
    {
     "data": {
      "text/plain": [
       "(2, 1)"
      ]
     },
     "execution_count": 5,
     "metadata": {},
     "output_type": "execute_result"
    }
   ],
   "source": [
    "u_1 = np.array([[1],[2]])\n",
    "cov_1 = np.array([[1,0],[0,2]])\n",
    "\n",
    "u_2 = np.array([[-1],[1]])\n",
    "cov_2 = np.array([[2,-1.8],[-1.8,2]])\n",
    "\n",
    "u_3 = np.array([[2],[-2]])\n",
    "cov_3 = np.array([[3,1],[1,2]])\n",
    "\n",
    "np.shape(u_3)"
   ]
  },
  {
   "cell_type": "code",
   "execution_count": 73,
   "metadata": {},
   "outputs": [],
   "source": [
    "n_pt = 100\n",
    "rand_xy = np.squeeze(np.array([[np.random.randn(n_pt)],[np.random.randn(n_pt)]]))\n",
    "#np.shape(rand_xy)\n",
    "#sns.jointplot(rand_xy[0,:],rand_xy[1,:])\n",
    "\n",
    "w1,v1 = scipy.linalg.eig(cov_1)\n",
    "idx = w1.argsort()[::-1]   \n",
    "w1 = np.real(w1[idx])\n",
    "v1 = v1[:,idx]\n",
    "a_1 = v1*(w1**0.5)\n",
    "\n",
    "rand_xy_scale_1 = np.dot(a_1,rand_xy) + np.matlib.repmat(u_1,1,n_pt)\n",
    "x1 = rand_xy_scale_1[0,:]\n",
    "y1 = rand_xy_scale_1[1,:]\n",
    "\n",
    "w2,v2 = scipy.linalg.eig(cov_2)\n",
    "idx = w2.argsort()[::-1]   \n",
    "w2 = np.real(w2[idx])\n",
    "v2 = v2[:,idx]\n",
    "a_2 = v2*(w2**0.5)\n",
    "\n",
    "rand_xy = np.squeeze(np.array([[np.random.randn(n_pt)],[np.random.randn(n_pt)]]))\n",
    "rand_xy_scale_2 = np.dot(a_2,rand_xy) + np.matlib.repmat(u_2,1,n_pt)\n",
    "x2 = rand_xy_scale_2[0,:]\n",
    "y2 = rand_xy_scale_2[1,:]\n",
    "\n",
    "rand_xy = np.squeeze(np.array([[np.random.randn(n_pt)],[np.random.randn(n_pt)]]))\n",
    "w3,v3 = scipy.linalg.eig(cov_3)\n",
    "idx = w3.argsort()[::-1]   \n",
    "w3 = np.real(w1[idx])\n",
    "v3 = v3[:,idx]\n",
    "a_3 = v3*(w3**0.5)\n",
    "\n",
    "rand_xy_scale_3 = np.dot(a_3,rand_xy) + np.matlib.repmat(u_3,1,n_pt)\n",
    "x3 = rand_xy_scale_3[0,:]\n",
    "y3 = rand_xy_scale_3[1,:]\n",
    "\n",
    "\n",
    "#sns.jointplot(rand_xy_scale[0,:],rand_xy_scale[1,:])\n",
    "#np.mean(rand_xy_scale,axis=1)\n",
    "#np.cov(rand_xy_scale)"
   ]
  },
  {
   "cell_type": "code",
   "execution_count": 74,
   "metadata": {},
   "outputs": [
    {
     "data": {
      "text/plain": [
       "<matplotlib.figure.Figure at 0x10a150a90>"
      ]
     },
     "execution_count": 74,
     "metadata": {},
     "output_type": "execute_result"
    },
    {
     "data": {
      "text/plain": [
       "[<matplotlib.lines.Line2D at 0x10b30b940>]"
      ]
     },
     "execution_count": 74,
     "metadata": {},
     "output_type": "execute_result"
    },
    {
     "data": {
      "text/plain": [
       "[<matplotlib.lines.Line2D at 0x10a8ec3c8>]"
      ]
     },
     "execution_count": 74,
     "metadata": {},
     "output_type": "execute_result"
    },
    {
     "data": {
      "text/plain": [
       "[<matplotlib.lines.Line2D at 0x109a66a58>]"
      ]
     },
     "execution_count": 74,
     "metadata": {},
     "output_type": "execute_result"
    },
    {
     "data": {
      "text/plain": [
       "<matplotlib.text.Text at 0x1080cdb00>"
      ]
     },
     "execution_count": 74,
     "metadata": {},
     "output_type": "execute_result"
    },
    {
     "data": {
      "text/plain": [
       "<matplotlib.text.Text at 0x10a15fef0>"
      ]
     },
     "execution_count": 74,
     "metadata": {},
     "output_type": "execute_result"
    },
    {
     "data": {
      "text/plain": [
       "<matplotlib.text.Text at 0x1095980f0>"
      ]
     },
     "execution_count": 74,
     "metadata": {},
     "output_type": "execute_result"
    },
    {
     "data": {
      "text/plain": [
       "<matplotlib.legend.Legend at 0x10b2f71d0>"
      ]
     },
     "execution_count": 74,
     "metadata": {},
     "output_type": "execute_result"
    },
    {
     "data": {
      "image/png": "[encoded data removed]",
      "text/plain": [
       "<matplotlib.figure.Figure at 0x10a150a90>"
      ]
     },
     "metadata": {},
     "output_type": "display_data"
    }
   ],
   "source": [
    "plt.figure()\n",
    "plt.plot(x1,y1,'^',label=r'$ \\mu_1$ and $\\sigma_1$')\n",
    "plt.plot(x2,y2,'^',label=r'$ \\mu_2$ and $\\sigma_2$')\n",
    "plt.plot(x3,y3,'^',label=r'$ \\mu_3$ and $\\sigma_3$')\n",
    "plt.title(r'part a - 3 different $ \\mu$ and $\\sigma$')\n",
    "plt.xlabel('x')\n",
    "plt.ylabel('y')\n",
    "plt.legend()\n",
    "\n",
    "fig = plt.gcf()\n",
    "fig.set_size_inches(4, 4)\n",
    "plt.savefig('hw1_1_a.png',dpi=600)"
   ]
  },
  {
   "cell_type": "code",
   "execution_count": 75,
   "metadata": {},
   "outputs": [],
   "source": [
    "x1_mean = np.mean(x1)\n",
    "y1_mean = np.mean(y1)\n",
    "cov_1 = np.cov(x1,y1)\n",
    "\n",
    "x2_mean = np.mean(x2)\n",
    "y2_mean = np.mean(y2)\n",
    "cov_2 = np.cov(x2,y2)\n",
    "\n",
    "x3_mean = np.mean(x3)\n",
    "y3_mean = np.mean(y3)\n",
    "cov_3 = np.cov(x3,y3)"
   ]
  },
  {
   "cell_type": "code",
   "execution_count": 76,
   "metadata": {},
   "outputs": [
    {
     "data": {
      "text/plain": [
       "0.92666061079062689"
      ]
     },
     "execution_count": 76,
     "metadata": {},
     "output_type": "execute_result"
    },
    {
     "data": {
      "text/plain": [
       "1.7644565998014223"
      ]
     },
     "execution_count": 76,
     "metadata": {},
     "output_type": "execute_result"
    },
    {
     "data": {
      "text/plain": [
       "array([[ 1.41655449, -0.04698557],\n",
       "       [-0.04698557,  1.4753022 ]])"
      ]
     },
     "execution_count": 76,
     "metadata": {},
     "output_type": "execute_result"
    },
    {
     "data": {
      "text/plain": [
       "-0.906525202027607"
      ]
     },
     "execution_count": 76,
     "metadata": {},
     "output_type": "execute_result"
    },
    {
     "data": {
      "text/plain": [
       "1.0067427830161297"
      ]
     },
     "execution_count": 76,
     "metadata": {},
     "output_type": "execute_result"
    },
    {
     "data": {
      "text/plain": [
       "array([[ 1.68143749, -1.33880174],\n",
       "       [-1.33880174,  1.50068714]])"
      ]
     },
     "execution_count": 76,
     "metadata": {},
     "output_type": "execute_result"
    },
    {
     "data": {
      "text/plain": [
       "2.1400037080646235"
      ]
     },
     "execution_count": 76,
     "metadata": {},
     "output_type": "execute_result"
    },
    {
     "data": {
      "text/plain": [
       "-1.9798342019227055"
      ]
     },
     "execution_count": 76,
     "metadata": {},
     "output_type": "execute_result"
    },
    {
     "data": {
      "text/plain": [
       "array([[ 1.40462068, -0.13259968],\n",
       "       [-0.13259968,  1.32009452]])"
      ]
     },
     "execution_count": 76,
     "metadata": {},
     "output_type": "execute_result"
    },
    {
     "data": {
      "text/plain": [
       "array([ 0.92666061,  1.7644566 ])"
      ]
     },
     "execution_count": 76,
     "metadata": {},
     "output_type": "execute_result"
    },
    {
     "data": {
      "text/plain": [
       "array([-0.9065252 ,  1.00674278])"
      ]
     },
     "execution_count": 76,
     "metadata": {},
     "output_type": "execute_result"
    },
    {
     "data": {
      "text/plain": [
       "array([ 2.14000371, -1.9798342 ])"
      ]
     },
     "execution_count": 76,
     "metadata": {},
     "output_type": "execute_result"
    }
   ],
   "source": [
    "x1_mean\n",
    "y1_mean\n",
    "cov_1\n",
    "\n",
    "x2_mean\n",
    "y2_mean\n",
    "cov_2\n",
    "\n",
    "x3_mean\n",
    "y3_mean\n",
    "cov_3\n",
    "\n",
    "orig_1 = np.array([x1_mean,y1_mean])\n",
    "orig_2 = np.array([x2_mean, y2_mean])\n",
    "orig_3 = np.array([x3_mean, y3_mean])\n",
    "\n",
    "orig_1\n",
    "orig_2\n",
    "orig_3"
   ]
  },
  {
   "cell_type": "code",
   "execution_count": 77,
   "metadata": {},
   "outputs": [],
   "source": [
    "w1,v1 = scipy.linalg.eig(cov_1)\n",
    "w2,v2 = scipy.linalg.eig(cov_2)\n",
    "w3,v3 = scipy.linalg.eig(cov_3)\n",
    "\n",
    "idx = w1.argsort()[::-1]   \n",
    "w1 = w1[idx]\n",
    "v1 = v1[:,idx]\n",
    "\n",
    "idx = w2.argsort()[::-1]   \n",
    "w2 = w2[idx]\n",
    "v2 = v2[:,idx]\n",
    "\n",
    "idx = w3.argsort()[::-1]   \n",
    "w3 = w3[idx]\n",
    "v3 = v3[:,idx]"
   ]
  },
  {
   "cell_type": "code",
   "execution_count": 78,
   "metadata": {},
   "outputs": [
    {
     "data": {
      "text/plain": [
       "array([ 1.22529186+0.j,  1.17920165+0.j])"
      ]
     },
     "execution_count": 78,
     "metadata": {},
     "output_type": "execute_result"
    },
    {
     "data": {
      "text/plain": [
       "array([ 1.71257437+0.j,  0.49921305+0.j])"
      ]
     },
     "execution_count": 78,
     "metadata": {},
     "output_type": "execute_result"
    },
    {
     "data": {
      "text/plain": [
       "array([ 1.22536917+0.j,  1.10597722+0.j])"
      ]
     },
     "execution_count": 78,
     "metadata": {},
     "output_type": "execute_result"
    }
   ],
   "source": [
    "mags_1 = w1**0.5\n",
    "mags_2 = w2**0.5\n",
    "mags_3 = w3**0.5\n",
    "\n",
    "mags_1\n",
    "mags_2\n",
    "mags_3"
   ]
  },
  {
   "cell_type": "code",
   "execution_count": 79,
   "metadata": {},
   "outputs": [],
   "source": [
    "pts_1_1 = np.real(v1[:,0]*mags_1[0]) + orig_1\n",
    "pts_1_2 = np.real(v1[:,1]*mags_1[1]) + orig_1\n",
    "\n",
    "pts_2_1 = np.real(v2[:,0]*mags_2[0]) + orig_2\n",
    "pts_2_2 = np.real(v2[:,1]*mags_2[1]) + orig_2\n",
    "\n",
    "pts_3_1 = np.real(v3[:,0]*mags_3[0]) + orig_3\n",
    "pts_3_2 = np.real(v3[:,1]*mags_3[1]) + orig_3"
   ]
  },
  {
   "cell_type": "code",
   "execution_count": 80,
   "metadata": {},
   "outputs": [
    {
     "data": {
      "text/plain": [
       "<function matplotlib.pyplot.figure>"
      ]
     },
     "execution_count": 80,
     "metadata": {},
     "output_type": "execute_result"
    },
    {
     "data": {
      "text/plain": [
       "[<matplotlib.lines.Line2D at 0x10a65ad68>]"
      ]
     },
     "execution_count": 80,
     "metadata": {},
     "output_type": "execute_result"
    },
    {
     "data": {
      "text/plain": [
       "[<matplotlib.lines.Line2D at 0x1095dfa58>]"
      ]
     },
     "execution_count": 80,
     "metadata": {},
     "output_type": "execute_result"
    },
    {
     "data": {
      "text/plain": [
       "[<matplotlib.lines.Line2D at 0x10a65a4e0>]"
      ]
     },
     "execution_count": 80,
     "metadata": {},
     "output_type": "execute_result"
    },
    {
     "data": {
      "text/plain": [
       "[<matplotlib.lines.Line2D at 0x10a65a668>]"
      ]
     },
     "execution_count": 80,
     "metadata": {},
     "output_type": "execute_result"
    },
    {
     "data": {
      "text/plain": [
       "[<matplotlib.lines.Line2D at 0x10a62fb00>]"
      ]
     },
     "execution_count": 80,
     "metadata": {},
     "output_type": "execute_result"
    },
    {
     "data": {
      "text/plain": [
       "[<matplotlib.lines.Line2D at 0x10a65a898>]"
      ]
     },
     "execution_count": 80,
     "metadata": {},
     "output_type": "execute_result"
    },
    {
     "data": {
      "text/plain": [
       "<matplotlib.legend.Legend at 0x10a633c18>"
      ]
     },
     "execution_count": 80,
     "metadata": {},
     "output_type": "execute_result"
    },
    {
     "data": {
      "text/plain": [
       "<matplotlib.text.Text at 0x1081aa518>"
      ]
     },
     "execution_count": 80,
     "metadata": {},
     "output_type": "execute_result"
    },
    {
     "data": {
      "text/plain": [
       "<matplotlib.text.Text at 0x10a40acf8>"
      ]
     },
     "execution_count": 80,
     "metadata": {},
     "output_type": "execute_result"
    },
    {
     "data": {
      "text/plain": [
       "<matplotlib.text.Text at 0x109690710>"
      ]
     },
     "execution_count": 80,
     "metadata": {},
     "output_type": "execute_result"
    },
    {
     "data": {
      "image/png": "[encoded data removed]",
      "text/plain": [
       "<matplotlib.figure.Figure at 0x1088b7fd0>"
      ]
     },
     "metadata": {},
     "output_type": "display_data"
    }
   ],
   "source": [
    "plt.figure\n",
    "plt.plot([orig_1[0],pts_1_1[0]],[orig_1[1],pts_1_1[1]],label='1',color='blue')\n",
    "plt.plot([orig_1[0],pts_1_2[0]],[orig_1[1],pts_1_2[1]],label='1',color='blue')\n",
    "\n",
    "plt.plot([orig_2[0],pts_2_1[0]],[orig_2[1],pts_2_1[1]],label='2',color='green')\n",
    "plt.plot([orig_2[0],pts_2_2[0]],[orig_2[1],pts_2_2[1]],label='2',color='green')\n",
    "\n",
    "plt.plot([orig_3[0],pts_3_1[0]],[orig_3[1],pts_3_1[1]],label='3',color='red')\n",
    "plt.plot([orig_3[0],pts_3_2[0]],[orig_3[1],pts_3_2[1]],label='3',color='red')\n",
    "plt.legend()\n",
    "plt.xlabel('x')\n",
    "plt.ylabel('y')\n",
    "plt.title('Eigenvectors and eigenvalues')\n",
    "\n",
    "fig = plt.gcf()\n",
    "fig.set_size_inches(4,4)\n",
    "plt.savefig('hw1_1_b.png',dpi=600)"
   ]
  },
  {
   "cell_type": "code",
   "execution_count": 81,
   "metadata": {},
   "outputs": [
    {
     "data": {
      "text/plain": [
       "<function matplotlib.pyplot.figure>"
      ]
     },
     "execution_count": 81,
     "metadata": {},
     "output_type": "execute_result"
    },
    {
     "data": {
      "text/plain": [
       "[<matplotlib.lines.Line2D at 0x10a806be0>]"
      ]
     },
     "execution_count": 81,
     "metadata": {},
     "output_type": "execute_result"
    },
    {
     "data": {
      "text/plain": [
       "[<matplotlib.lines.Line2D at 0x1095d0320>]"
      ]
     },
     "execution_count": 81,
     "metadata": {},
     "output_type": "execute_result"
    },
    {
     "data": {
      "text/plain": [
       "[<matplotlib.lines.Line2D at 0x1095d0e48>]"
      ]
     },
     "execution_count": 81,
     "metadata": {},
     "output_type": "execute_result"
    },
    {
     "data": {
      "text/plain": [
       "[<matplotlib.lines.Line2D at 0x10a804e10>]"
      ]
     },
     "execution_count": 81,
     "metadata": {},
     "output_type": "execute_result"
    },
    {
     "data": {
      "text/plain": [
       "[<matplotlib.lines.Line2D at 0x10a803630>]"
      ]
     },
     "execution_count": 81,
     "metadata": {},
     "output_type": "execute_result"
    },
    {
     "data": {
      "text/plain": [
       "[<matplotlib.lines.Line2D at 0x10a803d68>]"
      ]
     },
     "execution_count": 81,
     "metadata": {},
     "output_type": "execute_result"
    },
    {
     "data": {
      "text/plain": [
       "<matplotlib.text.Text at 0x10a46b780>"
      ]
     },
     "execution_count": 81,
     "metadata": {},
     "output_type": "execute_result"
    },
    {
     "data": {
      "text/plain": [
       "<matplotlib.text.Text at 0x1096416a0>"
      ]
     },
     "execution_count": 81,
     "metadata": {},
     "output_type": "execute_result"
    },
    {
     "data": {
      "text/plain": [
       "<matplotlib.text.Text at 0x10893da58>"
      ]
     },
     "execution_count": 81,
     "metadata": {},
     "output_type": "execute_result"
    },
    {
     "data": {
      "text/plain": [
       "[<matplotlib.lines.Line2D at 0x10a7b2780>]"
      ]
     },
     "execution_count": 81,
     "metadata": {},
     "output_type": "execute_result"
    },
    {
     "data": {
      "text/plain": [
       "[<matplotlib.lines.Line2D at 0x10a7b2f60>]"
      ]
     },
     "execution_count": 81,
     "metadata": {},
     "output_type": "execute_result"
    },
    {
     "data": {
      "text/plain": [
       "[<matplotlib.lines.Line2D at 0x10a7b1780>]"
      ]
     },
     "execution_count": 81,
     "metadata": {},
     "output_type": "execute_result"
    },
    {
     "data": {
      "text/plain": [
       "<matplotlib.legend.Legend at 0x10a7b1f60>"
      ]
     },
     "execution_count": 81,
     "metadata": {},
     "output_type": "execute_result"
    },
    {
     "data": {
      "image/png": "[encoded data removed]",
      "text/plain": [
       "<matplotlib.figure.Figure at 0x1096ab828>"
      ]
     },
     "metadata": {},
     "output_type": "display_data"
    }
   ],
   "source": [
    "plt.figure\n",
    "plt.plot([orig_1[0],pts_1_1[0]],[orig_1[1],pts_1_1[1]],label='1',color='blue')\n",
    "plt.plot([orig_1[0],pts_1_2[0]],[orig_1[1],pts_1_2[1]],label='1',color='blue')\n",
    "\n",
    "plt.plot([orig_2[0],pts_2_1[0]],[orig_2[1],pts_2_1[1]],label='2',color='green')\n",
    "plt.plot([orig_2[0],pts_2_2[0]],[orig_2[1],pts_2_2[1]],label='2',color='green')\n",
    "\n",
    "plt.plot([orig_3[0],pts_3_1[0]],[orig_3[1],pts_3_1[1]],label='3',color='red')\n",
    "plt.plot([orig_3[0],pts_3_2[0]],[orig_3[1],pts_3_2[1]],label='3',color='red')\n",
    "plt.xlabel('x')\n",
    "plt.ylabel('y')\n",
    "plt.title('Eigenvectors and eigenvalues')\n",
    "\n",
    "plt.plot(x1,y1,'^',label=r'$ \\mu_1$ and $\\sigma_1$')\n",
    "plt.plot(x2,y2,'^',label=r'$ \\mu_2$ and $\\sigma_2$')\n",
    "plt.plot(x3,y3,'^',label=r'$ \\mu_3$ and $\\sigma_3$')\n",
    "plt.legend()\n",
    "\n"
   ]
  },
  {
   "cell_type": "code",
   "execution_count": 84,
   "metadata": {},
   "outputs": [],
   "source": [
    "mags_1 = w1**0.5\n",
    "mags_2 = w2**0.5\n",
    "mags_3 = w3**0.5\n",
    "\n",
    "# for i = 1 \n",
    "x_1_scale = np.squeeze([[x1-x1_mean],[y1-y1_mean]])\n",
    "\n",
    "u1_scale_1 = v1[:,0]/mags_1[0]\n",
    "u1_scale_1 = np.expand_dims(u1_scale_1, axis=1)\n",
    "x_til_1_1 = np.squeeze(np.dot(u1_scale_1.T,x_1_scale))\n",
    "\n",
    "u1_scale_2 = v1[:,1]/mags_1[1]\n",
    "u1_scale_2 = np.expand_dims(u1_scale_2, axis=1)\n",
    "x_til_1_2 = np.squeeze(np.dot(u1_scale_2.T,x_1_scale))\n",
    "\n",
    "# for i = 2 \n",
    "x_2_scale = np.squeeze([[x2-x2_mean],[y2-y2_mean]])\n",
    "\n",
    "u2_scale_1 = v2[:,0]/mags_2[0]\n",
    "u2_scale_1 = np.expand_dims(u2_scale_1, axis=1)\n",
    "x_til_2_1 = np.squeeze(np.dot(u2_scale_1.T,x_2_scale))\n",
    "\n",
    "u2_scale_2 = v2[:,1]/mags_2[1]\n",
    "u2_scale_2 = np.expand_dims(u2_scale_2, axis=1)\n",
    "x_til_2_2 = np.squeeze(np.dot(u2_scale_2.T,x_2_scale))\n",
    "\n",
    "# for i = 3 \n",
    "x_3_scale = np.squeeze([[x3-x3_mean],[y3-y3_mean]])\n",
    "\n",
    "u3_scale_1 = v3[:,0]/mags_3[0]\n",
    "u3_scale_1 = np.expand_dims(u3_scale_1, axis=1)\n",
    "x_til_3_1 = np.squeeze(np.dot(u1_scale_1.T,x_1_scale))\n",
    "\n",
    "u3_scale_2 = v3[:,1]/mags_3[1]\n",
    "u3_scale_2 = np.expand_dims(u3_scale_2, axis=1)\n",
    "x_til_3_2 = np.squeeze(np.dot(u3_scale_2.T,x_3_scale))"
   ]
  },
  {
   "cell_type": "code",
   "execution_count": 85,
   "metadata": {},
   "outputs": [
    {
     "name": "stderr",
     "output_type": "stream",
     "text": [
      "/Users/djcald/Virtualenvs/sciPyagain/lib/python3.6/site-packages/numpy/core/numeric.py:531: ComplexWarning: Casting complex values to real discards the imaginary part\n",
      "  return array(a, dtype, copy=False, order=order)\n"
     ]
    },
    {
     "data": {
      "text/plain": [
       "[<matplotlib.lines.Line2D at 0x10a21d240>]"
      ]
     },
     "execution_count": 85,
     "metadata": {},
     "output_type": "execute_result"
    },
    {
     "data": {
      "text/plain": [
       "[<matplotlib.lines.Line2D at 0x10cfa1b38>]"
      ]
     },
     "execution_count": 85,
     "metadata": {},
     "output_type": "execute_result"
    },
    {
     "data": {
      "text/plain": [
       "[<matplotlib.lines.Line2D at 0x10a21dc88>]"
      ]
     },
     "execution_count": 85,
     "metadata": {},
     "output_type": "execute_result"
    },
    {
     "data": {
      "text/plain": [
       "<matplotlib.legend.Legend at 0x10a21dc50>"
      ]
     },
     "execution_count": 85,
     "metadata": {},
     "output_type": "execute_result"
    },
    {
     "data": {
      "text/plain": [
       "<matplotlib.text.Text at 0x1099e53c8>"
      ]
     },
     "execution_count": 85,
     "metadata": {},
     "output_type": "execute_result"
    },
    {
     "data": {
      "text/plain": [
       "<matplotlib.text.Text at 0x10a304e48>"
      ]
     },
     "execution_count": 85,
     "metadata": {},
     "output_type": "execute_result"
    },
    {
     "data": {
      "text/plain": [
       "<matplotlib.text.Text at 0x10a25f860>"
      ]
     },
     "execution_count": 85,
     "metadata": {},
     "output_type": "execute_result"
    },
    {
     "data": {
      "image/png": "[encoded data removed]",
      "text/plain": [
       "<matplotlib.figure.Figure at 0x10cfa1f98>"
      ]
     },
     "metadata": {},
     "output_type": "display_data"
    }
   ],
   "source": [
    "plt.plot(x_til_1_1,x_til_1_2,'o',label='i = 1');\n",
    "plt.plot(x_til_2_1,x_til_2_2,'o',label='i = 2');\n",
    "plt.plot(x_til_3_1,x_til_3_2,'o',label='i = 3');\n",
    "plt.legend()\n",
    "plt.xlabel(r'$\\lambda_1 , u_1$')\n",
    "plt.ylabel(r'$\\lambda_2 , u_2$')\n",
    "plt.title('')\n",
    "fig = plt.gcf()\n",
    "fig.set_size_inches(4, 4)\n",
    "plt.savefig('hw1_1_c.png',dpi=600)"
   ]
  },
  {
   "cell_type": "code",
   "execution_count": null,
   "metadata": {},
   "outputs": [],
   "source": []
  },
  {
   "cell_type": "code",
   "execution_count": null,
   "metadata": {},
   "outputs": [],
   "source": []
  },
  {
   "cell_type": "code",
   "execution_count": null,
   "metadata": {
    "collapsed": true
   },
   "outputs": [],
   "source": []
  }
 ],
 "metadata": {
  "kernelspec": {
   "display_name": "Python 3",
   "language": "python",
   "name": "python3"
  },
  "language_info": {
   "codemirror_mode": {
    "name": "ipython",
    "version": 3
   },
   "file_extension": ".py",
   "mimetype": "text/x-python",
   "name": "python",
   "nbconvert_exporter": "python",
   "pygments_lexer": "ipython3",
   "version": "3.6.2"
  }
 },
 "nbformat": 4,
 "nbformat_minor": 2
}
