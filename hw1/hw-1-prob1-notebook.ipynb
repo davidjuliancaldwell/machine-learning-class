{
 "cells": [
  {
   "cell_type": "code",
   "execution_count": 25,
   "metadata": {},
   "outputs": [],
   "source": [
    "# import modules\n",
    "import numpy as np\n",
    "import matplotlib.pyplot as plt\n",
    "import scipy\n",
    "import seaborn as sns\n",
    "sns.set()\n",
    "plt.rc('text', usetex=True)\n",
    "plt.rc('font', family='serif')\n",
    "%matplotlib inline\n",
    "\n",
    "from IPython.core.interactiveshell import InteractiveShell\n",
    "InteractiveShell.ast_node_interactivity = \"all\""
   ]
  },
  {
   "cell_type": "code",
   "execution_count": 26,
   "metadata": {},
   "outputs": [],
   "source": [
    "# define matrices \n",
    "u_1 = [1,2]\n",
    "cov_1 = [[1,0],[0,2]]\n",
    "\n",
    "u_2 = [-1,1]\n",
    "cov_2 = [[2,-1.8],[-1.8,2]]\n",
    "\n",
    "u_3 = [2,-2]\n",
    "cov_3 = [[3,1],[1,2]]\n",
    "#cov_3 = [[1,1],[1,1]]"
   ]
  },
  {
   "cell_type": "code",
   "execution_count": 27,
   "metadata": {},
   "outputs": [],
   "source": [
    "x1, y1 = np.random.multivariate_normal(u_1, cov_1, 100).T\n",
    "x2, y2 = np.random.multivariate_normal(u_2, cov_2, 100).T\n",
    "x3, y3 = np.random.multivariate_normal(u_3, cov_3, 100).T"
   ]
  },
  {
   "cell_type": "code",
   "execution_count": 40,
   "metadata": {},
   "outputs": [
    {
     "data": {
      "text/plain": [
       "<matplotlib.figure.Figure at 0x114692c88>"
      ]
     },
     "execution_count": 40,
     "metadata": {},
     "output_type": "execute_result"
    },
    {
     "data": {
      "text/plain": [
       "[<matplotlib.lines.Line2D at 0x1148ae1d0>]"
      ]
     },
     "execution_count": 40,
     "metadata": {},
     "output_type": "execute_result"
    },
    {
     "data": {
      "text/plain": [
       "[<matplotlib.lines.Line2D at 0x1146c4d68>]"
      ]
     },
     "execution_count": 40,
     "metadata": {},
     "output_type": "execute_result"
    },
    {
     "data": {
      "text/plain": [
       "[<matplotlib.lines.Line2D at 0x1148ae390>]"
      ]
     },
     "execution_count": 40,
     "metadata": {},
     "output_type": "execute_result"
    },
    {
     "data": {
      "text/plain": [
       "<matplotlib.text.Text at 0x11487e7f0>"
      ]
     },
     "execution_count": 40,
     "metadata": {},
     "output_type": "execute_result"
    },
    {
     "data": {
      "text/plain": [
       "<matplotlib.text.Text at 0x11483c940>"
      ]
     },
     "execution_count": 40,
     "metadata": {},
     "output_type": "execute_result"
    },
    {
     "data": {
      "text/plain": [
       "<matplotlib.text.Text at 0x11484efd0>"
      ]
     },
     "execution_count": 40,
     "metadata": {},
     "output_type": "execute_result"
    },
    {
     "data": {
      "text/plain": [
       "<matplotlib.legend.Legend at 0x1148b44e0>"
      ]
     },
     "execution_count": 40,
     "metadata": {},
     "output_type": "execute_result"
    },
    {
     "data": {
      "image/png": "[encoded data removed]",
      "text/plain": [
       "<matplotlib.figure.Figure at 0x114692c88>"
      ]
     },
     "metadata": {},
     "output_type": "display_data"
    }
   ],
   "source": [
    "plt.figure()\n",
    "plt.plot(x1,y1,'^',label=r'$ \\mu_1$ and $\\sigma_1$')\n",
    "plt.plot(x2,y2,'^',label=r'$ \\mu_2$ and $\\sigma_2$')\n",
    "plt.plot(x3,y3,'^',label=r'$ \\mu_3$ and $\\sigma_3$')\n",
    "plt.title(r'part a - 3 different $ \\mu$ and $\\sigma$')\n",
    "plt.xlabel('x')\n",
    "plt.ylabel('y')\n",
    "plt.legend()\n",
    "\n",
    "fig = plt.gcf()\n",
    "fig.set_size_inches(4, 4)\n",
    "plt.savefig('hw1_1_a.png',dpi=600)"
   ]
  },
  {
   "cell_type": "code",
   "execution_count": 29,
   "metadata": {},
   "outputs": [],
   "source": [
    "x1_mean = np.mean(x1)\n",
    "y1_mean = np.mean(y1)\n",
    "cov_1 = np.cov(x1,y1)\n",
    "\n",
    "x2_mean = np.mean(x2)\n",
    "y2_mean = np.mean(y2)\n",
    "cov_2 = np.cov(x2,y2)\n",
    "\n",
    "x3_mean = np.mean(x3)\n",
    "y3_mean = np.mean(y3)\n",
    "cov_3 = np.cov(x3,y3)"
   ]
  },
  {
   "cell_type": "code",
   "execution_count": 30,
   "metadata": {},
   "outputs": [
    {
     "data": {
      "text/plain": [
       "1.0161085058800183"
      ]
     },
     "execution_count": 30,
     "metadata": {},
     "output_type": "execute_result"
    },
    {
     "data": {
      "text/plain": [
       "1.7775456222159784"
      ]
     },
     "execution_count": 30,
     "metadata": {},
     "output_type": "execute_result"
    },
    {
     "data": {
      "text/plain": [
       "array([[ 1.05842403,  0.15975484],\n",
       "       [ 0.15975484,  1.7532736 ]])"
      ]
     },
     "execution_count": 30,
     "metadata": {},
     "output_type": "execute_result"
    },
    {
     "data": {
      "text/plain": [
       "-0.92805083433536484"
      ]
     },
     "execution_count": 30,
     "metadata": {},
     "output_type": "execute_result"
    },
    {
     "data": {
      "text/plain": [
       "0.84663616922184959"
      ]
     },
     "execution_count": 30,
     "metadata": {},
     "output_type": "execute_result"
    },
    {
     "data": {
      "text/plain": [
       "array([[ 2.07072806, -1.86237885],\n",
       "       [-1.86237885,  2.0802002 ]])"
      ]
     },
     "execution_count": 30,
     "metadata": {},
     "output_type": "execute_result"
    },
    {
     "data": {
      "text/plain": [
       "2.019726771415534"
      ]
     },
     "execution_count": 30,
     "metadata": {},
     "output_type": "execute_result"
    },
    {
     "data": {
      "text/plain": [
       "-2.0909801540557771"
      ]
     },
     "execution_count": 30,
     "metadata": {},
     "output_type": "execute_result"
    },
    {
     "data": {
      "text/plain": [
       "array([[ 2.63330768,  0.9338189 ],\n",
       "       [ 0.9338189 ,  1.74889862]])"
      ]
     },
     "execution_count": 30,
     "metadata": {},
     "output_type": "execute_result"
    },
    {
     "data": {
      "text/plain": [
       "array([ 1.01610851,  1.77754562])"
      ]
     },
     "execution_count": 30,
     "metadata": {},
     "output_type": "execute_result"
    },
    {
     "data": {
      "text/plain": [
       "array([-0.92805083,  0.84663617])"
      ]
     },
     "execution_count": 30,
     "metadata": {},
     "output_type": "execute_result"
    },
    {
     "data": {
      "text/plain": [
       "array([ 2.01972677, -2.09098015])"
      ]
     },
     "execution_count": 30,
     "metadata": {},
     "output_type": "execute_result"
    }
   ],
   "source": [
    "x1_mean\n",
    "y1_mean\n",
    "cov_1\n",
    "\n",
    "x2_mean\n",
    "y2_mean\n",
    "cov_2\n",
    "\n",
    "x3_mean\n",
    "y3_mean\n",
    "cov_3\n",
    "\n",
    "orig_1 = np.array([x1_mean,y1_mean])\n",
    "orig_2 = np.array([x2_mean, y2_mean])\n",
    "orig_3 = np.array([x3_mean, y3_mean])\n",
    "\n",
    "orig_1\n",
    "orig_2\n",
    "orig_3"
   ]
  },
  {
   "cell_type": "code",
   "execution_count": 31,
   "metadata": {},
   "outputs": [],
   "source": [
    "w1,v1 = scipy.linalg.eig(cov_1)\n",
    "w2,v2 = scipy.linalg.eig(cov_2)\n",
    "w3,v3 = scipy.linalg.eig(cov_3)\n",
    "\n",
    "idx = w1.argsort()[::-1]   \n",
    "w1 = w1[idx]\n",
    "v1 = v1[:,idx]\n",
    "\n",
    "idx = w2.argsort()[::-1]   \n",
    "w2 = w2[idx]\n",
    "v2 = v2[:,idx]\n",
    "\n",
    "idx = w3.argsort()[::-1]   \n",
    "w3 = w3[idx]\n",
    "v3 = v3[:,idx]"
   ]
  },
  {
   "cell_type": "code",
   "execution_count": 32,
   "metadata": {},
   "outputs": [
    {
     "data": {
      "text/plain": [
       "array([ 1.33725217+0.j,  1.01165917+0.j])"
      ]
     },
     "execution_count": 32,
     "metadata": {},
     "output_type": "execute_result"
    },
    {
     "data": {
      "text/plain": [
       "array([ 1.98440142+0.j,  0.46160508+0.j])"
      ]
     },
     "execution_count": 32,
     "metadata": {},
     "output_type": "execute_result"
    },
    {
     "data": {
      "text/plain": [
       "array([ 1.79564260+0.j,  1.07604552+0.j])"
      ]
     },
     "execution_count": 32,
     "metadata": {},
     "output_type": "execute_result"
    }
   ],
   "source": [
    "mags_1 = w1**0.5\n",
    "mags_2 = w2**0.5\n",
    "mags_3 = w3**0.5\n",
    "\n",
    "mags_1\n",
    "mags_2\n",
    "mags_3"
   ]
  },
  {
   "cell_type": "code",
   "execution_count": 33,
   "metadata": {},
   "outputs": [],
   "source": [
    "pts_1_1 = np.real(v1[:,0]*mags_1[0]) + orig_1\n",
    "pts_1_2 = np.real(v1[:,1]*mags_1[1]) + orig_1\n",
    "\n",
    "pts_2_1 = np.real(v2[:,0]*mags_2[0]) + orig_2\n",
    "pts_2_2 = np.real(v2[:,1]*mags_2[1]) + orig_2\n",
    "\n",
    "pts_3_1 = np.real(v3[:,0]*mags_3[0]) + orig_3\n",
    "pts_3_2 = np.real(v3[:,1]*mags_3[1]) + orig_3"
   ]
  },
  {
   "cell_type": "code",
   "execution_count": 41,
   "metadata": {},
   "outputs": [
    {
     "data": {
      "text/plain": [
       "<function matplotlib.pyplot.figure>"
      ]
     },
     "execution_count": 41,
     "metadata": {},
     "output_type": "execute_result"
    },
    {
     "data": {
      "text/plain": [
       "[<matplotlib.lines.Line2D at 0x116253f28>]"
      ]
     },
     "execution_count": 41,
     "metadata": {},
     "output_type": "execute_result"
    },
    {
     "data": {
      "text/plain": [
       "[<matplotlib.lines.Line2D at 0x114873550>]"
      ]
     },
     "execution_count": 41,
     "metadata": {},
     "output_type": "execute_result"
    },
    {
     "data": {
      "text/plain": [
       "[<matplotlib.lines.Line2D at 0x115ed52e8>]"
      ]
     },
     "execution_count": 41,
     "metadata": {},
     "output_type": "execute_result"
    },
    {
     "data": {
      "text/plain": [
       "[<matplotlib.lines.Line2D at 0x11625dcf8>]"
      ]
     },
     "execution_count": 41,
     "metadata": {},
     "output_type": "execute_result"
    },
    {
     "data": {
      "text/plain": [
       "[<matplotlib.lines.Line2D at 0x1162629b0>]"
      ]
     },
     "execution_count": 41,
     "metadata": {},
     "output_type": "execute_result"
    },
    {
     "data": {
      "text/plain": [
       "[<matplotlib.lines.Line2D at 0x1162741d0>]"
      ]
     },
     "execution_count": 41,
     "metadata": {},
     "output_type": "execute_result"
    },
    {
     "data": {
      "text/plain": [
       "<matplotlib.legend.Legend at 0x116274a20>"
      ]
     },
     "execution_count": 41,
     "metadata": {},
     "output_type": "execute_result"
    },
    {
     "data": {
      "text/plain": [
       "<matplotlib.text.Text at 0x11486a0b8>"
      ]
     },
     "execution_count": 41,
     "metadata": {},
     "output_type": "execute_result"
    },
    {
     "data": {
      "text/plain": [
       "<matplotlib.text.Text at 0x11454c828>"
      ]
     },
     "execution_count": 41,
     "metadata": {},
     "output_type": "execute_result"
    },
    {
     "data": {
      "text/plain": [
       "<matplotlib.text.Text at 0x114774c18>"
      ]
     },
     "execution_count": 41,
     "metadata": {},
     "output_type": "execute_result"
    },
    {
     "data": {
      "image/png": "[encoded data removed]",
      "text/plain": [
       "<matplotlib.figure.Figure at 0x1148737b8>"
      ]
     },
     "metadata": {},
     "output_type": "display_data"
    }
   ],
   "source": [
    "plt.figure\n",
    "plt.plot([orig_1[0],pts_1_1[0]],[orig_1[1],pts_1_1[1]],label='1',color='blue')\n",
    "plt.plot([orig_1[0],pts_1_2[0]],[orig_1[1],pts_1_2[1]],label='1',color='blue')\n",
    "\n",
    "plt.plot([orig_2[0],pts_2_1[0]],[orig_2[1],pts_2_1[1]],label='2',color='green')\n",
    "plt.plot([orig_2[0],pts_2_2[0]],[orig_2[1],pts_2_2[1]],label='2',color='green')\n",
    "\n",
    "plt.plot([orig_3[0],pts_3_1[0]],[orig_3[1],pts_3_1[1]],label='3',color='red')\n",
    "plt.plot([orig_3[0],pts_3_2[0]],[orig_3[1],pts_3_2[1]],label='3',color='red')\n",
    "plt.legend()\n",
    "plt.xlabel('x')\n",
    "plt.ylabel('y')\n",
    "plt.title('Eigenvectors and eigenvalues')\n",
    "\n",
    "fig = plt.gcf()\n",
    "fig.set_size_inches(4,4)\n",
    "plt.savefig('hw1_1_b.png',dpi=600)"
   ]
  },
  {
   "cell_type": "code",
   "execution_count": 35,
   "metadata": {},
   "outputs": [
    {
     "data": {
      "text/plain": [
       "<function matplotlib.pyplot.figure>"
      ]
     },
     "execution_count": 35,
     "metadata": {},
     "output_type": "execute_result"
    },
    {
     "data": {
      "text/plain": [
       "[<matplotlib.lines.Line2D at 0x1142e2780>]"
      ]
     },
     "execution_count": 35,
     "metadata": {},
     "output_type": "execute_result"
    },
    {
     "data": {
      "text/plain": [
       "[<matplotlib.lines.Line2D at 0x11420c198>]"
      ]
     },
     "execution_count": 35,
     "metadata": {},
     "output_type": "execute_result"
    },
    {
     "data": {
      "text/plain": [
       "[<matplotlib.lines.Line2D at 0x11417db70>]"
      ]
     },
     "execution_count": 35,
     "metadata": {},
     "output_type": "execute_result"
    },
    {
     "data": {
      "text/plain": [
       "[<matplotlib.lines.Line2D at 0x1142ec828>]"
      ]
     },
     "execution_count": 35,
     "metadata": {},
     "output_type": "execute_result"
    },
    {
     "data": {
      "text/plain": [
       "[<matplotlib.lines.Line2D at 0x1142ee208>]"
      ]
     },
     "execution_count": 35,
     "metadata": {},
     "output_type": "execute_result"
    },
    {
     "data": {
      "text/plain": [
       "[<matplotlib.lines.Line2D at 0x1142ee898>]"
      ]
     },
     "execution_count": 35,
     "metadata": {},
     "output_type": "execute_result"
    },
    {
     "data": {
      "text/plain": [
       "<matplotlib.text.Text at 0x114200ef0>"
      ]
     },
     "execution_count": 35,
     "metadata": {},
     "output_type": "execute_result"
    },
    {
     "data": {
      "text/plain": [
       "<matplotlib.text.Text at 0x114237d30>"
      ]
     },
     "execution_count": 35,
     "metadata": {},
     "output_type": "execute_result"
    },
    {
     "data": {
      "text/plain": [
       "<matplotlib.text.Text at 0x1142b7908>"
      ]
     },
     "execution_count": 35,
     "metadata": {},
     "output_type": "execute_result"
    },
    {
     "data": {
      "text/plain": [
       "[<matplotlib.lines.Line2D at 0x1142fd9e8>]"
      ]
     },
     "execution_count": 35,
     "metadata": {},
     "output_type": "execute_result"
    },
    {
     "data": {
      "text/plain": [
       "[<matplotlib.lines.Line2D at 0x1142fda20>]"
      ]
     },
     "execution_count": 35,
     "metadata": {},
     "output_type": "execute_result"
    },
    {
     "data": {
      "text/plain": [
       "[<matplotlib.lines.Line2D at 0x11430a208>]"
      ]
     },
     "execution_count": 35,
     "metadata": {},
     "output_type": "execute_result"
    },
    {
     "data": {
      "text/plain": [
       "<matplotlib.legend.Legend at 0x11430ab38>"
      ]
     },
     "execution_count": 35,
     "metadata": {},
     "output_type": "execute_result"
    },
    {
     "data": {
      "image/png": "[encoded data removed]",
      "text/plain": [
       "<matplotlib.figure.Figure at 0x11420c780>"
      ]
     },
     "metadata": {},
     "output_type": "display_data"
    }
   ],
   "source": [
    "plt.figure\n",
    "plt.plot([orig_1[0],pts_1_1[0]],[orig_1[1],pts_1_1[1]],label='1',color='blue')\n",
    "plt.plot([orig_1[0],pts_1_2[0]],[orig_1[1],pts_1_2[1]],label='1',color='blue')\n",
    "\n",
    "plt.plot([orig_2[0],pts_2_1[0]],[orig_2[1],pts_2_1[1]],label='2',color='green')\n",
    "plt.plot([orig_2[0],pts_2_2[0]],[orig_2[1],pts_2_2[1]],label='2',color='green')\n",
    "\n",
    "plt.plot([orig_3[0],pts_3_1[0]],[orig_3[1],pts_3_1[1]],label='3',color='red')\n",
    "plt.plot([orig_3[0],pts_3_2[0]],[orig_3[1],pts_3_2[1]],label='3',color='red')\n",
    "plt.xlabel('x')\n",
    "plt.ylabel('y')\n",
    "plt.title('Eigenvectors and eigenvalues')\n",
    "\n",
    "plt.plot(x1,y1,'^',label=r'$ \\mu_1$ and $\\sigma_1$')\n",
    "plt.plot(x2,y2,'^',label=r'$ \\mu_2$ and $\\sigma_2$')\n",
    "plt.plot(x3,y3,'^',label=r'$ \\mu_3$ and $\\sigma_3$')\n",
    "plt.legend()\n",
    "\n"
   ]
  },
  {
   "cell_type": "code",
   "execution_count": 36,
   "metadata": {},
   "outputs": [],
   "source": [
    "mags_1 = w1**0.5\n",
    "mags_2 = w2**0.5\n",
    "mags_3 = w3**0.5\n",
    "\n",
    "# for i = 1 \n",
    "x_1_scale = np.squeeze([[x1-x1_mean],[y1-y1_mean]])\n",
    "\n",
    "u1_scale_1 = v1[:,0]/mags_1[0]\n",
    "u1_scale_1 = np.expand_dims(u1_scale_1, axis=1)\n",
    "x_til_1_1 = np.squeeze(np.dot(u1_scale_1.T,x_1_scale))\n",
    "\n",
    "u1_scale_2 = v1[:,1]/mags_1[1]\n",
    "u1_scale_2 = np.expand_dims(u1_scale_2, axis=1)\n",
    "x_til_1_2 = np.squeeze(np.dot(u1_scale_2.T,x_1_scale))\n",
    "\n",
    "# for i = 2 \n",
    "x_2_scale = np.squeeze([[x2-x2_mean],[y2-y2_mean]])\n",
    "\n",
    "u2_scale_1 = v2[:,0]/mags_1[0]\n",
    "u2_scale_1 = np.expand_dims(u2_scale_1, axis=1)\n",
    "x_til_2_1 = np.squeeze(np.dot(u2_scale_1.T,x_2_scale))\n",
    "\n",
    "u2_scale_2 = v2[:,1]/mags_1[1]\n",
    "u2_scale_2 = np.expand_dims(u2_scale_2, axis=1)\n",
    "x_til_2_2 = np.squeeze(np.dot(u2_scale_2.T,x_2_scale))\n",
    "\n",
    "# for i = 3 \n",
    "x_3_scale = np.squeeze([[x3-x3_mean],[y3-y3_mean]])\n",
    "\n",
    "u3_scale_1 = v3[:,0]/mags_1[0]\n",
    "u3_scale_1 = np.expand_dims(u3_scale_1, axis=1)\n",
    "x_til_3_1 = np.squeeze(np.dot(u1_scale_1.T,x_1_scale))\n",
    "\n",
    "u3_scale_2 = v3[:,1]/mags_1[1]\n",
    "u3_scale_2 = np.expand_dims(u3_scale_2, axis=1)\n",
    "x_til_3_2 = np.squeeze(np.dot(u3_scale_2.T,x_3_scale))"
   ]
  },
  {
   "cell_type": "code",
   "execution_count": 42,
   "metadata": {},
   "outputs": [
    {
     "name": "stderr",
     "output_type": "stream",
     "text": [
      "/Users/djcald/Virtualenvs/sciPyagain/lib/python3.6/site-packages/numpy/core/numeric.py:531: ComplexWarning: Casting complex values to real discards the imaginary part\n",
      "  return array(a, dtype, copy=False, order=order)\n"
     ]
    },
    {
     "data": {
      "text/plain": [
       "[<matplotlib.lines.Line2D at 0x1165d71d0>]"
      ]
     },
     "execution_count": 42,
     "metadata": {},
     "output_type": "execute_result"
    },
    {
     "data": {
      "text/plain": [
       "[<matplotlib.lines.Line2D at 0x1146b9240>]"
      ]
     },
     "execution_count": 42,
     "metadata": {},
     "output_type": "execute_result"
    },
    {
     "data": {
      "text/plain": [
       "[<matplotlib.lines.Line2D at 0x1165d7be0>]"
      ]
     },
     "execution_count": 42,
     "metadata": {},
     "output_type": "execute_result"
    },
    {
     "data": {
      "text/plain": [
       "<matplotlib.legend.Legend at 0x1165d7ba8>"
      ]
     },
     "execution_count": 42,
     "metadata": {},
     "output_type": "execute_result"
    },
    {
     "data": {
      "text/plain": [
       "<matplotlib.text.Text at 0x1162a9128>"
      ]
     },
     "execution_count": 42,
     "metadata": {},
     "output_type": "execute_result"
    },
    {
     "data": {
      "text/plain": [
       "<matplotlib.text.Text at 0x115ef4198>"
      ]
     },
     "execution_count": 42,
     "metadata": {},
     "output_type": "execute_result"
    },
    {
     "data": {
      "text/plain": [
       "<matplotlib.text.Text at 0x1165a3828>"
      ]
     },
     "execution_count": 42,
     "metadata": {},
     "output_type": "execute_result"
    },
    {
     "data": {
      "image/png": "[encoded data removed]",
      "text/plain": [
       "<matplotlib.figure.Figure at 0x1146b9320>"
      ]
     },
     "metadata": {},
     "output_type": "display_data"
    }
   ],
   "source": [
    "plt.plot(x_til_1_1,x_til_1_2,'o',label='i = 1');\n",
    "plt.plot(x_til_2_1,x_til_2_2,'o',label='i = 2');\n",
    "plt.plot(x_til_3_1,x_til_3_2,'o',label='i = 3');\n",
    "plt.legend()\n",
    "plt.xlabel(r'$\\lambda_1 , u_1$')\n",
    "plt.ylabel(r'$\\lambda_2 , u_2$')\n",
    "plt.title('')\n",
    "fig = plt.gcf()\n",
    "fig.set_size_inches(4, 4)\n",
    "plt.savefig('hw1_1_c.png',dpi=600)"
   ]
  },
  {
   "cell_type": "code",
   "execution_count": null,
   "metadata": {},
   "outputs": [],
   "source": []
  },
  {
   "cell_type": "code",
   "execution_count": null,
   "metadata": {},
   "outputs": [],
   "source": []
  },
  {
   "cell_type": "code",
   "execution_count": null,
   "metadata": {},
   "outputs": [],
   "source": []
  }
 ],
 "metadata": {
  "kernelspec": {
   "display_name": "Python 3",
   "language": "python",
   "name": "python3"
  },
  "language_info": {
   "codemirror_mode": {
    "name": "ipython",
    "version": 3
   },
   "file_extension": ".py",
   "mimetype": "text/x-python",
   "name": "python",
   "nbconvert_exporter": "python",
   "pygments_lexer": "ipython3",
   "version": "3.6.2"
  }
 },
 "nbformat": 4,
 "nbformat_minor": 2
}
