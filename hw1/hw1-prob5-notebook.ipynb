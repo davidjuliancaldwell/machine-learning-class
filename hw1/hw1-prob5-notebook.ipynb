{
 "cells": [
  {
   "cell_type": "code",
   "execution_count": 1,
   "metadata": {},
   "outputs": [],
   "source": [
    "import numpy as np\n",
    "import matplotlib.pyplot as plt\n",
    "import scipy\n",
    "import seaborn as sns\n",
    "\n",
    "sns.set()\n",
    "\n",
    "plt.rc('text', usetex=True)\n",
    "plt.rc('font', family='serif')\n",
    "%matplotlib inline\n",
    "\n",
    "from IPython.core.interactiveshell import InteractiveShell\n",
    "InteractiveShell.ast_node_interactivity = \"all\"\n",
    "\n",
    "from mnist import MNIST\n",
    "\n",
    "def load_dataset():\n",
    "    mndata = MNIST('./python-mnist/data/')\n",
    "    X_train, labels_train = map(np.array, mndata.load_training())\n",
    "    X_test, labels_test = map(np.array, mndata.load_testing())\n",
    "    X_train = X_train/255.0\n",
    "    X_test = X_test/255.0\n",
    "    return X_train, X_test,labels_train,labels_test"
   ]
  },
  {
   "cell_type": "code",
   "execution_count": 2,
   "metadata": {},
   "outputs": [],
   "source": [
    "x_train,x_test,labels_train,labels_test = load_dataset()"
   ]
  },
  {
   "cell_type": "code",
   "execution_count": 3,
   "metadata": {},
   "outputs": [
    {
     "data": {
      "text/plain": [
       "10000"
      ]
     },
     "execution_count": 3,
     "metadata": {},
     "output_type": "execute_result"
    }
   ],
   "source": [
    "len(x_test)"
   ]
  },
  {
   "cell_type": "code",
   "execution_count": 4,
   "metadata": {},
   "outputs": [
    {
     "data": {
      "text/plain": [
       "<matplotlib.image.AxesImage at 0x10717ea58>"
      ]
     },
     "execution_count": 4,
     "metadata": {},
     "output_type": "execute_result"
    },
    {
     "data": {
      "image/png": "[encoded data removed]",
      "text/plain": [
       "<matplotlib.figure.Figure at 0x108cc79e8>"
      ]
     },
     "metadata": {},
     "output_type": "display_data"
    },
    {
     "data": {
      "text/plain": [
       "5"
      ]
     },
     "execution_count": 4,
     "metadata": {},
     "output_type": "execute_result"
    }
   ],
   "source": [
    "single_image = np.reshape(x_train[0][:],[28,28])\n",
    "plt.imshow(single_image)\n",
    "plt.show()\n",
    "labels_train[0]\n",
    "\n",
    "labels_onehot_train = np.zeros((np.max(np.size(labels_train)),10))\n",
    "for i in range(len(labels_onehot_train)):\n",
    "    labels_onehot_train[i,labels_train[i]] = 1\n"
   ]
  },
  {
   "cell_type": "code",
   "execution_count": 5,
   "metadata": {},
   "outputs": [],
   "source": [
    "def train(x,y,lambda_cnst):\n",
    "    # remove the mean in preprocessing \n",
    "    x = x - np.matlib.repmat(np.mean(x,axis=1),np.shape(x)[1],1).T\n",
    "    \n",
    "    # compute w_hat - inversion\n",
    "    #w_hat = np.dot(np.linalg.inv(lambda_cnst*np.identity(np.shape(x)[1]) +(np.dot(x.T,x))),(np.dot(x.T,y)))\n",
    "    \n",
    "    # without inversion |\n",
    "    a = (np.dot(x.T,x)) + lambda_cnst*np.identity(np.shape(x)[1]) \n",
    "    b = (np.dot(x.T,y))\n",
    "    #import pdb; pdb.set_trace()\n",
    "    w_hat = np.linalg.solve(a,b)\n",
    "    return w_hat"
   ]
  },
  {
   "cell_type": "code",
   "execution_count": 6,
   "metadata": {},
   "outputs": [],
   "source": [
    "def predict(w,x_prime):\n",
    "    classified = np.argmax(np.dot(x_prime,w),axis=1)\n",
    "    return classified"
   ]
  },
  {
   "cell_type": "code",
   "execution_count": 24,
   "metadata": {},
   "outputs": [],
   "source": [
    "def evaluate(results,truth):\n",
    "    truth_array = np.array(truth)\n",
    "    results_array = np.array(results)\n",
    "    accuracy = np.sum(truth_array==results_array)/len(truth_array)\n",
    "    return accuracy"
   ]
  },
  {
   "cell_type": "code",
   "execution_count": 8,
   "metadata": {},
   "outputs": [],
   "source": [
    "def feature_transform(pixels,p):\n",
    "    var = 0.1\n",
    "    std_dev = var**0.5\n",
    "    center = 0\n",
    "    d = np.shape(pixels)[0]\n",
    "    g_vec = std_dev*np.random.randn(d,p) + center\n",
    "    b = np.squeeze(2*np.pi*np.random.rand(p,1))\n",
    "    \n",
    "    transformed_pixels = np.cos(np.squeeze(np.dot(g_vec.T,pixels))+b)\n",
    "    return transformed_pixels"
   ]
  },
  {
   "cell_type": "code",
   "execution_count": 62,
   "metadata": {},
   "outputs": [],
   "source": [
    "def random_partition(data,labels,proportion):\n",
    "    inds = np.random.choice(len(data),np.int(proportion*len(data)),replace=False)\n",
    "    train_set = data[inds,:]\n",
    "    train_labels = labels[inds,:]\n",
    "    \n",
    "    inds_set = set(inds)\n",
    "    total_set = set(np.arange(len(data)))\n",
    "    #import pdb; pdb.set_trace()\n",
    "    valid_inds = list(total_set - inds_set)\n",
    "    validation_set = data[valid_inds,:]\n",
    "    validation_labels = labels[valid_inds,:]\n",
    "    return train_set,train_labels,validation_set,validation_labels"
   ]
  },
  {
   "cell_type": "code",
   "execution_count": 37,
   "metadata": {},
   "outputs": [],
   "source": [
    "def hoeffding():\n",
    "    return conf_interval,expect_test"
   ]
  },
  {
   "cell_type": "code",
   "execution_count": 38,
   "metadata": {},
   "outputs": [],
   "source": [
    "lambda_cnst = 10**-4\n",
    "w_hat = train(x_train,labels_onehot_train,lambda_cnst)\n",
    "predictions_train = predict(w_hat,x_train)\n",
    "predictions_test = predict(w_hat,x_test)"
   ]
  },
  {
   "cell_type": "code",
   "execution_count": 39,
   "metadata": {},
   "outputs": [
    {
     "data": {
      "text/plain": [
       "0.85194999999999999"
      ]
     },
     "execution_count": 39,
     "metadata": {},
     "output_type": "execute_result"
    },
    {
     "data": {
      "text/plain": [
       "0.85340000000000005"
      ]
     },
     "execution_count": 39,
     "metadata": {},
     "output_type": "execute_result"
    }
   ],
   "source": [
    "evaluate(predictions_train,labels_train)\n",
    "evaluate(predictions_test,labels_test)"
   ]
  },
  {
   "cell_type": "code",
   "execution_count": 64,
   "metadata": {},
   "outputs": [],
   "source": [
    "t_s,t_l,v_s,v_l = random_partition(x_train,labels_onehot_train,0.8)"
   ]
  },
  {
   "cell_type": "code",
   "execution_count": null,
   "metadata": {},
   "outputs": [],
   "source": [
    "p_list = [1 10 100 1000]\n",
    "plt.figure()\n",
    "\n",
    "for p in p_list:\n",
    "    x_trans = []feature_transform \n",
    "    w_hat = train(x_train,labels_onehot_train,lambda_cnst)\n",
    "    predictions_train = predict(w_hat,x_train)\n",
    "    predictions_test = predict(w_hat,x_test)"
   ]
  }
 ],
 "metadata": {
  "kernelspec": {
   "display_name": "Python 3",
   "language": "python",
   "name": "python3"
  },
  "language_info": {
   "codemirror_mode": {
    "name": "ipython",
    "version": 3
   },
   "file_extension": ".py",
   "mimetype": "text/x-python",
   "name": "python",
   "nbconvert_exporter": "python",
   "pygments_lexer": "ipython3",
   "version": "3.6.3"
  }
 },
 "nbformat": 4,
 "nbformat_minor": 2
}
