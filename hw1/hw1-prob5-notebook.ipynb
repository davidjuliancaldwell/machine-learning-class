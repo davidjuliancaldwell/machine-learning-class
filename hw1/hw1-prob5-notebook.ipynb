{
 "cells": [
  {
   "cell_type": "code",
   "execution_count": 66,
   "metadata": {
    "collapsed": true
   },
   "outputs": [],
   "source": [
    "import numpy as np\n",
    "import matplotlib.pyplot as plt\n",
    "import scipy\n",
    "import seaborn as sns\n",
    "\n",
    "sns.set()\n",
    "\n",
    "#plt.rc('text', usetex=True)\n",
    "#plt.rc('font', family='serif')\n",
    "%matplotlib inline\n",
    "\n",
    "from IPython.core.interactiveshell import InteractiveShell\n",
    "InteractiveShell.ast_node_interactivity = \"all\"\n",
    "\n",
    "import mnist\n",
    "\n",
    "# data loading function\n",
    "def load_dataset():\n",
    "    mndata = mnist.MNIST('./python-mnist/data/')\n",
    "    X_train, labels_train = map(np.array, mndata.load_training())\n",
    "    X_test, labels_test = map(np.array, mndata.load_testing())\n",
    "    X_train = X_train/255.0\n",
    "    X_test = X_test/255.0\n",
    "    return X_train, X_test,labels_train,labels_test\n",
    "\n",
    "# training function \n",
    "def train(x,y,lambda_cnst):\n",
    "    a = (np.dot(x.T,x)) + lambda_cnst*np.identity(np.shape(x)[1])\n",
    "    b = (np.dot(x.T,y))\n",
    "    w_hat = np.linalg.solve(a,b)\n",
    "    return w_hat\n",
    "\n",
    "# prediction function \n",
    "def predict(w,x_prime):\n",
    "    classified = np.argmax(np.dot(x_prime,w),axis=1)\n",
    "    return classified\n",
    "\n",
    "# evaluate performance \n",
    "def evaluate(results,truth):\n",
    "    truth_array = np.array(truth)\n",
    "    results_array = np.array(results)\n",
    "    accuracy = np.sum(truth_array==results_array)/len(truth_array)\n",
    "    #import pdb; pdb.set_trace()\n",
    "    return accuracy\n",
    "\n",
    "def feature_transform_old(pixels,p):\n",
    "    var = 0.1\n",
    "    std_dev = var**0.5\n",
    "    center = 0\n",
    "    d = np.shape(pixels)[0]\n",
    "    g_vec = std_dev*np.random.randn(d,p) + center\n",
    "    b = np.squeeze(2*np.pi*np.random.rand(p,1))\n",
    "    \n",
    "    transformed_pixels = np.cos(np.squeeze(np.dot(g_vec.T,pixels))+b)\n",
    "    return transformed_pixels\n",
    "\n",
    "def feature_transform(data,p):\n",
    "    # NEED SAME RANDOM SEED\n",
    "    np.random.seed(1)\n",
    "    \n",
    "    var = 0.1\n",
    "    std_dev = var**0.5\n",
    "    center = 0\n",
    "    d = np.shape(data)[1]\n",
    "    g_vec = std_dev*np.random.randn(d,p) + center\n",
    "    b = np.squeeze(2*np.pi*np.random.rand(p,1))\n",
    "    data_matrix = np.zeros((np.shape(data)[0],p))\n",
    "    data_matrix = [(np.dot(g_vec.T,row)+b) for row in data]\n",
    "    transformed_data = np.cos(data_matrix)\n",
    "    return transformed_data\n",
    "\n",
    "def random_partition(data,labels_onehot,labels,proportion):\n",
    "    # randomly generate indices to select training data from \n",
    "    inds = np.array(np.random.choice(len(data),np.int(proportion*len(data)),replace=False))\n",
    "    \n",
    "    # select the training data and training labels \n",
    "    train_set = data[inds,:]\n",
    "    train_onehot_labels = labels_onehot[inds,:]\n",
    "    train_labels = labels[inds]\n",
    "    \n",
    "    # make sets to figure out the elements not in the training set for the validation set \n",
    "    inds_set = set(inds)\n",
    "    total_set = set(np.arange(len(data)))\n",
    "    \n",
    "    # create set that has other indices \n",
    "    valid_inds = np.array(list(total_set - inds_set))\n",
    "    \n",
    "    # get validation labels and data \n",
    "    validation_set = data[valid_inds,:]\n",
    "    validation_onehot_labels = labels_onehot[valid_inds,:]\n",
    "    validation_labels = labels[valid_inds]\n",
    "    #import pdb; pdb.set_trace()\n",
    "    return train_set,train_onehot_labels,train_labels,validation_set,validation_onehot_labels,validation_labels,inds,valid_inds\n",
    "\n"
   ]
  },
  {
   "cell_type": "code",
   "execution_count": 2,
   "metadata": {},
   "outputs": [
    {
     "data": {
      "text/plain": [
       "<matplotlib.image.AxesImage at 0x132d8bd8550>"
      ]
     },
     "execution_count": 2,
     "metadata": {},
     "output_type": "execute_result"
    },
    {
     "data": {
      "image/png": "[encoded data removed]",
      "text/plain": [
       "<matplotlib.figure.Figure at 0x132d00e9e48>"
      ]
     },
     "metadata": {},
     "output_type": "display_data"
    },
    {
     "data": {
      "text/plain": [
       "5"
      ]
     },
     "execution_count": 2,
     "metadata": {},
     "output_type": "execute_result"
    }
   ],
   "source": [
    "x_train,x_test,labels_train,labels_test = load_dataset()\n",
    "\n",
    "# demean \n",
    "#x_train = x_train - np.matlib.repmat(np.mean(x_train,axis=1),np.shape(x_train)[1],1).T\n",
    "\n",
    "# demean with training data\n",
    "#x_test = x_test - np.matlib.repmat(np.mean(x_train,axis=1),np.shape(x_test)[1],1).T\n",
    "\n",
    "single_image = np.reshape(x_train[0][:],[28,28])\n",
    "plt.imshow(single_image)\n",
    "plt.show()\n",
    "labels_train[0]\n",
    "\n",
    "labels_onehot_train = np.zeros((np.max(np.size(labels_train)),10))\n",
    "for i in range(len(labels_onehot_train)):\n",
    "    labels_onehot_train[i,labels_train[i]] = 1\n",
    "    \n",
    "labels_onehot_test = np.zeros((np.max(np.size(labels_test)),10))\n",
    "for i in range(len(labels_onehot_test)):\n",
    "    labels_onehot_test[i,labels_test[i]] = 1"
   ]
  },
  {
   "cell_type": "code",
   "execution_count": 56,
   "metadata": {},
   "outputs": [
    {
     "name": "stdout",
     "output_type": "stream",
     "text": [
      "The training accuracy is 85.195 %\n",
      "The test accuracy is 85.34 %\n"
     ]
    }
   ],
   "source": [
    "lambda_cnst = 10**-4\n",
    "w_hat = train(x_train,labels_onehot_train,lambda_cnst)\n",
    "predictions_train = predict(w_hat,x_train)\n",
    "predictions_test = predict(w_hat,x_test)\n",
    "\n",
    "train_acc = evaluate(predictions_train,labels_train)\n",
    "test_acc = evaluate(predictions_test,labels_test)\n",
    "\n",
    "print('The training accuracy is {} %'.format(100*train_acc))\n",
    "print('The test accuracy is {} %'.format(100*test_acc))\n",
    "\n",
    "prop_train = 0.8\n",
    "train_s,train_ohl,train_l,valid_s,valid_ohl,valid_l,train_inds,valid_inds = random_partition(x_train,labels_onehot_train,labels_train,prop_train)"
   ]
  },
  {
   "cell_type": "code",
   "execution_count": 57,
   "metadata": {},
   "outputs": [
    {
     "data": {
      "text/plain": [
       "array([    0,     2,     3, ..., 59996, 59998, 59999])"
      ]
     },
     "execution_count": 57,
     "metadata": {},
     "output_type": "execute_result"
    },
    {
     "data": {
      "text/plain": [
       "array([    1,     5,    22, ..., 59981, 59987, 59997])"
      ]
     },
     "execution_count": 57,
     "metadata": {},
     "output_type": "execute_result"
    },
    {
     "data": {
      "text/plain": [
       "(48000,)"
      ]
     },
     "execution_count": 57,
     "metadata": {},
     "output_type": "execute_result"
    },
    {
     "data": {
      "text/plain": [
       "(12000,)"
      ]
     },
     "execution_count": 57,
     "metadata": {},
     "output_type": "execute_result"
    }
   ],
   "source": [
    "np.sort(train_inds)\n",
    "np.sort(valid_inds)\n",
    "np.shape(train_inds)\n",
    "np.shape(valid_inds)"
   ]
  },
  {
   "cell_type": "code",
   "execution_count": 58,
   "metadata": {},
   "outputs": [
    {
     "data": {
      "text/plain": [
       "(48000, 784)"
      ]
     },
     "execution_count": 58,
     "metadata": {},
     "output_type": "execute_result"
    },
    {
     "data": {
      "text/plain": [
       "(48000, 10)"
      ]
     },
     "execution_count": 58,
     "metadata": {},
     "output_type": "execute_result"
    },
    {
     "data": {
      "text/plain": [
       "(48000,)"
      ]
     },
     "execution_count": 58,
     "metadata": {},
     "output_type": "execute_result"
    },
    {
     "data": {
      "text/plain": [
       "(12000, 784)"
      ]
     },
     "execution_count": 58,
     "metadata": {},
     "output_type": "execute_result"
    },
    {
     "data": {
      "text/plain": [
       "(12000, 10)"
      ]
     },
     "execution_count": 58,
     "metadata": {},
     "output_type": "execute_result"
    },
    {
     "data": {
      "text/plain": [
       "(12000,)"
      ]
     },
     "execution_count": 58,
     "metadata": {},
     "output_type": "execute_result"
    },
    {
     "data": {
      "text/plain": [
       "array([[ 1.,  0.,  0., ...,  0.,  0.,  0.],\n",
       "       [ 0.,  0.,  0., ...,  0.,  0.,  0.],\n",
       "       [ 0.,  0.,  1., ...,  0.,  0.,  0.],\n",
       "       ..., \n",
       "       [ 0.,  1.,  0., ...,  0.,  0.,  0.],\n",
       "       [ 0.,  0.,  0., ...,  0.,  0.,  0.],\n",
       "       [ 0.,  1.,  0., ...,  0.,  0.,  0.]])"
      ]
     },
     "execution_count": 58,
     "metadata": {},
     "output_type": "execute_result"
    },
    {
     "data": {
      "text/plain": [
       "array([0, 4, 2, ..., 1, 5, 1], dtype=uint8)"
      ]
     },
     "execution_count": 58,
     "metadata": {},
     "output_type": "execute_result"
    }
   ],
   "source": [
    "np.shape(train_s)\n",
    "np.shape(train_ohl)\n",
    "np.shape(train_l)\n",
    "np.shape(valid_s)\n",
    "np.shape(valid_ohl)\n",
    "np.shape(valid_l)\n",
    "valid_ohl\n",
    "valid_l"
   ]
  },
  {
   "cell_type": "code",
   "execution_count": 59,
   "metadata": {},
   "outputs": [
    {
     "name": "stdout",
     "output_type": "stream",
     "text": [
      "The training accuracy is 85.22708333333333 %\n",
      "The validation accuracy is 84.81666666666666 %\n"
     ]
    }
   ],
   "source": [
    "lambda_cnst = 10**-4\n",
    "w_hat = train(train_s,train_ohl,lambda_cnst)\n",
    "predictions_train = predict(w_hat,train_s)\n",
    "predictions_valid = predict(w_hat,valid_s)\n",
    "\n",
    "train_acc = evaluate(predictions_train,train_l)\n",
    "valid_acc = evaluate(predictions_valid,valid_l)\n",
    "\n",
    "print('The training accuracy is {} %'.format(100*train_acc))\n",
    "print('The validation accuracy is {} %'.format(100*valid_acc))\n"
   ]
  },
  {
   "cell_type": "code",
   "execution_count": null,
   "metadata": {
    "collapsed": true,
    "scrolled": true
   },
   "outputs": [],
   "source": [
    "#p_list = [10,100,500,1000,1500,2000,2500,3000,3500,4000,4500,5000,5500,6000]\n",
    "p_list = [10,100,500,2000]\n",
    "\n",
    "train_error_vec = []\n",
    "valid_error_vec = []\n",
    "\n",
    "for p in p_list:\n",
    "    train_s_trans = feature_transform(train_s,p)\n",
    "    valid_s_trans = feature_transform(valid_s,p)\n",
    "    \n",
    "    w_hat = train(train_s_trans,train_ohl,lambda_cnst)\n",
    "\n",
    "    predictions_train = predict(w_hat,train_s_trans)\n",
    "    \n",
    "    predictions_valid = predict(w_hat,valid_s_trans)\n",
    "    \n",
    "    train_err = 1 - evaluate(predictions_train,train_l)\n",
    "    valid_err = 1 - evaluate(predictions_valid,valid_l)\n",
    "    \n",
    "    train_error_vec.append(train_err)\n",
    "    valid_error_vec.append(valid_err)\n"
   ]
  },
  {
   "cell_type": "code",
   "execution_count": null,
   "metadata": {},
   "outputs": [],
   "source": [
    "plt.figure()\n",
    "plt.plot(p_list,train_error_vec,label='training error')\n",
    "plt.plot(p_list,valid_error_vec,label='validation error')\n",
    "plt.xlabel('p')\n",
    "plt.ylabel('error')\n",
    "plt.title('Training and validation error for different values of p')\n",
    "plt.legend()\n",
    "\n",
    "valid_error_vec\n",
    "train_error_vec"
   ]
  },
  {
   "cell_type": "code",
   "execution_count": 62,
   "metadata": {
    "scrolled": false
   },
   "outputs": [
    {
     "data": {
      "text/plain": [
       "(48000, 2000)"
      ]
     },
     "execution_count": 62,
     "metadata": {},
     "output_type": "execute_result"
    },
    {
     "data": {
      "text/plain": [
       "(12000, 2000)"
      ]
     },
     "execution_count": 62,
     "metadata": {},
     "output_type": "execute_result"
    },
    {
     "data": {
      "text/plain": [
       "(60000, 784)"
      ]
     },
     "execution_count": 62,
     "metadata": {},
     "output_type": "execute_result"
    },
    {
     "data": {
      "text/plain": [
       "array([0, 4, 2, ..., 1, 3, 1], dtype=int64)"
      ]
     },
     "execution_count": 62,
     "metadata": {},
     "output_type": "execute_result"
    },
    {
     "data": {
      "text/plain": [
       "array([0, 4, 2, ..., 1, 5, 1], dtype=uint8)"
      ]
     },
     "execution_count": 62,
     "metadata": {},
     "output_type": "execute_result"
    },
    {
     "data": {
      "text/plain": [
       "array([9, 9, 2, ..., 5, 2, 1], dtype=int64)"
      ]
     },
     "execution_count": 62,
     "metadata": {},
     "output_type": "execute_result"
    },
    {
     "data": {
      "text/plain": [
       "array([9, 9, 2, ..., 5, 2, 1], dtype=uint8)"
      ]
     },
     "execution_count": 62,
     "metadata": {},
     "output_type": "execute_result"
    }
   ],
   "source": [
    "np.shape(train_s_trans)\n",
    "np.shape(valid_s_trans)\n",
    "np.shape(x_train)\n",
    "predictions_valid\n",
    "valid_l\n",
    "predictions_train\n",
    "train_l\n"
   ]
  },
  {
   "cell_type": "code",
   "execution_count": null,
   "metadata": {
    "collapsed": true
   },
   "outputs": [],
   "source": [
    "# hoeffding's , using p from above \n",
    "\n",
    "# optimal p \n",
    "p = 4000\n",
    "\n",
    "train_s_trans = feature_transform(train_s,p)\n",
    "w_hat = train(train_s_trans,train_ohl,lambda_cnst)\n",
    "\n",
    "test_trans = feature_transform(x_test,p)\n",
    "\n",
    "predictions_test = predict(w_hat,test_trans)\n",
    "\n",
    "test_acc = evaluate(predictions_test,labels_test)\n",
    "print('The test accuracy is {} %'.format(100*test_acc))\n",
    "\n",
    "sigma = 0.025\n",
    "hoeff = np.sqrt(np.log(2/sigma)/(2*np.shape(test_trans)[0]))"
   ]
  },
  {
   "cell_type": "code",
   "execution_count": 94,
   "metadata": {},
   "outputs": [
    {
     "data": {
      "text/plain": [
       "0.071697928126992008"
      ]
     },
     "execution_count": 94,
     "metadata": {},
     "output_type": "execute_result"
    },
    {
     "data": {
      "text/plain": [
       "0.10130207187300798"
      ]
     },
     "execution_count": 94,
     "metadata": {},
     "output_type": "execute_result"
    },
    {
     "name": "stdout",
     "output_type": "stream",
     "text": [
      "the confidence interval is 7.1697928126992005,10.130207187300798 %\n"
     ]
    }
   ],
   "source": [
    "conf_interval = [test_acc-hoeff,test_acc+hoeff]\n",
    "conf_interval[0]\n",
    "conf_interval[1]\n",
    "print('the confidence interval is {}%, {}%'.format(100*conf_interval[0],100*conf_interval[1]))"
   ]
  },
  {
   "cell_type": "code",
   "execution_count": 54,
   "metadata": {},
   "outputs": [
    {
     "data": {
      "text/plain": [
       "array([7, 2, 1, ..., 4, 5, 6], dtype=int64)"
      ]
     },
     "execution_count": 54,
     "metadata": {},
     "output_type": "execute_result"
    },
    {
     "data": {
      "text/plain": [
       "array([7, 2, 1, ..., 4, 5, 6], dtype=uint8)"
      ]
     },
     "execution_count": 54,
     "metadata": {},
     "output_type": "execute_result"
    },
    {
     "data": {
      "text/plain": [
       "(300,)"
      ]
     },
     "execution_count": 54,
     "metadata": {},
     "output_type": "execute_result"
    }
   ],
   "source": [
    "predictions_test\n",
    "labels_test\n",
    "np.shape(predictions_train)"
   ]
  },
  {
   "cell_type": "code",
   "execution_count": 48,
   "metadata": {},
   "outputs": [
    {
     "data": {
      "text/plain": [
       "<matplotlib.axes._subplots.AxesSubplot at 0x108831588>"
      ]
     },
     "execution_count": 48,
     "metadata": {},
     "output_type": "execute_result"
    },
    {
     "data": {
      "text/plain": [
       "<matplotlib.axes._subplots.AxesSubplot at 0x108831588>"
      ]
     },
     "execution_count": 48,
     "metadata": {},
     "output_type": "execute_result"
    },
    {
     "data": {
      "text/plain": [
       "<matplotlib.axes._subplots.AxesSubplot at 0x108831588>"
      ]
     },
     "execution_count": 48,
     "metadata": {},
     "output_type": "execute_result"
    },
    {
     "data": {
      "text/plain": [
       "0.10480439192806094"
      ]
     },
     "execution_count": 48,
     "metadata": {},
     "output_type": "execute_result"
    },
    {
     "data": {
      "text/plain": [
       "-0.01378800796224541"
      ]
     },
     "execution_count": 48,
     "metadata": {},
     "output_type": "execute_result"
    },
    {
     "data": {
      "image/png": "[encoded data removed]",
      "text/plain": [
       "<matplotlib.figure.Figure at 0x107a366a0>"
      ]
     },
     "metadata": {},
     "output_type": "display_data"
    }
   ],
   "source": [
    "p = 10000\n",
    "b = np.squeeze(2*np.pi*np.random.rand(p,1))\n",
    "sns.distplot(b)\n",
    "var = 0.1\n",
    "std_dev = var**0.5\n",
    "center = 0\n",
    "d = 784\n",
    "g_vec = std_dev*np.random.randn(d,p) + center\n",
    "sns.distplot(g_vec[:,0])\n",
    "sns.distplot(g_vec[:,1])\n",
    "(np.std(g_vec[:,0]))**2\n",
    "np.mean(g_vec[:,0])"
   ]
  },
  {
   "cell_type": "code",
   "execution_count": 55,
   "metadata": {},
   "outputs": [
    {
     "data": {
      "text/plain": [
       "[2.5, 3.5, 4.5]"
      ]
     },
     "execution_count": 55,
     "metadata": {},
     "output_type": "execute_result"
    }
   ],
   "source": [
    "matrix = np.array([[1,2,3],[4,5,6]])\n",
    "[np.mean(i) for i in matrix.T]"
   ]
  },
  {
   "cell_type": "code",
   "execution_count": 56,
   "metadata": {},
   "outputs": [
    {
     "data": {
      "text/plain": [
       "array([[ 0.54030231, -0.41614684, -0.9899925 ],\n",
       "       [-0.65364362,  0.28366219,  0.96017029]])"
      ]
     },
     "execution_count": 56,
     "metadata": {},
     "output_type": "execute_result"
    }
   ],
   "source": [
    "np.cos(matrix)"
   ]
  },
  {
   "cell_type": "code",
   "execution_count": 25,
   "metadata": {
    "collapsed": true
   },
   "outputs": [],
   "source": [
    "a = np.array([1,2,3,4,5,6,7])"
   ]
  },
  {
   "cell_type": "code",
   "execution_count": 27,
   "metadata": {},
   "outputs": [
    {
     "data": {
      "text/plain": [
       "array([2, 3, 4])"
      ]
     },
     "execution_count": 27,
     "metadata": {},
     "output_type": "execute_result"
    }
   ],
   "source": [
    "a[[1,2,3]]"
   ]
  },
  {
   "cell_type": "code",
   "execution_count": 21,
   "metadata": {
    "collapsed": true
   },
   "outputs": [
    {
     "data": {
      "text/plain": [
       "0.83333333333333337"
      ]
     },
     "execution_count": 21,
     "metadata": {},
     "output_type": "execute_result"
    }
   ],
   "source": [
    "evaluate([1,1,1,1,1,1],[1,0,1,1,1,1])"
   ]
  },
  {
   "cell_type": "code",
   "execution_count": null,
   "metadata": {},
   "outputs": [],
   "source": []
  }
 ],
 "metadata": {
  "kernelspec": {
   "display_name": "Python 3",
   "language": "python",
   "name": "python3"
  },
  "language_info": {
   "codemirror_mode": {
    "name": "ipython",
    "version": 3
   },
   "file_extension": ".py",
   "mimetype": "text/x-python",
   "name": "python",
   "nbconvert_exporter": "python",
   "pygments_lexer": "ipython3",
   "version": "3.6.2"
  }
 },
 "nbformat": 4,
 "nbformat_minor": 2
}
